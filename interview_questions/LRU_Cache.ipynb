{
 "cells": [
  {
   "cell_type": "markdown",
   "metadata": {},
   "source": [
    "Problem from Leet Code"
   ]
  },
  {
   "cell_type": "code",
   "execution_count": 1,
   "metadata": {},
   "outputs": [],
   "source": [
    "# Time:  O(1), per operation.\n",
    "# Space: O(k), k is the capacity of cache.\n",
    "\n",
    "# Design and implement a data structure for Least Recently Used (LRU) cache.\n",
    "# It should support the following operations: get and put.\n",
    "#\n",
    "# get(key) - Get the value (will always be positive) of the key if the key exists in the cache,\n",
    "# otherwise return -1.\n",
    "# put(key, value) - Set or insert the value if the key is not already present.\n",
    "# When the cache reached its capacity,\n",
    "# it should invalidate the least recently used item before inserting a new item.\n",
    "#\n",
    "# Follow up:\n",
    "# Could you do both operations in O(1) time complexity?\n",
    "#\n",
    "# Example:\n",
    "#\n",
    "# LRUCache cache = new LRUCache( 2 /* capacity */ );\n",
    "#\n",
    "# cache.put(1, 1);\n",
    "# cache.put(2, 2);\n",
    "# cache.get(1);       // returns 1\n",
    "# cache.put(3, 3);    // evicts key 2\n",
    "# cache.get(2);       // returns -1 (not found)\n",
    "# cache.put(4, 4);    // evicts key 1\n",
    "# cache.get(1);       // returns -1 (not found)\n",
    "# cache.get(3);       // returns 3"
   ]
  },
  {
   "cell_type": "markdown",
   "metadata": {},
   "source": [
    "# Code"
   ]
  },
  {
   "cell_type": "code",
   "execution_count": 7,
   "metadata": {},
   "outputs": [
    {
     "name": "stdout",
     "output_type": "stream",
     "text": [
      "1\n",
      "-1\n",
      "-1\n",
      "3\n",
      "4\n"
     ]
    }
   ],
   "source": [
    "cache = LRUCache(2)\n",
    "\n",
    "cache.put(1, 1)\n",
    "cache.put(2, 2)\n",
    "print(cache.get(1)) # 1 \n",
    "cache.put(3, 3) # evicts 2\n",
    "print(cache.get(2)) # -1\n",
    "cache.put(4, 4) # evicts 1\n",
    "print(cache.get(1)) # -1\n",
    "print(cache.get(3)) # 3\n",
    "print(cache.get(4)) # 4"
   ]
  },
  {
   "cell_type": "markdown",
   "metadata": {},
   "source": [
    "Queue will store the elements \"gotten\".\n",
    "When an element is \"gotten\", it will go to the back of the Queue.\n",
    "When a new element is put, it will also go to the back of the Queue.\n",
    "When we have to remove an element, we'll remove the first element.\n",
    "\n",
    "Above:\n",
    "\n",
    "q.array = [1]\n",
    "\n",
    "q.array = [1, 2]\n",
    "\n",
    "q.cache.get(1) -> q.array = [2,1]\n",
    "\n",
    "q.put(3) -> q.array = [1,3]"
   ]
  },
  {
   "cell_type": "code",
   "execution_count": 4,
   "metadata": {},
   "outputs": [],
   "source": [
    "class Queue:\n",
    "    \n",
    "    def __init__(self):\n",
    "        self.array = []\n",
    "        self.head = None\n",
    "    \n",
    "    def insert(self, node):\n",
    "        '''\n",
    "        Node will be a number\n",
    "        '''\n",
    "        self.array.append(node)\n",
    "    \n",
    "    def push_to_back(self, node):\n",
    "        self.array.remove(node)\n",
    "        self.array.append(node)\n",
    "        \n",
    "    def pop(self):\n",
    "        return self.array.pop(0)\n",
    "        \n",
    "    def is_in(self, node):\n",
    "        return node in self.array "
   ]
  },
  {
   "cell_type": "markdown",
   "metadata": {},
   "source": [
    "LRU Cache"
   ]
  },
  {
   "cell_type": "code",
   "execution_count": 5,
   "metadata": {},
   "outputs": [],
   "source": [
    "class LRUCache:\n",
    "    \n",
    "    def __init__(self, capacity):\n",
    "        self.capacity = capacity\n",
    "        self.queue = Queue() # Just for keeping track of order\n",
    "        self.lookup = [] # List of tuples. If multiple keys, returns first one.\n",
    "        self.size = 0\n",
    "        \n",
    "    def get(self, node):\n",
    "        '''\n",
    "        Returns the last recently used\n",
    "        '''\n",
    "        # Looks up element\n",
    "        node_val = None\n",
    "        for i, (k, v) in enumerate(self.lookup):\n",
    "            if k == node:\n",
    "                node_val = v\n",
    "\n",
    "        # Adjust queue:\n",
    "        # Move node to back of queue\n",
    "        if node_val is not None:\n",
    "            self.queue.push_to_back(node)\n",
    "            return node_val\n",
    "        \n",
    "        else:\n",
    "            return -1\n",
    "            \n",
    "        \n",
    "    def put(self, node, val):\n",
    "        for i, (k, v) in enumerate(self.lookup):\n",
    "            if k == node:\n",
    "                self.lookup[i][1] = val\n",
    "                self.queue.push_to_back(node)\n",
    "                return None\n",
    "        \n",
    "        # If at capacity, push off the Queue\n",
    "        if self.size == self.capacity:\n",
    "            head = self.queue.pop()\n",
    "            for i, (k, v) in enumerate(self.lookup):\n",
    "                if k == head:\n",
    "                    del self.lookup[i]\n",
    "                    break\n",
    "        else:\n",
    "            self.size += 1\n",
    "        \n",
    "        # Always: insert (node, val) into list\n",
    "        self.lookup.append([node, val])\n",
    "        \n",
    "        # Insert node at end of Queue (using `insert`)\n",
    "        self.queue.insert(node)\n",
    "        \n",
    "        return None    "
   ]
  },
  {
   "cell_type": "code",
   "execution_count": 7,
   "metadata": {},
   "outputs": [
    {
     "name": "stdout",
     "output_type": "stream",
     "text": [
      "1\n",
      "-1\n",
      "-1\n",
      "3\n",
      "4\n"
     ]
    }
   ],
   "source": [
    "cache = LRUCache(2)\n",
    "\n",
    "cache.put(1, 1)\n",
    "cache.put(2, 2)\n",
    "print(cache.get(1)) # 1 \n",
    "cache.put(3, 3) # evicts 2\n",
    "print(cache.get(2)) # -1\n",
    "cache.put(4, 4) # evicts 1\n",
    "print(cache.get(1)) # -1\n",
    "print(cache.get(3)) # 3\n",
    "print(cache.get(4)) # 4\n"
   ]
  },
  {
   "cell_type": "markdown",
   "metadata": {},
   "source": [
    "TODO: Make this use a dictionary instead of a list of tuples for the lookup."
   ]
  }
 ],
 "metadata": {
  "kernelspec": {
   "display_name": "Python 3",
   "language": "python",
   "name": "python3"
  },
  "language_info": {
   "codemirror_mode": {
    "name": "ipython",
    "version": 3
   },
   "file_extension": ".py",
   "mimetype": "text/x-python",
   "name": "python",
   "nbconvert_exporter": "python",
   "pygments_lexer": "ipython3",
   "version": "3.6.4"
  }
 },
 "nbformat": 4,
 "nbformat_minor": 2
}
