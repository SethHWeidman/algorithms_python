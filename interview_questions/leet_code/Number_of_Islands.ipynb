{
 "cells": [
  {
   "cell_type": "markdown",
   "metadata": {},
   "source": [
    "Solution to [this LeetCode Problem](https://leetcode.com/problems/number-of-islands/description/)."
   ]
  },
  {
   "cell_type": "code",
   "execution_count": null,
   "metadata": {},
   "outputs": [],
   "source": [
    "matrix1 = [[0,1,0,1,0],\n",
    "           [1,1,0,0,1],\n",
    "           [1,0,0,0,1]]\n",
    "\n",
    "matrix2 = [[0,1,0,1,0],\n",
    "           [0,1,0,0,1],\n",
    "           [0,1,1,0,1]]\n",
    "\n",
    "matrix3 = [[0,1,0,1,0],\n",
    "           [0,1,0,0,1],\n",
    "           [1,0,0,0,1]]\n",
    "\n",
    "def num_islands(matrix):\n",
    "    \n",
    "    count = 0\n",
    "\n",
    "    def searchrows_island(x, y):\n",
    "        if (x == len(matrix) or\n",
    "            y == len(matrix[0]) or \n",
    "            matrix[x][y] <= 0):\n",
    "            return\n",
    "        matrix[x][y] = -1\n",
    "        if y > 0:\n",
    "            searchrows_island(x, y - 1)\n",
    "        searchrows_island(x + 1, y)\n",
    "        searchrows_island(x, y + 1)\n",
    "\n",
    "    for x in range(len(matrix)):\n",
    "        for y in range(len(matrix[0])):\n",
    "            if matrix[x][y] <= 0:\n",
    "                continue\n",
    "            else:\n",
    "                count = count + 1\n",
    "                searchrows_island(x, y)\n",
    "                \n",
    "    return count\n",
    "\n",
    "print(num_islands(matrix1)) # 3\n",
    "print(num_islands(matrix2)) # 3 \n",
    "print(num_islands(matrix3)) # 4"
   ]
  }
 ],
 "metadata": {
  "kernelspec": {
   "display_name": "Python 3",
   "language": "python",
   "name": "python3"
  },
  "language_info": {
   "codemirror_mode": {
    "name": "ipython",
    "version": 3
   },
   "file_extension": ".py",
   "mimetype": "text/x-python",
   "name": "python",
   "nbconvert_exporter": "python",
   "pygments_lexer": "ipython3",
   "version": "3.7.3"
  }
 },
 "nbformat": 4,
 "nbformat_minor": 2
}
