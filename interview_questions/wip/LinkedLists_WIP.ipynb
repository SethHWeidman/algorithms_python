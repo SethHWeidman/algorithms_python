{
 "cells": [
  {
   "cell_type": "markdown",
   "metadata": {},
   "source": [
    "# LinkedLists"
   ]
  },
  {
   "cell_type": "markdown",
   "metadata": {},
   "source": [
    "Implement a Stack as a LinkedList. Implement a Node, then implement a Stack with the `push`, `pop`, and `peek` operations."
   ]
  },
  {
   "cell_type": "code",
   "execution_count": 67,
   "metadata": {},
   "outputs": [],
   "source": [
    "class Node(object):\n",
    "    '''\n",
    "    A Node to be used in a LinkedList\n",
    "    '''\n",
    "    def __init__(self, val):\n",
    "        self.val = val\n",
    "        self.next = None"
   ]
  },
  {
   "cell_type": "code",
   "execution_count": 68,
   "metadata": {},
   "outputs": [],
   "source": [
    "class Stack(object):\n",
    "    '''\n",
    "    Implements a LIFO Stack\n",
    "    '''\n",
    "    def __init__(self):\n",
    "        self.top = None\n",
    "        self.size = 0\n",
    "    \n",
    "    def push(self, node):\n",
    "        '''\n",
    "        Push element onto stack, pushing everything else down one.\n",
    "        '''\n",
    "        self.size += 1\n",
    "        \n",
    "        if not self.top:\n",
    "            self.top = node\n",
    "        else:\n",
    "            node.next = self.top\n",
    "            self.top = node\n",
    "        \n",
    "        \n",
    "    def peek(self, node):\n",
    "        '''\n",
    "        Return top element of Stack, if there is one.\n",
    "        '''\n",
    "        if self.top:\n",
    "            return self.top.value\n",
    "        else:\n",
    "            return None\n",
    "\n",
    "    def pop(self):\n",
    "        '''\n",
    "        Pop top element off of Stack\n",
    "        '''\n",
    "        self.size -= 1\n",
    "        if self.top:\n",
    "            temp = self.top\n",
    "            new_top = self.top.next\n",
    "            self.top = new_top\n",
    "            return temp.val\n",
    "        else:\n",
    "            return None"
   ]
  },
  {
   "cell_type": "code",
   "execution_count": 45,
   "metadata": {},
   "outputs": [
    {
     "name": "stdout",
     "output_type": "stream",
     "text": [
      "1\n"
     ]
    },
    {
     "ename": "TypeError",
     "evalue": "__init__() missing 1 required positional argument: 'val'",
     "output_type": "error",
     "traceback": [
      "\u001b[0;31m---------------------------------------------------------------------------\u001b[0m",
      "\u001b[0;31mTypeError\u001b[0m                                 Traceback (most recent call last)",
      "\u001b[0;32m<ipython-input-45-e9d06b5a71ff>\u001b[0m in \u001b[0;36m<module>\u001b[0;34m()\u001b[0m\n\u001b[1;32m      4\u001b[0m \u001b[0mprint\u001b[0m\u001b[0;34m(\u001b[0m\u001b[0ma\u001b[0m\u001b[0;34m.\u001b[0m\u001b[0mval\u001b[0m\u001b[0;34m)\u001b[0m\u001b[0;34m\u001b[0m\u001b[0m\n\u001b[1;32m      5\u001b[0m \u001b[0;34m\u001b[0m\u001b[0m\n\u001b[0;32m----> 6\u001b[0;31m \u001b[0mb\u001b[0m \u001b[0;34m=\u001b[0m \u001b[0mNode\u001b[0m\u001b[0;34m(\u001b[0m\u001b[0;34m)\u001b[0m \u001b[0;31m# error\u001b[0m\u001b[0;34m\u001b[0m\u001b[0m\n\u001b[0m",
      "\u001b[0;31mTypeError\u001b[0m: __init__() missing 1 required positional argument: 'val'"
     ]
    }
   ],
   "source": [
    "# Testing\n",
    "\n",
    "a = Node(1)\n",
    "print(a.val)"
   ]
  },
  {
   "cell_type": "code",
   "execution_count": 80,
   "metadata": {},
   "outputs": [],
   "source": [
    "c = Node(1)\n",
    "d = Node(2)\n",
    "e = Node(3)"
   ]
  },
  {
   "cell_type": "code",
   "execution_count": 81,
   "metadata": {},
   "outputs": [
    {
     "name": "stdout",
     "output_type": "stream",
     "text": [
      "3\n",
      "3\n",
      "2\n",
      "2\n",
      "1\n",
      "1\n",
      "0\n"
     ]
    }
   ],
   "source": [
    "s = Stack()\n",
    "s.push(c)\n",
    "s.push(d)\n",
    "s.push(e)\n",
    "print(s.size)\n",
    "print(s.pop())\n",
    "print(s.size)\n",
    "print(s.pop())\n",
    "print(s.size)\n",
    "print(s.pop())\n",
    "print(s.size)"
   ]
  },
  {
   "cell_type": "markdown",
   "metadata": {},
   "source": [
    "# Add two numbers"
   ]
  },
  {
   "cell_type": "markdown",
   "metadata": {},
   "source": [
    "Algorithm:\n",
    "\n",
    "1. Initialize a new stack with a Dummy node.\n",
    "2. If the lengths of one of the lists is greater than 0: we have some digits left\n",
    "3. Add both values to \"val\"\n",
    "4. Assign the carry to be the value // 10, and the value the value % 10.\n",
    "5. Add a node to the Stack that contains this value.\n",
    "6. Initialize a new element of the stack that starts with the value 1."
   ]
  },
  {
   "cell_type": "code",
   "execution_count": 138,
   "metadata": {},
   "outputs": [],
   "source": [
    "class Queue(object):\n",
    "    '''\n",
    "    Implements a FIFO Queue\n",
    "    '''\n",
    "    def __init__(self):\n",
    "        self.first = None\n",
    "        self.last = None\n",
    "        self.size = 0\n",
    "    \n",
    "    def push(self, node):\n",
    "        '''\n",
    "        Push element onto queue, pushing everything else down one.\n",
    "        '''\n",
    "        self.size += 1\n",
    "        \n",
    "        if not self.first:\n",
    "            self.first = node\n",
    "            self.first.next = None\n",
    "            self.last = node\n",
    "        else:\n",
    "            self.last.next = node\n",
    "            self.last = node\n",
    "        \n",
    "    def peek(self, node):\n",
    "        '''\n",
    "        Return top element of Stack, if there is one.\n",
    "        '''\n",
    "        if self.first:\n",
    "            return self.first.value\n",
    "        else:\n",
    "            return None\n",
    "\n",
    "    def pop(self):\n",
    "        '''\n",
    "        Pop top element off of Stack\n",
    "        '''\n",
    "        self.size -= 1\n",
    "        if self.first:\n",
    "            temp = self.first\n",
    "            new_first = self.first.next\n",
    "            self.first = new_first\n",
    "            return temp.val\n",
    "        else:\n",
    "            return None"
   ]
  },
  {
   "cell_type": "code",
   "execution_count": 139,
   "metadata": {},
   "outputs": [],
   "source": [
    "class QueueAdd(Queue):\n",
    "    def __init__(self):\n",
    "        super().__init__()\n",
    "    \n",
    "    def add_value_last(self, value):\n",
    "        self.last.val += value"
   ]
  },
  {
   "cell_type": "code",
   "execution_count": 140,
   "metadata": {},
   "outputs": [],
   "source": [
    "def add_numbers(stack1, stack2):\n",
    "    '''\n",
    "    Adds numbers in stack1 and stack2.\n",
    "    (2 -> 4 -> 3) + (5 -> 6 -> 4)\n",
    "    # Output: 7 -> 0 -> 8\n",
    "    '''\n",
    "    out = QueueAdd()\n",
    "    out.push(Node(0))\n",
    "    \n",
    "    # As long as there are numbers in the stacks:\n",
    "    while stack1.size > 0 or stack2.size > 0:\n",
    "        val = 0\n",
    "        \n",
    "        if stack1.size > 0:\n",
    "            val += stack1.pop()\n",
    "        if stack2.size > 0:\n",
    "            val += stack2.pop()\n",
    "            \n",
    "        # Get value and remainder\n",
    "        print(\"val\", val)\n",
    "        value, carry = val % 10, val // 10\n",
    "        out.add_value_last(value)\n",
    "\n",
    "        if carry > 0:\n",
    "            next_val = Node(carry) # may be 0\n",
    "            out.push(next_val)\n",
    "        else:\n",
    "            if stack1.size > 0 or stack2.size > 0:\n",
    "                out.push(Node(0))\n",
    "\n",
    "    \n",
    "    return out"
   ]
  },
  {
   "cell_type": "code",
   "execution_count": 144,
   "metadata": {},
   "outputs": [
    {
     "name": "stdout",
     "output_type": "stream",
     "text": [
      "val 7\n",
      "val 10\n",
      "val 7\n",
      "7\n",
      "0\n",
      "8\n"
     ]
    }
   ],
   "source": [
    "s1 = StackAdd()\n",
    "s1.push(Node(3))\n",
    "s1.push(Node(4))\n",
    "s1.push(Node(2))\n",
    "\n",
    "s2 = StackAdd()\n",
    "s2.push(Node(4))\n",
    "s2.push(Node(6))\n",
    "s2.push(Node(5))\n",
    "\n",
    "# Adds 342 to 465 -> 807\n",
    "\n",
    "s3 = add_numbers(s1, s2)\n",
    "print(s3.pop()) # 7\n",
    "print(s3.pop()) # 0 \n",
    "print(s3.pop()) # 8"
   ]
  },
  {
   "cell_type": "code",
   "execution_count": 145,
   "metadata": {},
   "outputs": [
    {
     "name": "stdout",
     "output_type": "stream",
     "text": [
      "val 7\n",
      "val 10\n",
      "val 12\n",
      "7\n",
      "0\n",
      "3\n",
      "1\n"
     ]
    }
   ],
   "source": [
    "s1 = StackAdd()\n",
    "s1.push(Node(8))\n",
    "s1.push(Node(4))\n",
    "s1.push(Node(2))\n",
    "\n",
    "s2 = StackAdd()\n",
    "s2.push(Node(4))\n",
    "s2.push(Node(6))\n",
    "s2.push(Node(5))\n",
    "\n",
    "# Adds 842 to 465 -> 1307\n",
    "\n",
    "s3 = add_numbers(s1, s2)\n",
    "print(s3.pop()) # 7\n",
    "print(s3.pop()) # 0 \n",
    "print(s3.pop()) # 3\n",
    "print(s3.pop()) # 1"
   ]
  },
  {
   "cell_type": "code",
   "execution_count": 146,
   "metadata": {},
   "outputs": [
    {
     "name": "stdout",
     "output_type": "stream",
     "text": [
      "val 7\n",
      "val 10\n",
      "val 12\n",
      "val 1\n",
      "7\n",
      "0\n",
      "3\n",
      "2\n"
     ]
    }
   ],
   "source": [
    "s1 = StackAdd()\n",
    "s1.push(Node(1))\n",
    "s1.push(Node(8))\n",
    "s1.push(Node(4))\n",
    "s1.push(Node(2))\n",
    "\n",
    "s2 = StackAdd()\n",
    "s2.push(Node(4))\n",
    "s2.push(Node(6))\n",
    "s2.push(Node(5))\n",
    "\n",
    "# Adds 1842 to 465 -> 2307\n",
    "\n",
    "s3 = add_numbers(s1, s2)\n",
    "print(s3.pop()) # 7\n",
    "print(s3.pop()) # 0 \n",
    "print(s3.pop()) # 3\n",
    "print(s3.pop()) # 2"
   ]
  },
  {
   "cell_type": "code",
   "execution_count": null,
   "metadata": {},
   "outputs": [],
   "source": []
  }
 ],
 "metadata": {
  "kernelspec": {
   "display_name": "Python 3",
   "language": "python",
   "name": "python3"
  },
  "language_info": {
   "codemirror_mode": {
    "name": "ipython",
    "version": 3
   },
   "file_extension": ".py",
   "mimetype": "text/x-python",
   "name": "python",
   "nbconvert_exporter": "python",
   "pygments_lexer": "ipython3",
   "version": "3.7.3"
  }
 },
 "nbformat": 4,
 "nbformat_minor": 2
}
