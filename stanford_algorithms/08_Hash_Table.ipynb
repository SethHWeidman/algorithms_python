{
 "cells": [
  {
   "cell_type": "code",
   "execution_count": 1,
   "metadata": {},
   "outputs": [],
   "source": [
    "numbers = {}\n",
    "out_list = []\n",
    "with open(\"2sum.txt\", \"r\") as f:\n",
    "    out_list = [int(x.strip(\"/n\")) for x in f.readlines()]"
   ]
  },
  {
   "cell_type": "markdown",
   "metadata": {},
   "source": [
    "# 2 Sum\n",
    "\n",
    "Strategy:\n",
    "\n",
    "Loop through out list.\n",
    "\n",
    "Put elements into hash table.\n",
    "\n",
    "For each element:\n",
    " \n",
    "    Loop through n = -10000 to 10000\n",
    "    Check if abs(element - n) is in hash table\n",
    "    If so, put n in a set\n",
    "\n",
    "Return the length of n"
   ]
  },
  {
   "cell_type": "code",
   "execution_count": 4,
   "metadata": {},
   "outputs": [
    {
     "data": {
      "text/plain": [
       "[-10, -9, -8, -7, -6, -5, -4, -3, -2, -1, 0, 1, 2, 3, 4, 5, 6, 7, 8, 9]"
      ]
     },
     "execution_count": 4,
     "metadata": {},
     "output_type": "execute_result"
    }
   ],
   "source": [
    "list(range(-10, 10))"
   ]
  },
  {
   "cell_type": "code",
   "execution_count": 12,
   "metadata": {},
   "outputs": [
    {
     "name": "stdout",
     "output_type": "stream",
     "text": [
      "0\n",
      "10000\n",
      "20000\n",
      "30000\n",
      "40000\n",
      "50000\n"
     ]
    },
    {
     "ename": "KeyboardInterrupt",
     "evalue": "",
     "output_type": "error",
     "traceback": [
      "\u001b[0;31m---------------------------------------------------------------------------\u001b[0m",
      "\u001b[0;31mKeyboardInterrupt\u001b[0m                         Traceback (most recent call last)",
      "\u001b[0;32m<ipython-input-12-251c55273e15>\u001b[0m in \u001b[0;36m<module>\u001b[0;34m()\u001b[0m\n\u001b[1;32m      3\u001b[0m     \u001b[0mnumbers\u001b[0m\u001b[0;34m[\u001b[0m\u001b[0mi\u001b[0m\u001b[0;34m]\u001b[0m \u001b[0;34m=\u001b[0m \u001b[0mel\u001b[0m\u001b[0;34m\u001b[0m\u001b[0m\n\u001b[1;32m      4\u001b[0m     \u001b[0;32mfor\u001b[0m \u001b[0mr\u001b[0m \u001b[0;32min\u001b[0m \u001b[0mrange\u001b[0m\u001b[0;34m(\u001b[0m\u001b[0;34m-\u001b[0m\u001b[0;36m10000\u001b[0m\u001b[0;34m,\u001b[0m \u001b[0;36m10001\u001b[0m\u001b[0;34m)\u001b[0m\u001b[0;34m:\u001b[0m\u001b[0;34m\u001b[0m\u001b[0m\n\u001b[0;32m----> 5\u001b[0;31m         \u001b[0;32mif\u001b[0m \u001b[0mel\u001b[0m \u001b[0;34m-\u001b[0m \u001b[0mr\u001b[0m \u001b[0;32min\u001b[0m \u001b[0mnumbers\u001b[0m\u001b[0;34m:\u001b[0m\u001b[0;34m\u001b[0m\u001b[0m\n\u001b[0m\u001b[1;32m      6\u001b[0m             \u001b[0mout_set\u001b[0m\u001b[0;34m.\u001b[0m\u001b[0madd\u001b[0m\u001b[0;34m(\u001b[0m\u001b[0mr\u001b[0m\u001b[0;34m)\u001b[0m\u001b[0;34m\u001b[0m\u001b[0m\n\u001b[1;32m      7\u001b[0m     \u001b[0;32mif\u001b[0m \u001b[0mi\u001b[0m \u001b[0;34m%\u001b[0m \u001b[0;36m1e4\u001b[0m \u001b[0;34m==\u001b[0m \u001b[0;36m0\u001b[0m\u001b[0;34m:\u001b[0m\u001b[0;34m\u001b[0m\u001b[0m\n",
      "\u001b[0;31mKeyboardInterrupt\u001b[0m: "
     ]
    }
   ],
   "source": [
    "out_set = set()\n",
    "for i, el in enumerate(out_list):\n",
    "    numbers[i] = el\n",
    "    for r in range(-10000, 10001):\n",
    "        if el - r in numbers:\n",
    "            out_set.add(r)\n",
    "    if i % 1e4 == 0:\n",
    "        print(i)"
   ]
  },
  {
   "cell_type": "code",
   "execution_count": 16,
   "metadata": {},
   "outputs": [
    {
     "name": "stdout",
     "output_type": "stream",
     "text": [
      "Loading numbers into hash...\n",
      "Searching for 2-Sum variants...\n",
      "Processed 20,000 more, at 20000\n",
      "Current total is 383\n",
      "Processed 20,000 more, at 40000\n",
      "Current total is 407\n",
      "Processed 20,000 more, at 60000\n",
      "Current total is 414\n",
      "Processed 20,000 more, at 80000\n",
      "Current total is 418\n",
      "Processed 20,000 more, at 100000\n",
      "Current total is 419\n",
      "Processed 20,000 more, at 120000\n",
      "Current total is 419\n",
      "Processed 20,000 more, at 140000\n",
      "Current total is 421\n",
      "Processed 20,000 more, at 160000\n",
      "Current total is 421\n",
      "Processed 20,000 more, at 180000\n",
      "Current total is 422\n",
      "Processed 20,000 more, at 200000\n",
      "Current total is 422\n",
      "Processed 20,000 more, at 220000\n",
      "Current total is 422\n",
      "Processed 20,000 more, at 240000\n",
      "Current total is 423\n",
      "Processed 20,000 more, at 260000\n",
      "Current total is 423\n",
      "Processed 20,000 more, at 280000\n",
      "Current total is 424\n",
      "Processed 20,000 more, at 300000\n",
      "Current total is 424\n",
      "Processed 20,000 more, at 320000\n",
      "Current total is 425\n",
      "Processed 20,000 more, at 340000\n",
      "Current total is 425\n",
      "Processed 20,000 more, at 360000\n",
      "Current total is 425\n",
      "Processed 20,000 more, at 380000\n",
      "Current total is 427\n",
      "Processed 20,000 more, at 400000\n",
      "Current total is 427\n",
      "Processed 20,000 more, at 420000\n",
      "Current total is 427\n",
      "Processed 20,000 more, at 440000\n",
      "Current total is 427\n",
      "Processed 20,000 more, at 460000\n",
      "Current total is 427\n",
      "Processed 20,000 more, at 480000\n",
      "Current total is 427\n",
      "Processed 20,000 more, at 500000\n",
      "Current total is 427\n",
      "Processed 20,000 more, at 520000\n",
      "Current total is 427\n",
      "Processed 20,000 more, at 540000\n",
      "Current total is 427\n",
      "Processed 20,000 more, at 560000\n",
      "Current total is 427\n",
      "Processed 20,000 more, at 580000\n",
      "Current total is 427\n",
      "Processed 20,000 more, at 600000\n",
      "Current total is 427\n",
      "Processed 20,000 more, at 620000\n",
      "Current total is 427\n",
      "Processed 20,000 more, at 640000\n",
      "Current total is 427\n",
      "Processed 20,000 more, at 660000\n",
      "Current total is 427\n",
      "Processed 20,000 more, at 680000\n",
      "Current total is 427\n",
      "Processed 20,000 more, at 700000\n",
      "Current total is 427\n",
      "Processed 20,000 more, at 720000\n",
      "Current total is 427\n",
      "Processed 20,000 more, at 740000\n",
      "Current total is 427\n",
      "Processed 20,000 more, at 760000\n",
      "Current total is 427\n",
      "Processed 20,000 more, at 780000\n",
      "Current total is 427\n",
      "Processed 20,000 more, at 800000\n",
      "Current total is 427\n",
      "Processed 20,000 more, at 820000\n",
      "Current total is 427\n",
      "Processed 20,000 more, at 840000\n",
      "Current total is 427\n",
      "Processed 20,000 more, at 860000\n",
      "Current total is 427\n",
      "Processed 20,000 more, at 880000\n",
      "Current total is 427\n",
      "Processed 20,000 more, at 900000\n",
      "Current total is 427\n",
      "Processed 20,000 more, at 920000\n",
      "Current total is 427\n",
      "Processed 20,000 more, at 940000\n",
      "Current total is 427\n",
      "Processed 20,000 more, at 960000\n",
      "Current total is 427\n",
      "Processed 20,000 more, at 980000\n",
      "Current total is 427\n",
      "Answer is: 427\n"
     ]
    }
   ],
   "source": [
    "TARGET_SUM = 10000\n",
    "\n",
    "def main(target_sum, num_array):\n",
    "    \"\"\"\n",
    "    Main control for program.  Takes each line provided by stream_file\n",
    "    and checks if exists in hash, if not calculates number of variants\n",
    "    that meat target_sum provide.\n",
    "    :param target_sum: positive value max sum (int)\n",
    "    :param filename: location of file to read (string)\n",
    "    :return: count: total number (int)\n",
    "    \"\"\"\n",
    "    numbers = dict()\n",
    "    processed = 0\n",
    "    sums = dict()\n",
    "\n",
    "    # get num array from file then insert into hash, de-duping\n",
    "    print(\"Loading numbers into hash...\")\n",
    "    for current_num in num_array:\n",
    "        numbers[current_num] = True\n",
    "\n",
    "    # Iterate through hash and search for each numbers counter range\n",
    "    print(\"Searching for 2-Sum variants...\")\n",
    "    for num in numbers:\n",
    "        processed += 1\n",
    "        for range_num in range(target_sum * -1, target_sum + 1):\n",
    "            counter_num = range_num - num\n",
    "\n",
    "            # if number exists hash, solution is possible\n",
    "            if num == counter_num or counter_num not in numbers or \\\n",
    "               range_num in sums:\n",
    "                continue\n",
    "            pair = tuple(sorted([counter_num, num]))\n",
    "            sums[range_num] = pair\n",
    "\n",
    "        if processed % 20000 == 0:\n",
    "            print(\"Processed 20,000 more, at \" + str(processed))\n",
    "            print(\"Current total is \" + str(len(sums)))\n",
    "\n",
    "    # after all numbers read from file return count\n",
    "    return len(sums)\n",
    "\n",
    "\n",
    "# Process main program logic with both given constants\n",
    "print(\"Answer is: \" + str(main(TARGET_SUM, out_list)))"
   ]
  },
  {
   "cell_type": "code",
   "execution_count": null,
   "metadata": {},
   "outputs": [],
   "source": []
  }
 ],
 "metadata": {
  "kernelspec": {
   "display_name": "Python 3",
   "language": "python",
   "name": "python3"
  },
  "language_info": {
   "codemirror_mode": {
    "name": "ipython",
    "version": 3
   },
   "file_extension": ".py",
   "mimetype": "text/x-python",
   "name": "python",
   "nbconvert_exporter": "python",
   "pygments_lexer": "ipython3",
   "version": "3.6.4"
  }
 },
 "nbformat": 4,
 "nbformat_minor": 2
}
