{
 "cells": [
  {
   "cell_type": "markdown",
   "metadata": {},
   "source": [
    "# Shortest Path"
   ]
  },
  {
   "cell_type": "code",
   "execution_count": 2,
   "metadata": {},
   "outputs": [],
   "source": [
    "graph = {}\n",
    "graph['a'] = {'b': 1, 'c': 4}\n",
    "graph['b'] = {'a': 1, 'c': 2, 'd': 6}\n",
    "graph['c'] = {'a': 4, 'b': 2, 'd': 3}\n",
    "graph['d'] = {'b': 6, 'c': 3}"
   ]
  },
  {
   "cell_type": "code",
   "execution_count": 100,
   "metadata": {},
   "outputs": [],
   "source": [
    "def shortest_path(graph, node1, node2, explored=None):\n",
    "    \n",
    "    if explored is None:\n",
    "        explored = []\n",
    "\n",
    "    explored.append(node1)\n",
    "    all_nodes = list(graph.keys())\n",
    "    \n",
    "    distances_array = {}\n",
    "    distances_array[node1] = {node1: 0}\n",
    "    \n",
    "#     shortest_paths = {}\n",
    "#     shortest_paths[node1] = []\n",
    "\n",
    "    while set(explored) != set(all_nodes):\n",
    "        not_explored = [x not in explored for x in all_nodes]\n",
    "        \n",
    "        # Get all relevant edges\n",
    "        edges = []\n",
    "        for node in explored:\n",
    "            node_edges = list(graph[node].keys())\n",
    "            edges = edges + [(node, node_edge) for node_edge in node_edges if node_edge not in explored]\n",
    "        \n",
    "        # Get shortest next edge\n",
    "        min_length = 999\n",
    "        min_edge = None\n",
    "        for edge in edges:\n",
    "            in_node = edge[0]\n",
    "            out_node = edge[1]\n",
    "            # previous length\n",
    "            in_length = distances_array[node1][in_node]\n",
    "            \n",
    "            # next length\n",
    "            out_length = graph[in_node][out_node]\n",
    "            \n",
    "            total_length = in_length + out_length\n",
    "            if total_length < min_length:\n",
    "                min_length = total_length\n",
    "                min_edge = edge\n",
    "        \n",
    "        old_node = min_edge[0]\n",
    "        next_node = min_edge[1]\n",
    "        explored.append(next_node)\n",
    "        distances_array[node1][next_node] = distances_array[node1][old_node] + graph[old_node][next_node]\n",
    "#         shortest_paths[node1].append(next_node)\n",
    "\n",
    "    return distances_array[node1][node2]"
   ]
  },
  {
   "cell_type": "code",
   "execution_count": 101,
   "metadata": {},
   "outputs": [
    {
     "data": {
      "text/plain": [
       "{'a': {'b': 1, 'c': 4},\n",
       " 'b': {'a': 1, 'c': 2, 'd': 6},\n",
       " 'c': {'a': 4, 'b': 2, 'd': 3},\n",
       " 'd': {'b': 6, 'c': 3}}"
      ]
     },
     "execution_count": 101,
     "metadata": {},
     "output_type": "execute_result"
    }
   ],
   "source": [
    "graph"
   ]
  },
  {
   "cell_type": "code",
   "execution_count": 103,
   "metadata": {},
   "outputs": [
    {
     "name": "stdout",
     "output_type": "stream",
     "text": [
      "6\n",
      "3\n",
      "1\n",
      "2\n",
      "3\n"
     ]
    }
   ],
   "source": [
    "print(shortest_path(graph, 'a', 'd')) # 6: a -> b ->a\n",
    "print(shortest_path(graph, 'a', 'c')) # 3\n",
    "print(shortest_path(graph, 'a', 'b')) # 1\n",
    "print(shortest_path(graph, 'b', 'c')) # 2\n",
    "print(shortest_path(graph, 'c', 'd')) # 3"
   ]
  },
  {
   "cell_type": "markdown",
   "metadata": {},
   "source": [
    "## List quirk Python"
   ]
  },
  {
   "cell_type": "code",
   "execution_count": 96,
   "metadata": {},
   "outputs": [
    {
     "name": "stdout",
     "output_type": "stream",
     "text": [
      "[1, 2]\n",
      "[1, 2, 3, 4]\n"
     ]
    }
   ],
   "source": [
    "def test(a, b, out_list=[]):\n",
    "    out_list.append(a)\n",
    "    out_list.append(b)\n",
    "    return out_list\n",
    "\n",
    "print(test(1, 2)) # [1, 2]\n",
    "print(test(3, 4 )) # [1, 2]"
   ]
  },
  {
   "cell_type": "code",
   "execution_count": null,
   "metadata": {},
   "outputs": [],
   "source": []
  }
 ],
 "metadata": {
  "kernelspec": {
   "display_name": "Python 3",
   "language": "python",
   "name": "python3"
  },
  "language_info": {
   "codemirror_mode": {
    "name": "ipython",
    "version": 3
   },
   "file_extension": ".py",
   "mimetype": "text/x-python",
   "name": "python",
   "nbconvert_exporter": "python",
   "pygments_lexer": "ipython3",
   "version": "3.6.4"
  }
 },
 "nbformat": 4,
 "nbformat_minor": 2
}
