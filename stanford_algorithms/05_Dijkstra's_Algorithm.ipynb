{
 "cells": [
  {
   "cell_type": "markdown",
   "metadata": {},
   "source": [
    "# Shortest Path"
   ]
  },
  {
   "cell_type": "code",
   "execution_count": 7,
   "metadata": {},
   "outputs": [],
   "source": [
    "graph = {}\n",
    "graph['a'] = {'b': 1, 'c': 4}\n",
    "graph['b'] = {'a': 1, 'c': 2, 'd': 6}\n",
    "graph['c'] = {'a': 4, 'b': 2, 'd': 3}\n",
    "graph['d'] = {'b': 6, 'c': 3}"
   ]
  },
  {
   "cell_type": "code",
   "execution_count": 14,
   "metadata": {},
   "outputs": [],
   "source": [
    "def shortest_path(graph, node1, node2, explored=None):\n",
    "    '''\n",
    "    Implements Djikstra's Shortest Path algorithm.\n",
    "    Expects a graph of the form:\n",
    "    {'from_2': {to_1: distance_1, to_2: distance_2, to_3, distance_3, ...}, 'from_2': {...}}\n",
    "    param node1: the starting node\n",
    "    param node2: the ending node\n",
    "    param explored: the ending node\n",
    "    returns: the min distance\n",
    "    '''\n",
    "    if explored is None:\n",
    "        explored = []\n",
    "\n",
    "    explored.append(node1)\n",
    "    all_nodes = list(graph.keys())\n",
    "    \n",
    "    distances_array = {}\n",
    "    distances_array[node1] = {node1: 0}\n",
    "    \n",
    "    while set(explored) != set(all_nodes):\n",
    "        not_explored = [x not in explored for x in all_nodes]\n",
    "        \n",
    "        # Get all relevant edges\n",
    "        edges = []\n",
    "        for node in explored:\n",
    "            node_edges = list(graph[node].keys())\n",
    "            edges = edges + [(node, node_edge) for node_edge in node_edges if node_edge not in explored]\n",
    "        \n",
    "        \n",
    "        # Get shortest next edge\n",
    "        # At this point edges is a list of tuples of the form [(vertex, distance)]\n",
    "        min_length = 1e9\n",
    "        min_edge = None\n",
    "        for edge in edges:\n",
    "            in_node = edge[0]\n",
    "            out_node = edge[1]\n",
    "            # previous length\n",
    "            in_length = distances_array[node1][in_node]\n",
    "\n",
    "            # next length\n",
    "            out_length = graph[in_node][out_node]\n",
    "            total_length = in_length + out_length\n",
    "            if total_length < min_length:\n",
    "                min_length = total_length\n",
    "                min_edge = edge\n",
    "        \n",
    "        old_node = min_edge[0]\n",
    "        next_node = min_edge[1]\n",
    "        explored.append(next_node)\n",
    "        \n",
    "        # Add the distance of this minimum node\n",
    "        distances_array[node1][next_node] = distances_array[node1][old_node] + graph[old_node][next_node]\n",
    "\n",
    "    return distances_array[node1][node2]"
   ]
  },
  {
   "cell_type": "code",
   "execution_count": 15,
   "metadata": {},
   "outputs": [
    {
     "data": {
      "text/plain": [
       "3"
      ]
     },
     "execution_count": 15,
     "metadata": {},
     "output_type": "execute_result"
    }
   ],
   "source": [
    "shortest_path(graph, 'a', 'c')"
   ]
  },
  {
   "cell_type": "markdown",
   "metadata": {},
   "source": [
    "## Class assignment"
   ]
  },
  {
   "cell_type": "code",
   "execution_count": 19,
   "metadata": {},
   "outputs": [],
   "source": [
    "from s3_helpers import get_s3_bucket, get_object_from_bucket, add_object_to_bucket"
   ]
  },
  {
   "cell_type": "code",
   "execution_count": 20,
   "metadata": {},
   "outputs": [],
   "source": [
    "stanford_bucket = get_s3_bucket('stanford-algorithms')"
   ]
  },
  {
   "cell_type": "code",
   "execution_count": 23,
   "metadata": {},
   "outputs": [],
   "source": [
    "input_list = get_object_from_bucket(stanford_bucket, 'dijkstra-list')"
   ]
  },
  {
   "cell_type": "markdown",
   "metadata": {},
   "source": [
    "Read the data into the graph structure defined above:"
   ]
  },
  {
   "cell_type": "code",
   "execution_count": 24,
   "metadata": {},
   "outputs": [],
   "source": [
    "big_graph = {}\n",
    "def add_node_to_graph(graph, node_info):\n",
    "    graph[node_info[0]] = {}\n",
    "    for el in node_info[1:]:\n",
    "        node, distance = el.split(',')\n",
    "        graph[node_info[0]][node] = int(distance)\n",
    "    return graph\n",
    "for node in input_list:\n",
    "    big_graph = add_node_to_graph(big_graph, node)"
   ]
  },
  {
   "cell_type": "markdown",
   "metadata": {},
   "source": [
    "# Test on big graph"
   ]
  },
  {
   "cell_type": "markdown",
   "metadata": {},
   "source": [
    "Test algorithm on the big graph"
   ]
  },
  {
   "cell_type": "code",
   "execution_count": 28,
   "metadata": {},
   "outputs": [
    {
     "name": "stdout",
     "output_type": "stream",
     "text": [
      "2599\n",
      "2610\n",
      "2947\n",
      "2052\n",
      "2367\n",
      "2399\n",
      "2029\n",
      "2442\n",
      "2505\n",
      "3068\n"
     ]
    }
   ],
   "source": [
    "print(shortest_path(big_graph, '1', '7'))\n",
    "print(shortest_path(big_graph, '1', '37'))\n",
    "print(shortest_path(big_graph, '1', '59'))\n",
    "print(shortest_path(big_graph, '1', '82'))\n",
    "print(shortest_path(big_graph, '1', '99'))\n",
    "print(shortest_path(big_graph, '1', '115'))\n",
    "print(shortest_path(big_graph, '1', '133'))\n",
    "print(shortest_path(big_graph, '1', '165'))\n",
    "print(shortest_path(big_graph, '1', '188'))\n",
    "print(shortest_path(big_graph, '1', '197'))"
   ]
  },
  {
   "cell_type": "markdown",
   "metadata": {},
   "source": [
    "All correct!"
   ]
  }
 ],
 "metadata": {
  "kernelspec": {
   "display_name": "Python 3",
   "language": "python",
   "name": "python3"
  },
  "language_info": {
   "codemirror_mode": {
    "name": "ipython",
    "version": 3
   },
   "file_extension": ".py",
   "mimetype": "text/x-python",
   "name": "python",
   "nbconvert_exporter": "python",
   "pygments_lexer": "ipython3",
   "version": "3.6.4"
  }
 },
 "nbformat": 4,
 "nbformat_minor": 2
}
