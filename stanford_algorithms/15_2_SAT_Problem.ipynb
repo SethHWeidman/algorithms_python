{
 "cells": [
  {
   "cell_type": "code",
   "execution_count": null,
   "metadata": {},
   "outputs": [
    {
     "name": "stdout",
     "output_type": "stream",
     "text": [
      "file 1\n",
      "result: satisfiable\n",
      "\n",
      "file 2\n"
     ]
    }
   ],
   "source": [
    "import math\n",
    "import random\n",
    "import gc\n",
    "\n",
    "def papadimitrou(clauses):\n",
    "\n",
    "    n = len(clauses)\n",
    "    \n",
    "    for j in range(int(math.log(n, 2))):\n",
    "        assignment = random_assignment(n)\n",
    "        i = 2*n*n\n",
    "        while i > 0:\n",
    "            i -= 1\n",
    "            clause_index = unsatisfied_clause(clauses, assignment)\n",
    "            if clause_index is None:\n",
    "                return 'satisfiable'\n",
    "            else:\n",
    "                var_index = abs(clauses[clause_index][random.randint(0, 1)]) - 1\n",
    "                assignment[var_index] = 1 - assignment[var_index]\n",
    "                \n",
    "    return 'unsatisfiable'\n",
    "    \n",
    "    \n",
    "def random_assignment(n):\n",
    "    return [random.randint(0, 1) for _ in range(n)]\n",
    "\n",
    "\n",
    "def unsatisfied_clause(clauses, assignment):\n",
    "    for i in range(len(clauses)):\n",
    "        if ((clauses[i][0] < 0 and assignment[abs(clauses[i][0])-1] == 1) or     \\\n",
    "            (clauses[i][0] > 0 and assignment[abs(clauses[i][0])-1] == 0)) and   \\\n",
    "            ((clauses[i][1] < 0 and assignment[abs(clauses[i][1])-1] == 1) or    \\\n",
    "            (clauses[i][1] > 0 and assignment[abs(clauses[i][1])-1] == 0)):\n",
    "            return i\n",
    "    return None\n",
    "    \n",
    "    \n",
    "def main():\n",
    "    for i in range(1, 7):\n",
    "        print('file %i' % i)\n",
    "        f = open('2sat%i.txt' % i)\n",
    "        n = int(f.readline())\n",
    "        clauses = [[int(x) for x in line.split()] for line in f]\n",
    "        \n",
    "        print('result: %s\\n' % papadimitrou(clauses))\n",
    "        \n",
    "        gc.collect()\n",
    "\n",
    "\n",
    "main()"
   ]
  },
  {
   "cell_type": "code",
   "execution_count": null,
   "metadata": {},
   "outputs": [
    {
     "name": "stdout",
     "output_type": "stream",
     "text": [
      "file 2\n"
     ]
    }
   ],
   "source": [
    "import math\n",
    "import random\n",
    "import gc\n",
    "\n",
    "def papadimitrou(clauses):\n",
    "\n",
    "    n = len(clauses)\n",
    "    \n",
    "    for j in range(int(math.log(n, 2))):\n",
    "        assignment = random_assignment(n)\n",
    "        i = 2*n*n\n",
    "        while i > 0:\n",
    "            i -= 1\n",
    "            clause_index = unsatisfied_clause(clauses, assignment)\n",
    "            if clause_index is None:\n",
    "                return 'satisfiable'\n",
    "            else:\n",
    "                var_index = abs(clauses[clause_index][random.randint(0, 1)]) - 1\n",
    "                assignment[var_index] = 1 - assignment[var_index]\n",
    "                \n",
    "    return 'unsatisfiable'\n",
    "    \n",
    "    \n",
    "def random_assignment(n):\n",
    "    return [random.randint(0, 1) for _ in range(n)]\n",
    "\n",
    "\n",
    "def unsatisfied_clause(clauses, assignment):\n",
    "    for i in range(len(clauses)):\n",
    "        if ((clauses[i][0] < 0 and assignment[abs(clauses[i][0])-1] == 1) or     \\\n",
    "            (clauses[i][0] > 0 and assignment[abs(clauses[i][0])-1] == 0)) and   \\\n",
    "            ((clauses[i][1] < 0 and assignment[abs(clauses[i][1])-1] == 1) or    \\\n",
    "            (clauses[i][1] > 0 and assignment[abs(clauses[i][1])-1] == 0)):\n",
    "            return i\n",
    "    return None\n",
    "    \n",
    "    \n",
    "def main():\n",
    "    for i in range(2, 7):\n",
    "        print('file %i' % i)\n",
    "        f = open('2sat%i.txt' % i)\n",
    "        n = int(f.readline())\n",
    "        clauses = [[int(x) for x in line.split()] for line in f]\n",
    "        \n",
    "        print('result: %s\\n' % papadimitrou(clauses))\n",
    "        \n",
    "        gc.collect()\n",
    "\n",
    "\n",
    "main()"
   ]
  },
  {
   "cell_type": "code",
   "execution_count": null,
   "metadata": {},
   "outputs": [],
   "source": []
  }
 ],
 "metadata": {
  "kernelspec": {
   "display_name": "Python 3",
   "language": "python",
   "name": "python3"
  },
  "language_info": {
   "codemirror_mode": {
    "name": "ipython",
    "version": 3
   },
   "file_extension": ".py",
   "mimetype": "text/x-python",
   "name": "python",
   "nbconvert_exporter": "python",
   "pygments_lexer": "ipython3",
   "version": "3.6.4"
  }
 },
 "nbformat": 4,
 "nbformat_minor": 2
}
