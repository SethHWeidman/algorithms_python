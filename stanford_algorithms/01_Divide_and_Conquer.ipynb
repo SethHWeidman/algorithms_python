{
 "cells": [
  {
   "cell_type": "markdown",
   "metadata": {},
   "source": [
    "# Merge Sort"
   ]
  },
  {
   "cell_type": "markdown",
   "metadata": {},
   "source": [
    "Idea behind Merge Sort:\n",
    "\n",
    "1. Split the list in two, and sort the left and right sides.\n",
    "2. Initialize pointers at the beginning of the left list and the beginning of the right list.\n",
    "3. Move through the left and right lists, adding the minimum element to an output list at each time step, and incrementing the appropriate pointer.\n",
    "4. If we reach the end of either list, just add the remaining elements in the other list."
   ]
  },
  {
   "cell_type": "code",
   "execution_count": null,
   "metadata": {},
   "outputs": [],
   "source": [
    "def merge_sort(input_list):\n",
    "    '''\n",
    "    Peforms the `merge_sort` algorithm on a list. \n",
    "    This algorithm has complexity O(n*log(n)) on average\n",
    "    param input_list: list with elements that support comparison\n",
    "    return output_list: list with same elements as input_list in sorted order\n",
    "    '''\n",
    "    n = len(input_list)\n",
    "    if n == 0 or n == 1:\n",
    "        return input_list \n",
    "    \n",
    "    mid = n // 2\n",
    "    \n",
    "    left = input_list[:mid]\n",
    "    right = input_list[mid:]\n",
    "    \n",
    "    left = merge_sort(left)\n",
    "    right = merge_sort(right)\n",
    "    \n",
    "    i = 0\n",
    "    j = 0\n",
    "    k = 0\n",
    "    \n",
    "    output_list = []\n",
    "    \n",
    "    while k < n:\n",
    "        \n",
    "        # Check if we are at the end of a list\n",
    "        if i == len(left):\n",
    "            output_list = output_list + right[j:]\n",
    "            break  \n",
    "        elif j == len(right):\n",
    "            output_list = output_list + left[i:]\n",
    "            break\n",
    "        \n",
    "        # Otherwise, we have two elements to compare\n",
    "        elif left[i] < right[j]:\n",
    "            output_list.append(left[i])\n",
    "            i+=1\n",
    "        else:\n",
    "            output_list.append(right[j])\n",
    "            j+=1\n",
    "        k+=1\n",
    "    return output_list"
   ]
  },
  {
   "cell_type": "markdown",
   "metadata": {},
   "source": [
    "# Count Inversions"
   ]
  },
  {
   "cell_type": "code",
   "execution_count": null,
   "metadata": {},
   "outputs": [],
   "source": [
    "def count_inversions(input_list):\n",
    "    '''\n",
    "    Uses merge sort to count the number of inversions in a list. \n",
    "    For example, the list [1, 3, 2] has just one inversion, since 3 comes before 2, \n",
    "    whereas [3, 2, 1] has three inversions since three comes before both 2 and 1, \n",
    "    and 2 comes before 1.\n",
    "    param input_list: list with elements that support comparison\n",
    "    return total_inversions: the number of inversions in the input list\n",
    "    return output_list: list with same elements as input_list in sorted order\n",
    "    '''   \n",
    "\n",
    "    n = len(input_list)\n",
    "    if n == 1:\n",
    "        return 0, input_list\n",
    "\n",
    "    mid = n // 2\n",
    "    \n",
    "    left = input_list[:mid]\n",
    "    right = input_list[mid:]\n",
    "    \n",
    "    left_inversions, left = count_inversions(left)\n",
    "    right_inversions, right = count_inversions(right)\n",
    "    \n",
    "    i = 0\n",
    "    j = 0\n",
    "    k = 0\n",
    "    \n",
    "    split_inversions = 0\n",
    "    \n",
    "    # For examining a given left-right split:\n",
    "    # Left and right are assumed to be sorted\n",
    "    while k < n:\n",
    "        # If we have reached the end of either sublist, we have no more inversions, and we are done\n",
    "        if i == len(left) or j == len(right):\n",
    "            break\n",
    "        \n",
    "        # Otherwise, we have two elements to compare\n",
    "        elif left[i] < right[j]:\n",
    "            # This is what we expect, since we want everything in \n",
    "            # left to be less than everything in right \n",
    "            i+=1\n",
    "        else:\n",
    "            # Otherwise we have len(left) - i inversions:\n",
    "            # this case implies that every element from left[i] to the end\n",
    "            # of left is less than right[j]\n",
    "            # This is because i < j implies left[i] < left[j]\n",
    "            print(\"Left:\", left)\n",
    "            print(\"Right:\", right)\n",
    "            print(\"i:\", i)\n",
    "            print(\"j:\", j)\n",
    "            split_inversions += len(left) - i\n",
    "\n",
    "            j+=1\n",
    "        k+=1\n",
    "\n",
    "    total_inversions = left_inversions + right_inversions + split_inversions\n",
    "\n",
    "    sorted_list = merge_sort(input_list)    \n",
    "    \n",
    "    return total_inversions, sorted_list"
   ]
  },
  {
   "cell_type": "markdown",
   "metadata": {},
   "source": [
    "### Testing"
   ]
  },
  {
   "cell_type": "code",
   "execution_count": null,
   "metadata": {},
   "outputs": [],
   "source": [
    "# test_list = [1, 3, 5, 2, 6, 4]\n",
    "test_list_2 = [6, 5, 4, 3, 2, 1]\n",
    "# test_list_3 = [3]\n",
    "# print(count_inversions(test_list))\n",
    "print(count_inversions(test_list_2))\n",
    "# print(count_inversions(test_list_3))"
   ]
  },
  {
   "cell_type": "markdown",
   "metadata": {},
   "source": [
    "Works on simple test cases"
   ]
  },
  {
   "cell_type": "markdown",
   "metadata": {},
   "source": [
    "## Testing complexity"
   ]
  },
  {
   "cell_type": "code",
   "execution_count": null,
   "metadata": {},
   "outputs": [],
   "source": [
    "import random\n",
    "\n",
    "def gen_list(exp, seed=1):\n",
    "    random.seed(seed)\n",
    "    list_len = int(10 ** (exp-1))\n",
    "    test_list = list(range(list_len))\n",
    "    random.shuffle(test_list)\n",
    "    return test_list"
   ]
  },
  {
   "cell_type": "code",
   "execution_count": null,
   "metadata": {},
   "outputs": [],
   "source": [
    "import time\n",
    "def runtime_exp(exp, func):\n",
    "    start = time.time()\n",
    "    func(gen_list(exp, seed=20618))\n",
    "    end = time.time()\n",
    "    run_time = round((end-start), 3)\n",
    "    return run_time"
   ]
  },
  {
   "cell_type": "code",
   "execution_count": null,
   "metadata": {},
   "outputs": [],
   "source": [
    "[runtime_exp(x, merge_sort) for x in [3,4,5,6]]"
   ]
  },
  {
   "cell_type": "code",
   "execution_count": null,
   "metadata": {},
   "outputs": [],
   "source": [
    "[runtime_exp(x, count_inversions) for x in [3,4,5,6]]"
   ]
  },
  {
   "cell_type": "markdown",
   "metadata": {},
   "source": [
    "Empirically, both functions seem to be growing by less than a factor of $n$ as the input length increases."
   ]
  },
  {
   "cell_type": "markdown",
   "metadata": {},
   "source": [
    "# Class assignment"
   ]
  },
  {
   "cell_type": "markdown",
   "metadata": {},
   "source": [
    "This counts inversions on the file provided in the class, obtaining the right answer."
   ]
  },
  {
   "cell_type": "code",
   "execution_count": null,
   "metadata": {},
   "outputs": [],
   "source": [
    "from s3_helpers import get_s3_bucket, get_object_from_bucket"
   ]
  },
  {
   "cell_type": "code",
   "execution_count": null,
   "metadata": {},
   "outputs": [],
   "source": [
    "stanford_bucket = get_s3_bucket('stanford-algorithms')"
   ]
  },
  {
   "cell_type": "code",
   "execution_count": null,
   "metadata": {},
   "outputs": [],
   "source": [
    "input_list = get_object_from_bucket(stanford_bucket, 'inversions-array')"
   ]
  },
  {
   "cell_type": "code",
   "execution_count": null,
   "metadata": {},
   "outputs": [],
   "source": [
    "inversions, sorted_list = count_inversions(input_list)"
   ]
  },
  {
   "cell_type": "code",
   "execution_count": null,
   "metadata": {},
   "outputs": [],
   "source": [
    "print(inversions)\n",
    "print(sorted_list[:10], sorted_list[-10:])"
   ]
  }
 ],
 "metadata": {
  "kernelspec": {
   "display_name": "Python 3",
   "language": "python",
   "name": "python3"
  },
  "language_info": {
   "codemirror_mode": {
    "name": "ipython",
    "version": 3
   },
   "file_extension": ".py",
   "mimetype": "text/x-python",
   "name": "python",
   "nbconvert_exporter": "python",
   "pygments_lexer": "ipython3",
   "version": "3.6.5"
  }
 },
 "nbformat": 4,
 "nbformat_minor": 2
}
