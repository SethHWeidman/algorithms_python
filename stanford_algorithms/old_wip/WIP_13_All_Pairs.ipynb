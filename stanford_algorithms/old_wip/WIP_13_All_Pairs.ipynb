{
 "cells": [
  {
   "cell_type": "code",
   "execution_count": 4,
   "metadata": {},
   "outputs": [],
   "source": [
    "from s3_helpers import get_s3_bucket, get_object_from_bucket, add_object_to_bucket\n",
    "\n",
    "stanford_bucket = get_s3_bucket('stanford-algorithms')\n",
    "\n",
    "graph_info1 = get_object_from_bucket(stanford_bucket, 'all-pairs-graph-1')\n",
    "graph_info2 = get_object_from_bucket(stanford_bucket, 'all-pairs-graph-2')\n",
    "graph_info3 = get_object_from_bucket(stanford_bucket, 'all-pairs-graph-3')"
   ]
  },
  {
   "cell_type": "code",
   "execution_count": 3,
   "metadata": {},
   "outputs": [],
   "source": [
    "graph_info1 = file_to_graph('g1.txt')\n",
    "graph_info2 = file_to_graph('g2.txt')\n",
    "graph_info3 = file_to_graph('g3.txt')"
   ]
  },
  {
   "cell_type": "code",
   "execution_count": 5,
   "metadata": {},
   "outputs": [],
   "source": [
    "graph1 = graph_info1[0]\n",
    "graph2 = graph_info2[0]\n",
    "graph3 = graph_info3[0]\n",
    "\n",
    "num_vertices1 = graph_info1[1]\n",
    "num_vertices2 = graph_info2[1]\n",
    "num_vertices3 = graph_info3[1]"
   ]
  },
  {
   "cell_type": "code",
   "execution_count": 10,
   "metadata": {},
   "outputs": [],
   "source": [
    "A = [[[None for i in range(num_vertices1 + 1)] for j in range(num_vertices1 + 1)] for k in range(num_vertices1 + 1)]"
   ]
  },
  {
   "cell_type": "code",
   "execution_count": null,
   "metadata": {},
   "outputs": [],
   "source": [
    "print(len(A))\n",
    "print(len(A[0]))\n",
    "print((len(A[0][0])))"
   ]
  },
  {
   "cell_type": "markdown",
   "metadata": {},
   "source": [
    "**Base cases**"
   ]
  },
  {
   "cell_type": "code",
   "execution_count": 7,
   "metadata": {},
   "outputs": [
    {
     "ename": "NameError",
     "evalue": "name 'A' is not defined",
     "output_type": "error",
     "traceback": [
      "\u001b[0;31m---------------------------------------------------------------------------\u001b[0m",
      "\u001b[0;31mNameError\u001b[0m                                 Traceback (most recent call last)",
      "\u001b[0;32m<ipython-input-7-7d54308cfb3a>\u001b[0m in \u001b[0;36m<module>\u001b[0;34m()\u001b[0m\n\u001b[1;32m      2\u001b[0m     \u001b[0;32mfor\u001b[0m \u001b[0mj\u001b[0m \u001b[0;32min\u001b[0m \u001b[0mrange\u001b[0m\u001b[0;34m(\u001b[0m\u001b[0mnum_vertices1\u001b[0m \u001b[0;34m+\u001b[0m \u001b[0;36m1\u001b[0m\u001b[0;34m)\u001b[0m\u001b[0;34m:\u001b[0m\u001b[0;34m\u001b[0m\u001b[0m\n\u001b[1;32m      3\u001b[0m         \u001b[0;32mif\u001b[0m \u001b[0mi\u001b[0m \u001b[0;34m==\u001b[0m \u001b[0;36m0\u001b[0m \u001b[0;32mor\u001b[0m \u001b[0mj\u001b[0m \u001b[0;34m==\u001b[0m \u001b[0;36m0\u001b[0m\u001b[0;34m:\u001b[0m\u001b[0;34m\u001b[0m\u001b[0m\n\u001b[0;32m----> 4\u001b[0;31m             \u001b[0mA\u001b[0m\u001b[0;34m[\u001b[0m\u001b[0mi\u001b[0m\u001b[0;34m]\u001b[0m\u001b[0;34m[\u001b[0m\u001b[0mj\u001b[0m\u001b[0;34m]\u001b[0m\u001b[0;34m[\u001b[0m\u001b[0;36m0\u001b[0m\u001b[0;34m]\u001b[0m \u001b[0;34m=\u001b[0m \u001b[0;36m0\u001b[0m\u001b[0;34m\u001b[0m\u001b[0m\n\u001b[0m\u001b[1;32m      5\u001b[0m         \u001b[0;32melif\u001b[0m \u001b[0mi\u001b[0m \u001b[0;34m==\u001b[0m \u001b[0mj\u001b[0m\u001b[0;34m:\u001b[0m\u001b[0;34m\u001b[0m\u001b[0m\n\u001b[1;32m      6\u001b[0m             \u001b[0mA\u001b[0m\u001b[0;34m[\u001b[0m\u001b[0mi\u001b[0m\u001b[0;34m]\u001b[0m\u001b[0;34m[\u001b[0m\u001b[0mj\u001b[0m\u001b[0;34m]\u001b[0m\u001b[0;34m[\u001b[0m\u001b[0;36m0\u001b[0m\u001b[0;34m]\u001b[0m \u001b[0;34m=\u001b[0m \u001b[0;36m0\u001b[0m\u001b[0;34m\u001b[0m\u001b[0m\n",
      "\u001b[0;31mNameError\u001b[0m: name 'A' is not defined"
     ]
    }
   ],
   "source": [
    "for i in range(num_vertices1 + 1):\n",
    "    for j in range(num_vertices1 + 1):\n",
    "        if i == 0 or j == 0:\n",
    "            A[i][j][0] = 0\n",
    "        elif i == j:\n",
    "            A[i][j][0] = 0\n",
    "        elif j in graph1[i]:\n",
    "            A[i][j][0] = graph1[i][j]\n",
    "        else:\n",
    "            A[i][j][0] = 1e9"
   ]
  },
  {
   "cell_type": "code",
   "execution_count": 8,
   "metadata": {},
   "outputs": [
    {
     "ename": "NameError",
     "evalue": "name 'A' is not defined",
     "output_type": "error",
     "traceback": [
      "\u001b[0;31m---------------------------------------------------------------------------\u001b[0m",
      "\u001b[0;31mNameError\u001b[0m                                 Traceback (most recent call last)",
      "\u001b[0;32m<ipython-input-8-11de143a10e8>\u001b[0m in \u001b[0;36m<module>\u001b[0;34m()\u001b[0m\n\u001b[1;32m      2\u001b[0m     \u001b[0;32mfor\u001b[0m \u001b[0mi\u001b[0m \u001b[0;32min\u001b[0m \u001b[0mrange\u001b[0m\u001b[0;34m(\u001b[0m\u001b[0;36m1\u001b[0m\u001b[0;34m,\u001b[0m \u001b[0mnum_vertices1\u001b[0m \u001b[0;34m+\u001b[0m \u001b[0;36m1\u001b[0m\u001b[0;34m)\u001b[0m\u001b[0;34m:\u001b[0m\u001b[0;34m\u001b[0m\u001b[0m\n\u001b[1;32m      3\u001b[0m         \u001b[0;32mfor\u001b[0m \u001b[0mj\u001b[0m \u001b[0;32min\u001b[0m \u001b[0mrange\u001b[0m\u001b[0;34m(\u001b[0m\u001b[0;36m1\u001b[0m\u001b[0;34m,\u001b[0m \u001b[0mnum_vertices1\u001b[0m \u001b[0;34m+\u001b[0m \u001b[0;36m1\u001b[0m\u001b[0;34m)\u001b[0m\u001b[0;34m:\u001b[0m\u001b[0;34m\u001b[0m\u001b[0m\n\u001b[0;32m----> 4\u001b[0;31m             A[i][j][k] = min(A[i][j][k-1], \n\u001b[0m\u001b[1;32m      5\u001b[0m                              A[i][k][k-1] + A[k][j][k-1])\n",
      "\u001b[0;31mNameError\u001b[0m: name 'A' is not defined"
     ]
    }
   ],
   "source": [
    "for k in range(1, num_vertices1 + 1):\n",
    "    for i in range(1, num_vertices1 + 1):\n",
    "        for j in range(1, num_vertices1 + 1):\n",
    "            A[i][j][k] = min(A[i][j][k-1], \n",
    "                             A[i][k][k-1] + A[k][j][k-1])"
   ]
  },
  {
   "cell_type": "code",
   "execution_count": 9,
   "metadata": {},
   "outputs": [
    {
     "ename": "NameError",
     "evalue": "name 'A' is not defined",
     "output_type": "error",
     "traceback": [
      "\u001b[0;31m---------------------------------------------------------------------------\u001b[0m",
      "\u001b[0;31mNameError\u001b[0m                                 Traceback (most recent call last)",
      "\u001b[0;32m<ipython-input-9-50de5d70aae3>\u001b[0m in \u001b[0;36m<module>\u001b[0;34m()\u001b[0m\n\u001b[0;32m----> 1\u001b[0;31m \u001b[0mA\u001b[0m\u001b[0;34m[\u001b[0m\u001b[0;36m1\u001b[0m\u001b[0;34m]\u001b[0m\u001b[0;34m[\u001b[0m\u001b[0;36m2\u001b[0m\u001b[0;34m]\u001b[0m\u001b[0;34m[\u001b[0m\u001b[0mnum_vertices1\u001b[0m\u001b[0;34m]\u001b[0m\u001b[0;34m\u001b[0m\u001b[0m\n\u001b[0m",
      "\u001b[0;31mNameError\u001b[0m: name 'A' is not defined"
     ]
    }
   ],
   "source": [
    "A[1][2][num_vertices1]"
   ]
  },
  {
   "cell_type": "code",
   "execution_count": null,
   "metadata": {},
   "outputs": [],
   "source": [
    "min_val = float(\"inf\")\n",
    "for i in range(1, num_vertices1 + 1):\n",
    "    for j in range(1, num_vertices1 + 1):\n",
    "        if A[i][j][num_vertices1] < min_val:\n",
    "            min_val = A[i][j][num_vertices1]"
   ]
  },
  {
   "cell_type": "code",
   "execution_count": null,
   "metadata": {},
   "outputs": [],
   "source": [
    "min_val"
   ]
  },
  {
   "cell_type": "code",
   "execution_count": null,
   "metadata": {},
   "outputs": [],
   "source": [
    "import sys\n",
    "\n",
    "class ShortestPathFinder:\n",
    "\n",
    "    def __init__(self, input_file):\n",
    "        with open(input_file) as file:\n",
    "            n_vertices, n_edges = (int(num) for num in file.readline().split())\n",
    "            self._graph = [None] * (n_vertices + 1)\n",
    "            self._shortest_paths = [None] * (n_vertices + 1)\n",
    "            self._shortest_path = sys.maxsize\n",
    "            for line in file:\n",
    "                edge_from, edge_to, edge_weight = (int(num) for num in line.split())\n",
    "                if self._graph[edge_from] is None:\n",
    "                    self._graph[edge_from] = [(edge_to, edge_weight)]\n",
    "                else:\n",
    "                    self._graph[edge_from].append((edge_to, edge_weight))\n",
    "        for source_vertex in range (1, len(self._graph)):\n",
    "            if self._compute_shortest_paths(source_vertex) is None:\n",
    "                self._shortest_paths = None\n",
    "                break\n",
    "        else:\n",
    "            path = sys.maxsize\n",
    "            for vertex in range(1, len(self._graph)):\n",
    "                if self._graph[vertex] is None:\n",
    "                    continue\n",
    "                for shortest_path in self._shortest_paths[vertex]:\n",
    "                    if shortest_path < path:\n",
    "                        path = shortest_path\n",
    "            self._shortest_path = path\n",
    "            print(path)\n",
    "\n",
    "    def _compute_shortest_paths(self, source_vertex):\n",
    "        self._shortest_paths[source_vertex] = [sys.maxsize] * len(self._graph)\n",
    "        self._shortest_paths[source_vertex][source_vertex] = 0\n",
    "        for path_length in range(len(self._graph) - 1):\n",
    "            for vertex in range(1, len(self._graph)):\n",
    "                if self._graph[vertex] is None:\n",
    "                    continue\n",
    "                for edge in self._graph[vertex]:\n",
    "                    current_sp = self._shortest_paths[source_vertex][edge[0]]\n",
    "                    if current_sp > self._shortest_paths[source_vertex][vertex] + edge[1]:\n",
    "                        self._shortest_paths[source_vertex][edge[0]] = self._shortest_paths[source_vertex][vertex] + edge[1]\n",
    "        for vertex in range(1, len(self._graph)):\n",
    "            if self._graph[vertex] is None:\n",
    "                continue\n",
    "            for edge in self._graph[vertex]:\n",
    "                current_sp = self._shortest_paths[source_vertex][edge[0]]\n",
    "                if current_sp > self._shortest_paths[source_vertex][vertex] + edge[1]:\n",
    "                    print(\"Negative Cycle detected\")\n",
    "                    return None\n",
    "        return True\n",
    "\n",
    "    def get_shortest_path(self):\n",
    "        return self._shortest_path"
   ]
  },
  {
   "cell_type": "code",
   "execution_count": 10,
   "metadata": {},
   "outputs": [
    {
     "name": "stdout",
     "output_type": "stream",
     "text": [
      "Negative Cycle detected\n"
     ]
    }
   ],
   "source": [
    "path_finder = ShortestPathFinder(\"g1.txt\")"
   ]
  },
  {
   "cell_type": "code",
   "execution_count": 11,
   "metadata": {},
   "outputs": [
    {
     "name": "stdout",
     "output_type": "stream",
     "text": [
      "Negative Cycle detected\n"
     ]
    }
   ],
   "source": [
    "path_finder = ShortestPathFinder(\"g2.txt\")"
   ]
  },
  {
   "cell_type": "code",
   "execution_count": 14,
   "metadata": {},
   "outputs": [
    {
     "name": "stdout",
     "output_type": "stream",
     "text": [
      "-19\n"
     ]
    }
   ],
   "source": [
    "path_finder = ShortestPathFinder(\"g3.txt\")"
   ]
  }
 ],
 "metadata": {
  "kernelspec": {
   "display_name": "Python 3",
   "language": "python",
   "name": "python3"
  },
  "language_info": {
   "codemirror_mode": {
    "name": "ipython",
    "version": 3
   },
   "file_extension": ".py",
   "mimetype": "text/x-python",
   "name": "python",
   "nbconvert_exporter": "python",
   "pygments_lexer": "ipython3",
   "version": "3.6.5"
  }
 },
 "nbformat": 4,
 "nbformat_minor": 2
}
