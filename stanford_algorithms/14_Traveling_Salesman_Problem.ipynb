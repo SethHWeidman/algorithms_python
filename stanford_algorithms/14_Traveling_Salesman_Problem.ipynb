{
 "cells": [
  {
   "cell_type": "markdown",
   "metadata": {},
   "source": [
    "# Traveling Salesman Problem"
   ]
  },
  {
   "cell_type": "code",
   "execution_count": 2,
   "metadata": {},
   "outputs": [],
   "source": [
    "from s3_helpers import get_s3_bucket, get_object_from_bucket, add_object_to_bucket\n",
    "\n",
    "stanford_bucket = get_s3_bucket('stanford-algorithms')\n",
    "\n",
    "add_object_to_bucket(stanford_bucket, 'tsp-list', out_list)\n",
    "\n",
    "input_list = get_object_from_bucket(stanford_bucket, 'tsp-list')"
   ]
  },
  {
   "cell_type": "code",
   "execution_count": 3,
   "metadata": {},
   "outputs": [
    {
     "data": {
      "text/plain": [
       "[[20833.3333, 17100.0],\n",
       " [20900.0, 17066.6667],\n",
       " [21300.0, 13016.6667],\n",
       " [21600.0, 14150.0],\n",
       " [21600.0, 14966.6667],\n",
       " [21600.0, 16500.0],\n",
       " [22183.3333, 13133.3333],\n",
       " [22583.3333, 14300.0],\n",
       " [22683.3333, 12716.6667],\n",
       " [23616.6667, 15866.6667],\n",
       " [23700.0, 15933.3333],\n",
       " [23883.3333, 14533.3333],\n",
       " [24166.6667, 13250.0],\n",
       " [25149.1667, 12365.8333],\n",
       " [26133.3333, 14500.0],\n",
       " [26150.0, 10550.0],\n",
       " [26283.3333, 12766.6667],\n",
       " [26433.3333, 13433.3333],\n",
       " [26550.0, 13850.0],\n",
       " [26733.3333, 11683.3333],\n",
       " [27026.1111, 13051.9444],\n",
       " [27096.1111, 13415.8333],\n",
       " [27153.6111, 13203.3333],\n",
       " [27166.6667, 9833.3333],\n",
       " [27233.3333, 10450.0]]"
      ]
     },
     "execution_count": 3,
     "metadata": {},
     "output_type": "execute_result"
    }
   ],
   "source": [
    "input_list"
   ]
  },
  {
   "cell_type": "code",
   "execution_count": 179,
   "metadata": {},
   "outputs": [],
   "source": [
    "mean_x = sum([x[0] for x in out_list]) / len(out_list)\n",
    "mean_y = sum([x[1] for x in out_list]) / len(out_list)"
   ]
  },
  {
   "cell_type": "code",
   "execution_count": 180,
   "metadata": {},
   "outputs": [],
   "source": [
    "new_nodes = {}\n",
    "for i, el in enumerate(out_list):\n",
    "    new_nodes[i] = {'x': el[0], 'y': el[1]}"
   ]
  },
  {
   "cell_type": "code",
   "execution_count": 181,
   "metadata": {},
   "outputs": [],
   "source": [
    "import math\n",
    "\n",
    "def dist_nodes(node1, node2):\n",
    "    '''\n",
    "    Takes in new_nodes, returns distance between node1 and node2\n",
    "    '''\n",
    "    x1 = new_nodes[node1]['x']\n",
    "    x2 = new_nodes[node2]['x']\n",
    "    y1 = new_nodes[node1]['y']\n",
    "    y2 = new_nodes[node2]['y']\n",
    "    return math.sqrt((x1 - x2) ** 2 + (y1 - y2) ** 2)"
   ]
  },
  {
   "cell_type": "code",
   "execution_count": 182,
   "metadata": {},
   "outputs": [],
   "source": [
    "from collections import defaultdict\n",
    "\n",
    "distances = defaultdict(int)\n",
    "n = 25\n",
    "for i in range(n):\n",
    "    distances[i] = defaultdict(int)\n",
    "for i in range(n):\n",
    "    for j in range(n):\n",
    "        distances[i][j] = dist_nodes(i, j)\n",
    "        distances[j][i] = dist_nodes(i, j)"
   ]
  },
  {
   "cell_type": "markdown",
   "metadata": {},
   "source": [
    "**Helper function**: `del_tuple`"
   ]
  },
  {
   "cell_type": "code",
   "execution_count": 184,
   "metadata": {},
   "outputs": [],
   "source": [
    "def del_tuple(tup, el):\n",
    "    a = list(tup)\n",
    "    a.remove(el)\n",
    "    return tuple(a)"
   ]
  },
  {
   "cell_type": "code",
   "execution_count": 185,
   "metadata": {},
   "outputs": [
    {
     "data": {
      "text/plain": [
       "(1,)"
      ]
     },
     "execution_count": 185,
     "metadata": {},
     "output_type": "execute_result"
    }
   ],
   "source": [
    "del_tuple((1,2), 2)"
   ]
  },
  {
   "cell_type": "markdown",
   "metadata": {},
   "source": [
    "Goal:\n",
    "\n",
    "`lookup[subset][j]` gives the shortest path from `0` to `j` including only the elements in `subset` and _excluding_ `j`. Subsets are tuples that must contain `0`."
   ]
  },
  {
   "cell_type": "code",
   "execution_count": 2,
   "metadata": {},
   "outputs": [],
   "source": [
    "n = 25"
   ]
  },
  {
   "cell_type": "code",
   "execution_count": 3,
   "metadata": {},
   "outputs": [],
   "source": [
    "# Imports\n",
    "\n",
    "from collections import defaultdict\n",
    "from itertools import combinations\n",
    "lookup = defaultdict(dict)\n",
    "all_nodes = range(1, n)"
   ]
  },
  {
   "cell_type": "code",
   "execution_count": 187,
   "metadata": {},
   "outputs": [],
   "source": [
    "# Set up \"lookup\" data structure\n",
    "\n",
    "lookup[(0,)][0] = 0\n",
    "for i in range(1, n):\n",
    "    combos = list(combinations(all_nodes, i))\n",
    "    for combo in combos:\n",
    "        combo = (0,) + combo\n",
    "        lookup[combo] = defaultdict(int)\n",
    "        lookup[combo][0] = float(\"inf\")"
   ]
  },
  {
   "cell_type": "code",
   "execution_count": 188,
   "metadata": {
    "scrolled": false
   },
   "outputs": [],
   "source": [
    "# Main algorithm\n",
    "\n",
    "for size in range(2, n+1):\n",
    "    combos = list(combinations(all_nodes, size-1))\n",
    "\n",
    "    for combo in combos:\n",
    "        combo = (0,) + combo\n",
    "        for j in combo:\n",
    "\n",
    "            if j == 0:\n",
    "                continue\n",
    "            min_val = float(\"inf\")\n",
    "            for k in combo:\n",
    "\n",
    "                if k == j:\n",
    "                    continue\n",
    "                other_nodes = del_tuple(combo, j)\n",
    "                new_val = lookup[other_nodes][k] + distances[k][j]\n",
    "                if new_val < min_val:\n",
    "                    min_val = new_val\n",
    "            lookup[combo][j] = min_val "
   ]
  },
  {
   "cell_type": "code",
   "execution_count": 189,
   "metadata": {},
   "outputs": [],
   "source": [
    "# Final step\n",
    "\n",
    "min_dist = float(\"inf\")\n",
    "for node in all_nodes[1:]:\n",
    "    new_dist = lookup[all_nodes][node] + distances[0][node]\n",
    "    if new_dist < min_dist:\n",
    "        min_dist = new_dist"
   ]
  },
  {
   "cell_type": "code",
   "execution_count": 190,
   "metadata": {
    "scrolled": true
   },
   "outputs": [
    {
     "data": {
      "text/plain": [
       "26442.73030895475"
      ]
     },
     "execution_count": 190,
     "metadata": {},
     "output_type": "execute_result"
    }
   ],
   "source": [
    "# Resulting minimum distance\n",
    "\n",
    "min_dist"
   ]
  },
  {
   "cell_type": "markdown",
   "metadata": {},
   "source": [
    "Correct answer!"
   ]
  }
 ],
 "metadata": {
  "kernelspec": {
   "display_name": "Python 3",
   "language": "python",
   "name": "python3"
  },
  "language_info": {
   "codemirror_mode": {
    "name": "ipython",
    "version": 3
   },
   "file_extension": ".py",
   "mimetype": "text/x-python",
   "name": "python",
   "nbconvert_exporter": "python",
   "pygments_lexer": "ipython3",
   "version": "3.6.5"
  }
 },
 "nbformat": 4,
 "nbformat_minor": 2
}
