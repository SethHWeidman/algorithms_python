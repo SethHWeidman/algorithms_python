{
 "cells": [
  {
   "cell_type": "markdown",
   "metadata": {},
   "source": [
    "# Karger Min Cut\n",
    "\n",
    "This notebook shows an implementation of the karger Min Cut algorithm. \n",
    "\n",
    "Any partition of a graph into subsets A and B can be viewed as a \"cut\". We can then ask how many edges exist such that one vertex is in A and the other vertex is in B - we'll call these \"crossing edges\". The min cut problem is to find the \"cut\" of a graph such that the number of crossing edges is minimized.\n",
    "\n",
    "Importantly, we have to implement a data structure to hold the graph. The one that turns out to work best for this problem is a dictionary, with integers as keys and a list of integers as values. Each key represents a node in the graph and the list of values represents the vertices to which that key is attached.\n",
    "\n",
    "The probability of this randomized algorithm achieving the right answer turns out to be bounded below by $\\frac{2}{n * (n-1)}$, which is itself bounded below by $\\frac{1}{n^2}$, so running it many times and taking the minimum of the resulting answers is very likely to produce the min cut."
   ]
  },
  {
   "cell_type": "code",
   "execution_count": 5,
   "metadata": {},
   "outputs": [],
   "source": [
    "import random\n",
    "\n",
    "def karger_min_cut(graph):\n",
    "    '''\n",
    "    Implements the randomized graph contraction algorithm.\n",
    "    Randomly chooses an edge to be contracted. Continue until there\n",
    "    are only two nodes left. See how many connections these two \n",
    "    nodes have: that is your candidate for the \"min cut\" for this\n",
    "    graph.\n",
    "    '''\n",
    "    nodes = list(graph.keys())\n",
    "    \n",
    "    while len(nodes) > 2:\n",
    "        # Randomly choose node\n",
    "        node = random.choice(nodes)\n",
    "\n",
    "        # From nodes, randomly choose node it is connected to\n",
    "        other_node = random.choice(graph[node])\n",
    "\n",
    "        # Contract until we get 2 nodes:\n",
    "        output_graph = contract_graph(graph, node, other_node)\n",
    "        \n",
    "        nodes = list(output_graph.keys())\n",
    "        \n",
    "    output_node = list(output_graph.keys())[0]\n",
    "    \n",
    "    return len(output_graph[output_node])\n",
    "\n",
    "def contract_graph(graph, node1, node2):\n",
    "    '''\n",
    "    Contracting an edge. We have to think carefully about what this means, using the fact that \n",
    "    the graph is represented as a dictionary.\n",
    "    If the edge between nodes \"2\" and \"3\" are being contracted:\n",
    "    Arbitrarily choose \"3\" to delete\n",
    "    For all of \"3\"'s connections:\n",
    "    Remove \"3\" from their connections\n",
    "    Add \"2\" as a connection (except for 2: no self loops)\n",
    "    Add them to 2's connections\n",
    "    Finally, delete node 3\n",
    "\n",
    "    '''\n",
    "    # Arbitrarily choose node2\n",
    "    for node in graph[node2]:\n",
    "        \n",
    "        # Remove node2 from the list of connections of the vertices to which\n",
    "        # it is connected.\n",
    "        graph[node].remove(node2)\n",
    "        \n",
    "        # For each node that was connected to node2: \n",
    "        if node != node1:\n",
    "            # Attach it to node1\n",
    "            graph[node].append(node1)\n",
    "            graph[node1].append(node)\n",
    "\n",
    "    # Delete the now-disconnected node\n",
    "    del graph[node2]\n",
    "    return graph"
   ]
  },
  {
   "cell_type": "markdown",
   "metadata": {},
   "source": [
    "## Class assignment"
   ]
  },
  {
   "cell_type": "code",
   "execution_count": 9,
   "metadata": {},
   "outputs": [],
   "source": [
    "from s3_helpers import get_s3_bucket, get_object_from_bucket, add_object_to_bucket"
   ]
  },
  {
   "cell_type": "code",
   "execution_count": 10,
   "metadata": {},
   "outputs": [],
   "source": [
    "stanford_bucket = get_s3_bucket('stanford-algorithms')"
   ]
  },
  {
   "cell_type": "code",
   "execution_count": 11,
   "metadata": {},
   "outputs": [],
   "source": [
    "add_object_to_bucket(stanford_bucket, 'karger-graph-data', list_of_lists)"
   ]
  },
  {
   "cell_type": "code",
   "execution_count": null,
   "metadata": {},
   "outputs": [],
   "source": [
    "input_list = get_object_from_bucket(stanford_bucket, 'inversions-array')"
   ]
  },
  {
   "cell_type": "code",
   "execution_count": 7,
   "metadata": {},
   "outputs": [],
   "source": [
    "big_graph = {}\n",
    "\n",
    "for el in list_of_lists: \n",
    "    big_graph[el[0]] = el[1:]"
   ]
  },
  {
   "cell_type": "code",
   "execution_count": 8,
   "metadata": {},
   "outputs": [
    {
     "name": "stdout",
     "output_type": "stream",
     "text": [
      "Min cut is: 17\n"
     ]
    }
   ],
   "source": [
    "from copy import deepcopy\n",
    "num_trials = 100\n",
    "cuts = []\n",
    "for i in range(100):\n",
    "    big_graph_copy = deepcopy(big_graph)\n",
    "    cuts.append(karger_min_cut(big_graph_copy))\n",
    "print(\"Min cut is:\", min(cuts))"
   ]
  }
 ],
 "metadata": {
  "kernelspec": {
   "display_name": "Python 3",
   "language": "python",
   "name": "python3"
  },
  "language_info": {
   "codemirror_mode": {
    "name": "ipython",
    "version": 3
   },
   "file_extension": ".py",
   "mimetype": "text/x-python",
   "name": "python",
   "nbconvert_exporter": "python",
   "pygments_lexer": "ipython3",
   "version": "3.6.4"
  }
 },
 "nbformat": 4,
 "nbformat_minor": 2
}
