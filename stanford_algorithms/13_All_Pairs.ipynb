{
 "cells": [
  {
   "cell_type": "code",
   "execution_count": 1,
   "metadata": {},
   "outputs": [],
   "source": [
    "from collections import defaultdict\n",
    "\n",
    "def file_to_graph(filename):\n",
    "    '''\n",
    "    Reads in a file, returns a graph\n",
    "    return graph: defaultdict(int) representing the graph\n",
    "    '''\n",
    "    with open(filename, \"rb\") as f:\n",
    "        node_list = [list(map(int, x.decode('utf-8').strip('\\n').split(' '))) for x in f.readlines()]\n",
    "    \n",
    "    num_vertices = node_list[0][0]\n",
    "    num_edges = node_list[0][1]\n",
    "\n",
    "    graph = defaultdict(int)\n",
    "    for node in node_list[1:]:\n",
    "        tail, head, length = node[0], node[1], node[2]\n",
    "        if tail not in graph:\n",
    "            graph[tail] = defaultdict(int)\n",
    "        graph[tail][head] = length\n",
    "    \n",
    "    return graph, num_vertices"
   ]
  },
  {
   "cell_type": "code",
   "execution_count": 2,
   "metadata": {},
   "outputs": [],
   "source": [
    "graph_info1 = file_to_graph('g1.txt')\n",
    "graph_info2 = file_to_graph('g2.txt')\n",
    "graph_info3 = file_to_graph('g3.txt')"
   ]
  },
  {
   "cell_type": "code",
   "execution_count": 3,
   "metadata": {},
   "outputs": [],
   "source": [
    "graph1 = graph_info1[0]\n",
    "graph2 = graph_info2[0]\n",
    "graph3 = graph_info3[0]\n",
    "\n",
    "num_vertices1 = graph_info1[1]\n",
    "num_vertices2 = graph_info2[1]\n",
    "num_vertices3 = graph_info3[1]"
   ]
  },
  {
   "cell_type": "code",
   "execution_count": 4,
   "metadata": {},
   "outputs": [],
   "source": [
    "A = [[[None for i in range(num_vertices1 + 1)] for j in range(num_vertices1 + 1)] for k in range(num_vertices1 + 1)]"
   ]
  },
  {
   "cell_type": "code",
   "execution_count": 5,
   "metadata": {},
   "outputs": [
    {
     "name": "stdout",
     "output_type": "stream",
     "text": [
      "1001\n",
      "1001\n",
      "1001\n"
     ]
    }
   ],
   "source": [
    "print(len(A))\n",
    "print(len(A[0]))\n",
    "print((len(A[0][0])))"
   ]
  },
  {
   "cell_type": "markdown",
   "metadata": {},
   "source": [
    "**Base cases**"
   ]
  },
  {
   "cell_type": "code",
   "execution_count": 6,
   "metadata": {},
   "outputs": [],
   "source": [
    "for i in range(num_vertices1 + 1):\n",
    "    for j in range(num_vertices1 + 1):\n",
    "        if i == 0 or j == 0:\n",
    "            A[i][j][0] = 0\n",
    "        elif i == j:\n",
    "            A[i][j][0] = 0\n",
    "        elif j in graph1[i]:\n",
    "            A[i][j][0] = graph1[i][j]\n",
    "        else:\n",
    "            A[i][j][0] = 1e9"
   ]
  },
  {
   "cell_type": "code",
   "execution_count": 7,
   "metadata": {},
   "outputs": [],
   "source": [
    "for k in range(1, num_vertices1 + 1):\n",
    "    for i in range(1, num_vertices1 + 1):\n",
    "        for j in range(1, num_vertices1 + 1):\n",
    "            A[i][j][k] = min(A[i][j][k-1], \n",
    "                             A[i][k][k-1] + A[k][j][k-1])"
   ]
  },
  {
   "cell_type": "code",
   "execution_count": 8,
   "metadata": {},
   "outputs": [
    {
     "data": {
      "text/plain": [
       "-2071316704362603202877088616563207981109673734290821782136761917109269057030328106077145914351138415376142290670494925581801856234701452745664639849197451843537652774566043280033616328551563"
      ]
     },
     "execution_count": 8,
     "metadata": {},
     "output_type": "execute_result"
    }
   ],
   "source": [
    "A[1][2][num_vertices1]"
   ]
  },
  {
   "cell_type": "code",
   "execution_count": null,
   "metadata": {},
   "outputs": [],
   "source": [
    "min_val = float(\"inf\")\n",
    "for i in range(1, num_vertices1 + 1):\n",
    "    for j in range(1, num_vertices1 + 1):\n",
    "        if A[i][j][num_vertices1] < min_val:\n",
    "            min_val = A[i][j][num_vertices1]"
   ]
  },
  {
   "cell_type": "code",
   "execution_count": null,
   "metadata": {},
   "outputs": [],
   "source": [
    "min_val"
   ]
  },
  {
   "cell_type": "code",
   "execution_count": 9,
   "metadata": {},
   "outputs": [],
   "source": [
    "import sys\n",
    "\n",
    "class ShortestPathFinder:\n",
    "\n",
    "    def __init__(self, input_file):\n",
    "        with open(input_file) as file:\n",
    "            n_vertices, n_edges = (int(num) for num in file.readline().split())\n",
    "            self._graph = [None] * (n_vertices + 1)\n",
    "            self._shortest_paths = [None] * (n_vertices + 1)\n",
    "            self._shortest_path = sys.maxsize\n",
    "            for line in file:\n",
    "                edge_from, edge_to, edge_weight = (int(num) for num in line.split())\n",
    "                if self._graph[edge_from] is None:\n",
    "                    self._graph[edge_from] = [(edge_to, edge_weight)]\n",
    "                else:\n",
    "                    self._graph[edge_from].append((edge_to, edge_weight))\n",
    "        for source_vertex in range (1, len(self._graph)):\n",
    "            if self._compute_shortest_paths(source_vertex) is None:\n",
    "                self._shortest_paths = None\n",
    "                break\n",
    "        else:\n",
    "            path = sys.maxsize\n",
    "            for vertex in range(1, len(self._graph)):\n",
    "                if self._graph[vertex] is None:\n",
    "                    continue\n",
    "                for shortest_path in self._shortest_paths[vertex]:\n",
    "                    if shortest_path < path:\n",
    "                        path = shortest_path\n",
    "            self._shortest_path = path\n",
    "            print(path)\n",
    "\n",
    "    def _compute_shortest_paths(self, source_vertex):\n",
    "        self._shortest_paths[source_vertex] = [sys.maxsize] * len(self._graph)\n",
    "        self._shortest_paths[source_vertex][source_vertex] = 0\n",
    "        for path_length in range(len(self._graph) - 1):\n",
    "            for vertex in range(1, len(self._graph)):\n",
    "                if self._graph[vertex] is None:\n",
    "                    continue\n",
    "                for edge in self._graph[vertex]:\n",
    "                    current_sp = self._shortest_paths[source_vertex][edge[0]]\n",
    "                    if current_sp > self._shortest_paths[source_vertex][vertex] + edge[1]:\n",
    "                        self._shortest_paths[source_vertex][edge[0]] = self._shortest_paths[source_vertex][vertex] + edge[1]\n",
    "        for vertex in range(1, len(self._graph)):\n",
    "            if self._graph[vertex] is None:\n",
    "                continue\n",
    "            for edge in self._graph[vertex]:\n",
    "                current_sp = self._shortest_paths[source_vertex][edge[0]]\n",
    "                if current_sp > self._shortest_paths[source_vertex][vertex] + edge[1]:\n",
    "                    print(\"Negative Cycle detected\")\n",
    "                    return None\n",
    "        return True\n",
    "\n",
    "    def get_shortest_path(self):\n",
    "        return self._shortest_path"
   ]
  },
  {
   "cell_type": "code",
   "execution_count": 10,
   "metadata": {},
   "outputs": [
    {
     "name": "stdout",
     "output_type": "stream",
     "text": [
      "Negative Cycle detected\n"
     ]
    }
   ],
   "source": [
    "path_finder = ShortestPathFinder(\"g1.txt\")"
   ]
  },
  {
   "cell_type": "code",
   "execution_count": 11,
   "metadata": {},
   "outputs": [
    {
     "name": "stdout",
     "output_type": "stream",
     "text": [
      "Negative Cycle detected\n"
     ]
    }
   ],
   "source": [
    "path_finder = ShortestPathFinder(\"g2.txt\")"
   ]
  },
  {
   "cell_type": "code",
   "execution_count": 14,
   "metadata": {},
   "outputs": [
    {
     "name": "stdout",
     "output_type": "stream",
     "text": [
      "-19\n"
     ]
    }
   ],
   "source": [
    "path_finder = ShortestPathFinder(\"g3.txt\")"
   ]
  },
  {
   "cell_type": "code",
   "execution_count": 15,
   "metadata": {},
   "outputs": [
    {
     "data": {
      "text/plain": [
       "-19"
      ]
     },
     "execution_count": 15,
     "metadata": {},
     "output_type": "execute_result"
    }
   ],
   "source": [
    "path_finder._shortest_path"
   ]
  }
 ],
 "metadata": {
  "kernelspec": {
   "display_name": "Python 3",
   "language": "python",
   "name": "python3"
  },
  "language_info": {
   "codemirror_mode": {
    "name": "ipython",
    "version": 3
   },
   "file_extension": ".py",
   "mimetype": "text/x-python",
   "name": "python",
   "nbconvert_exporter": "python",
   "pygments_lexer": "ipython3",
   "version": "3.6.4"
  }
 },
 "nbformat": 4,
 "nbformat_minor": 2
}
