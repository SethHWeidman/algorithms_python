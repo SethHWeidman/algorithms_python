{
 "cells": [
  {
   "cell_type": "code",
   "execution_count": 10,
   "metadata": {},
   "outputs": [],
   "source": [
    "import math\n",
    "def get_parent_pos(index):\n",
    "    if index < 2:\n",
    "        return None\n",
    "    if index % 2 == 0:\n",
    "        return index // 2\n",
    "    else:\n",
    "        return math.floor(index // 2)\n",
    "    \n",
    "def get_parent_index(index):\n",
    "    if index == 0:\n",
    "        return None\n",
    "    if index % 2 == 0:\n",
    "        return index // 2 - 1\n",
    "    else:\n",
    "        return math.floor(index // 2)"
   ]
  },
  {
   "cell_type": "code",
   "execution_count": 11,
   "metadata": {},
   "outputs": [],
   "source": [
    "# get_parent_index(1) # None\n",
    "# get_parent_index(2) # 0\n",
    "# get_parent_index(3) # 1\n",
    "# get_parent_index(4) # 1\n",
    "# get_parent_index(5) # 2\n",
    "# get_parent_index(6) # 2\n",
    "# get_parent_index(7) # \n",
    "# # get_parent_index(8) # \n",
    "# # get_parent_index(9) # "
   ]
  },
  {
   "cell_type": "code",
   "execution_count": 12,
   "metadata": {},
   "outputs": [],
   "source": [
    "def get_children_pos(index, list_size):\n",
    "    first, second = 2 * index, 2 * index + 1\n",
    "    if first > list_size:\n",
    "        return None, None\n",
    "    elif second > list_size-1:\n",
    "        return first+1, None\n",
    "    else:\n",
    "        return first+1, second+1\n"
   ]
  },
  {
   "cell_type": "code",
   "execution_count": 13,
   "metadata": {},
   "outputs": [],
   "source": [
    "def get_children_indices(index, list_size):\n",
    "    first, second = 2 * index, 2 * index + 1\n",
    "    if first >= list_size-1:\n",
    "        return (None, None)\n",
    "    elif second >= list_size-1:\n",
    "        return first+1, None\n",
    "    else:\n",
    "        return first+1, second+1\n",
    "\n"
   ]
  },
  {
   "cell_type": "code",
   "execution_count": 14,
   "metadata": {},
   "outputs": [
    {
     "name": "stdout",
     "output_type": "stream",
     "text": [
      "(1, 2)\n",
      "(3, 4)\n",
      "(5, None)\n"
     ]
    }
   ],
   "source": [
    "print(get_children_indices(0, 10)) # 1, 2\n",
    "print(get_children_indices(1, 10)) # 3, 4\n",
    "print(get_children_indices(2, 6)) # 5"
   ]
  },
  {
   "cell_type": "code",
   "execution_count": 7,
   "metadata": {},
   "outputs": [
    {
     "name": "stdout",
     "output_type": "stream",
     "text": [
      "1\n",
      "1\n"
     ]
    }
   ],
   "source": [
    "# print(get_parent_pos(3)) # 1\n",
    "# print(get_parent_pos(2)) # 1"
   ]
  },
  {
   "cell_type": "code",
   "execution_count": 60,
   "metadata": {},
   "outputs": [],
   "source": [
    "# print(get_children_pos(1, 10)) # 2, 3\n",
    "# print(get_children_pos(2, 10)) # 4, 5\n",
    "# print(get_children_pos(3, 10)) # 6, 7\n",
    "# print(get_children_pos(3, 6)) # 6\n",
    "# print(get_children_pos(1, 2)) # 2\n",
    "# print(get_children_pos(4, 3)) # 2\n",
    "# print(get_children_pos(1, 3)) # 2"
   ]
  },
  {
   "cell_type": "code",
   "execution_count": 4,
   "metadata": {},
   "outputs": [
    {
     "data": {
      "text/plain": [
       "[4, 1, 2, 3]"
      ]
     },
     "execution_count": 4,
     "metadata": {},
     "output_type": "execute_result"
    }
   ],
   "source": [
    "a = [1,2,3,4]\n",
    "a.insert(0, a.pop())\n",
    "a # {4,2,3,1}"
   ]
  },
  {
   "cell_type": "code",
   "execution_count": 49,
   "metadata": {},
   "outputs": [],
   "source": [
    "class MinHeap:\n",
    "    \n",
    "    def __init__(self):\n",
    "        self.last_index = -1\n",
    "        self.size = 0\n",
    "        self.array = []\n",
    "        \n",
    "    def get_parent(self, index):\n",
    "        if index < 1:\n",
    "            return None\n",
    "        else:\n",
    "            return self.array[get_parent_index(index)]\n",
    "\n",
    "    def get_children(self, index):\n",
    "        first, second = get_children_pos(index + 1, self.size)\n",
    "        if not first:\n",
    "            return None, None\n",
    "        elif not second: \n",
    "            return None, self.array[second - 1]\n",
    "        else:\n",
    "            return self.array[first - 1], self.array[second - 1]\n",
    "        \n",
    "    def insert(self, el, debug=False):\n",
    "        self.array.append(el)\n",
    "        self.last_index += 1\n",
    "        self.size += 1\n",
    "        \n",
    "        parent = self.get_parent(self.last_index)\n",
    "        first_index = self.last_index\n",
    "        while True:\n",
    "            next_index = get_parent_index(first_index)\n",
    "            if next_index is None:\n",
    "                break\n",
    "            el, parent = self.array[first_index], self.array[next_index]\n",
    "            if el < parent:\n",
    "                self.array[first_index], self.array[next_index] = \\\n",
    "                        self.array[next_index], self.array[first_index]\n",
    "            else:\n",
    "                break\n",
    "            first_index = next_index\n",
    "                    \n",
    "    def extract_min(self, debug=False):\n",
    "        min_el = self.array.pop(0)\n",
    "        self.size -= 1\n",
    "        self.last_index -= 1\n",
    "        if self.size < 2:\n",
    "            self.size -= 1\n",
    "            self.last_index -= 1\n",
    "            return min_el\n",
    "        \n",
    "        self.array[0], self.array[last_index] = self.array[last_index], self.array[0] \n",
    "        \n",
    "        min_index = 0\n",
    "        \n",
    "        first_index, second_index = get_children_indices(min_index, self.size)\n",
    "\n",
    "        if not first_index:\n",
    "            return min_el\n",
    "        elif not second_index:\n",
    "            first_child, second_child = self.array[min_index], self.array[first_index]\n",
    "            min_child = min(first_child, second_child)\n",
    "            if min_child == first_child:\n",
    "                return min_el\n",
    "            else:\n",
    "                self.array[min_index], self.array[first_index] = self.array[first_index], self.array[min_index]\n",
    "                return min_el\n",
    "        else:\n",
    "            first_child, second_child = self.array[first_index], self.array[second_index] \n",
    "            min_child = min(first_child, second_child)\n",
    "            if min_child == first_child:\n",
    "                min_index = 1\n",
    "            else:\n",
    "                min_index = 2\n",
    "        \n",
    "        last_index = 0\n",
    "        \n",
    "        self.array[last_index], self.array[min_index] = self.array[min_index], self.array[last_index]\n",
    "        \n",
    "        while True:\n",
    "            first_index, second_index = get_children_indices(min_index, self.size)\n",
    "            if not first_index:\n",
    "                return min_el\n",
    "            elif not second_index:\n",
    "                first_child, second_child = self.array[min_index], self.array[first_index]\n",
    "                min_child = min(first_child, second_child)\n",
    "                if min_child == first_child:\n",
    "                    return min_el\n",
    "                else:\n",
    "                    self.array[min_index], self.array[first_index] = self.array[first_index], self.array[min_index]\n",
    "                    return min_el\n",
    "            else:\n",
    "                first_child, second_child = self.array[first_index], self.array[second_index] \n",
    "                min_child = min(first_child, second_child)\n",
    "                if min_child == first_child:\n",
    "                    new_min_index = first_index\n",
    "                else:\n",
    "                    new_min_index = second_index\n",
    "                last_el = self.array[min_index]\n",
    "                if last_el < min_child:\n",
    "                    return min_el\n",
    "                else:\n",
    "                    self.array[min_index], self.array[new_min_index] = \\\n",
    "                        self.array[new_min_index], self.array[min_index]\n",
    "            \n",
    "            min_index = new_min_index\n",
    "\n",
    "    def get_root(self):\n",
    "        if self.size == 0:\n",
    "            return None\n",
    "        else:\n",
    "            return self.array[0]\n",
    "            \n",
    "    def extract_prepend(self):\n",
    "        min_el = self.extract_min()\n",
    "        self.array.insert(0, min_el)\n",
    "        self.size += 1\n",
    "        self.last_index += 1\n",
    "        return min_el       "
   ]
  },
  {
   "cell_type": "code",
   "execution_count": 50,
   "metadata": {},
   "outputs": [],
   "source": [
    "class MaxHeap:\n",
    "    \n",
    "    def __init__(self):\n",
    "        self.last_index = -1\n",
    "        self.size = 0\n",
    "        self.array = []\n",
    "        \n",
    "    def get_parent(self, index):\n",
    "        if index < 1:\n",
    "            return None\n",
    "        else:\n",
    "            return self.array[get_parent_index(index)]\n",
    "\n",
    "    def get_children(self, index):\n",
    "        first, second = get_children_pos(index + 1, self.size)\n",
    "        if not first:\n",
    "            return None, None\n",
    "        elif not second: \n",
    "            return None, self.array[second - 1]\n",
    "        else:\n",
    "            return self.array[first - 1], self.array[second - 1]\n",
    "        \n",
    "    def insert(self, el, debug=False):\n",
    "        self.array.append(el)\n",
    "        self.last_index += 1\n",
    "        self.size += 1\n",
    "        \n",
    "        parent = self.get_parent(self.last_index)\n",
    "        first_index = self.last_index\n",
    "        while True:\n",
    "            next_index = get_parent_index(first_index)\n",
    "            if next_index is None:\n",
    "                break\n",
    "            el, parent = self.array[first_index], self.array[next_index]\n",
    "            if el > parent:\n",
    "                self.array[first_index], self.array[next_index] = \\\n",
    "                        self.array[next_index], self.array[first_index]\n",
    "            else:\n",
    "                break\n",
    "            first_index = next_index\n",
    "                    \n",
    "    def extract_max(self, debug=False):\n",
    "        max_el = self.array.pop(0)\n",
    "        self.size -= 1\n",
    "        self.last_index -= 1\n",
    "        \n",
    "        if self.size < 2:\n",
    "            self.last_index -= 1\n",
    "            self.size -= 1\n",
    "            return max_el\n",
    "        \n",
    "        self.array[0], self.array[last_index] = self.array[last_index], self.array[0]\n",
    "\n",
    "        max_index = 0\n",
    "        \n",
    "        first_index, second_index = get_children_indices(max_index, self.size)\n",
    "\n",
    "        if not first_index:\n",
    "            return max_el\n",
    "        elif not second_index:\n",
    "            first_child, second_child = self.array[max_index], self.array[first_index]\n",
    "            max_child = max(first_child, second_child)\n",
    "            if max_child == first_child:\n",
    "                return max_el\n",
    "            else:\n",
    "                self.array[max_index], self.array[first_index] = self.array[first_index], self.array[max_index]\n",
    "                return max_el\n",
    "        else:\n",
    "            first_child, second_child = self.array[first_index], self.array[second_index] \n",
    "            max_child = max(first_child, second_child)\n",
    "            if max_child == first_child:\n",
    "                max_index = 1\n",
    "            else:\n",
    "                max_index = 2\n",
    "        \n",
    "        last_index = 0\n",
    "        \n",
    "        self.array[last_index], self.array[max_index] = self.array[max_index], self.array[last_index]\n",
    "        \n",
    "        while True:\n",
    "            first_index, second_index = get_children_indices(max_index, self.size)\n",
    "            if not first_index:\n",
    "                return max_el\n",
    "            elif not second_index:\n",
    "                first_child, second_child = self.array[max_index], self.array[first_index]\n",
    "                max_child = max(first_child, second_child)\n",
    "                if max_child == first_child:\n",
    "                    return max_el\n",
    "                else:\n",
    "                    self.array[max_index], self.array[first_index] = self.array[first_index], self.array[max_index]\n",
    "                    return max_el\n",
    "            else:\n",
    "                first_child, second_child = self.array[first_index], self.array[second_index] \n",
    "                max_child = max(first_child, second_child)\n",
    "                if max_child == first_child:\n",
    "                    new_max_index = first_index\n",
    "                else:\n",
    "                    new_max_index = second_index\n",
    "                last_el = self.array[max_index]\n",
    "                if last_el > max_child:\n",
    "                    return max_el\n",
    "                else:\n",
    "                    self.array[max_index], self.array[new_max_index] = \\\n",
    "                        self.array[new_max_index], self.array[max_index]\n",
    "            \n",
    "            max_index = new_max_index\n",
    "   \n",
    "    def get_root(self):\n",
    "        if self.size == 0:\n",
    "            return None\n",
    "        else:\n",
    "            return self.array[0]\n",
    "            \n",
    "    def extract_prepend(self):\n",
    "        max_el = self.extract_max()\n",
    "        self.array.insert(0, max_el)\n",
    "        self.size += 1\n",
    "        self.last_index += 1\n",
    "        return max_el       "
   ]
  },
  {
   "cell_type": "code",
   "execution_count": 21,
   "metadata": {},
   "outputs": [
    {
     "data": {
      "text/plain": [
       "[3, 3, 1, 4, 4, 16, 10, 3, 10, 5, 12, 9, 8, 17, 1, 4, 5, 17, 15, 7]"
      ]
     },
     "execution_count": 21,
     "metadata": {},
     "output_type": "execute_result"
    }
   ],
   "source": [
    "import random\n",
    "r = []\n",
    "num = 20\n",
    "for i in range(20):\n",
    "    r.append(random.randint(1, 20))\n",
    "r"
   ]
  },
  {
   "cell_type": "code",
   "execution_count": 22,
   "metadata": {},
   "outputs": [],
   "source": [
    "# h = Heap()\n",
    "# h.insert(3)\n",
    "# print(h.array)\n",
    "# h.insert(1, debug=True)\n",
    "# print(h.array)"
   ]
  },
  {
   "cell_type": "code",
   "execution_count": 23,
   "metadata": {},
   "outputs": [
    {
     "name": "stdout",
     "output_type": "stream",
     "text": [
      "[3]\n",
      "[3, 3]\n",
      "[3, 3, 1]\n",
      "[4, 3, 1, 3]\n",
      "[4, 4, 1, 3, 3]\n",
      "[16, 4, 4, 3, 3, 1]\n",
      "[16, 4, 10, 3, 3, 1, 4]\n",
      "[16, 4, 10, 3, 3, 1, 4, 3]\n",
      "[16, 10, 10, 4, 3, 1, 4, 3, 3]\n",
      "[16, 10, 10, 4, 5, 1, 4, 3, 3, 3]\n",
      "[16, 12, 10, 4, 10, 1, 4, 3, 3, 3, 5]\n",
      "[16, 12, 10, 4, 10, 9, 4, 3, 3, 3, 5, 1]\n",
      "[16, 12, 10, 4, 10, 9, 4, 3, 3, 3, 5, 1, 8]\n",
      "[17, 12, 16, 4, 10, 9, 10, 3, 3, 3, 5, 1, 8, 4]\n",
      "[17, 12, 16, 4, 10, 9, 10, 3, 3, 3, 5, 1, 8, 4, 1]\n",
      "[17, 12, 16, 4, 10, 9, 10, 4, 3, 3, 5, 1, 8, 4, 1, 3]\n",
      "[17, 12, 16, 5, 10, 9, 10, 4, 3, 3, 5, 1, 8, 4, 1, 3, 4]\n",
      "[17, 17, 16, 12, 10, 9, 10, 4, 5, 3, 5, 1, 8, 4, 1, 3, 4, 3]\n",
      "[17, 17, 16, 15, 10, 9, 10, 4, 12, 3, 5, 1, 8, 4, 1, 3, 4, 3, 5]\n",
      "[17, 17, 16, 15, 10, 9, 10, 4, 12, 7, 5, 1, 8, 4, 1, 3, 4, 3, 5, 3]\n"
     ]
    },
    {
     "data": {
      "text/plain": [
       "[17, 17, 16, 15, 10, 9, 10, 4, 12, 7, 5, 1, 8, 4, 1, 3, 4, 3, 5, 3]"
      ]
     },
     "execution_count": 23,
     "metadata": {},
     "output_type": "execute_result"
    }
   ],
   "source": [
    "h = MaxHeap()\n",
    "for el in r:\n",
    "    h.insert(el)\n",
    "    print(h.array)\n",
    "h.array"
   ]
  },
  {
   "cell_type": "code",
   "execution_count": 24,
   "metadata": {},
   "outputs": [],
   "source": [
    "# h = MaxHeap()\n",
    "# h.insert(7)\n",
    "# print(h.array)\n",
    "# h.insert(6)\n",
    "# print(h.array)\n",
    "# h.insert(5)\n",
    "# print(h.array)"
   ]
  },
  {
   "cell_type": "code",
   "execution_count": 25,
   "metadata": {},
   "outputs": [],
   "source": [
    "# print(h.extract_max())\n",
    "# print(h.array)"
   ]
  },
  {
   "cell_type": "code",
   "execution_count": 26,
   "metadata": {},
   "outputs": [
    {
     "data": {
      "text/plain": [
       "19"
      ]
     },
     "execution_count": 26,
     "metadata": {},
     "output_type": "execute_result"
    }
   ],
   "source": [
    "h.last_index"
   ]
  },
  {
   "cell_type": "code",
   "execution_count": 27,
   "metadata": {},
   "outputs": [
    {
     "name": "stdout",
     "output_type": "stream",
     "text": [
      "Max: 17\n",
      "[17, 15, 16, 12, 10, 9, 10, 4, 5, 7, 5, 1, 8, 4, 1, 3, 4, 3, 3]\n",
      "Max: 17\n",
      "[16, 15, 10, 12, 10, 9, 4, 4, 5, 7, 5, 1, 8, 3, 1, 3, 4, 3]\n",
      "Max: 16\n",
      "[15, 12, 10, 5, 10, 9, 4, 4, 3, 7, 5, 1, 8, 3, 1, 3, 4]\n",
      "Max: 15\n",
      "[12, 10, 10, 5, 7, 9, 4, 4, 3, 4, 5, 1, 8, 3, 1, 3]\n",
      "Max: 12\n",
      "[10, 7, 10, 5, 5, 9, 4, 4, 3, 4, 3, 1, 8, 3, 1]\n",
      "Max: 10\n",
      "[10, 7, 9, 5, 5, 8, 4, 4, 3, 4, 3, 1, 1, 3]\n",
      "Max: 10\n",
      "[9, 7, 8, 5, 5, 3, 4, 4, 3, 4, 3, 1, 1]\n",
      "Max: 9\n",
      "[8, 7, 4, 5, 5, 3, 1, 4, 3, 4, 3, 1]\n",
      "Max: 8\n",
      "[7, 5, 4, 4, 5, 3, 1, 1, 3, 4, 3]\n",
      "Max: 7\n",
      "[5, 5, 4, 4, 4, 3, 1, 1, 3, 3]\n"
     ]
    }
   ],
   "source": [
    "for i in range(10):\n",
    "    a = h.extract_max()\n",
    "    print(\"Max:\", a)\n",
    "    print(h.array)"
   ]
  },
  {
   "cell_type": "markdown",
   "metadata": {},
   "source": [
    "# Median maintenance"
   ]
  },
  {
   "cell_type": "code",
   "execution_count": 51,
   "metadata": {},
   "outputs": [],
   "source": [
    "class MedianMaintainer:\n",
    "    \n",
    "    def __init__(self):\n",
    "        self.high_heap = MinHeap()\n",
    "        self.low_heap = MaxHeap()\n",
    "        self.size = 0\n",
    "        \n",
    "    def insert(self, el):\n",
    "        '''\n",
    "        Min_heap will have at most one more element than max heap\n",
    "        '''\n",
    "        self.size += 1\n",
    "        if self.size < 2:\n",
    "            self.low_heap.insert(el)\n",
    "        else:\n",
    "            low_max = self.low_heap.get_root()\n",
    "            if el >= low_max:\n",
    "                self.high_heap.insert(el)\n",
    "            else:\n",
    "                self.low_heap.insert(el)\n",
    "        \n",
    "        med = self.size // 2\n",
    "        while self.high_heap.size < med:\n",
    "            self.high_heap.insert(self.low_heap.extract_max())\n",
    "        while self.low_heap.size < med:\n",
    "            self.low_heap.insert(self.high_heap.extract_min())\n",
    "#         if self.size > 2:\n",
    "#             if max(m.low_heap.array) != m.low_heap.array[0] or min(m.high_heap.array) != m.high_heap.array[0]:\n",
    "#                 import pdb; pdb.set_trace()\n",
    "    \n",
    "    def get_median(self):\n",
    "        '''\n",
    "        Min_heap will have at most one more element than max heap\n",
    "        '''\n",
    "        if self.size % 2 == 0:\n",
    "            return self.low_heap.get_root() # arbitrary\n",
    "        else:\n",
    "            if self.low_heap.size > self.high_heap.size:\n",
    "                return self.low_heap.get_root()\n",
    "            else:\n",
    "                return self.high_heap.get_root()"
   ]
  },
  {
   "cell_type": "code",
   "execution_count": 52,
   "metadata": {},
   "outputs": [],
   "source": [
    "# import random\n",
    "# r = []\n",
    "# for i in range(10):\n",
    "#     r.append(random.randint(1, 10))\n",
    "# r"
   ]
  },
  {
   "cell_type": "code",
   "execution_count": 43,
   "metadata": {},
   "outputs": [],
   "source": [
    "# m = MedianMaintainer()\n",
    "# m.insert(6331)\n",
    "# print(m.get_median())  \n",
    "# m.insert(2793)\n",
    "# # print(m.get_median())\n",
    "# m.insert(1640)\n",
    "# print(m.get_median())\n",
    "# m.insert(9290)\n",
    "# # print(m.get_median())\n",
    "# m.insert(225)\n",
    "# print(m.get_median())\n",
    "# m.insert(3)\n",
    "# # print(m.get_median())"
   ]
  },
  {
   "cell_type": "markdown",
   "metadata": {},
   "source": [
    "# Text file"
   ]
  },
  {
   "cell_type": "code",
   "execution_count": 53,
   "metadata": {},
   "outputs": [],
   "source": [
    "out_list = []\n",
    "with open(\"Medians.txt\", \"r\") as f:\n",
    "    out_list = [int(x.strip(\"/n\")) for x in f.readlines()]"
   ]
  },
  {
   "cell_type": "code",
   "execution_count": 54,
   "metadata": {},
   "outputs": [
    {
     "data": {
      "text/plain": [
       "10000"
      ]
     },
     "execution_count": 54,
     "metadata": {},
     "output_type": "execute_result"
    }
   ],
   "source": [
    "len(out_list)"
   ]
  },
  {
   "cell_type": "code",
   "execution_count": 56,
   "metadata": {},
   "outputs": [
    {
     "name": "stdout",
     "output_type": "stream",
     "text": [
      "6331\n",
      "2793\n",
      "1640\n"
     ]
    },
    {
     "ename": "IndexError",
     "evalue": "pop from empty list",
     "output_type": "error",
     "traceback": [
      "\u001b[0;31m---------------------------------------------------------------------------\u001b[0m",
      "\u001b[0;31mIndexError\u001b[0m                                Traceback (most recent call last)",
      "\u001b[0;32m<ipython-input-56-a24057095c83>\u001b[0m in \u001b[0;36m<module>\u001b[0;34m()\u001b[0m\n\u001b[1;32m      3\u001b[0m \u001b[0;32mfor\u001b[0m \u001b[0mi\u001b[0m\u001b[0;34m,\u001b[0m \u001b[0mel\u001b[0m \u001b[0;32min\u001b[0m \u001b[0menumerate\u001b[0m\u001b[0;34m(\u001b[0m\u001b[0mout_list\u001b[0m\u001b[0;34m)\u001b[0m\u001b[0;34m:\u001b[0m\u001b[0;34m\u001b[0m\u001b[0m\n\u001b[1;32m      4\u001b[0m     \u001b[0mprint\u001b[0m\u001b[0;34m(\u001b[0m\u001b[0mel\u001b[0m\u001b[0;34m)\u001b[0m\u001b[0;34m\u001b[0m\u001b[0m\n\u001b[0;32m----> 5\u001b[0;31m     \u001b[0mm\u001b[0m\u001b[0;34m.\u001b[0m\u001b[0minsert\u001b[0m\u001b[0;34m(\u001b[0m\u001b[0mel\u001b[0m\u001b[0;34m)\u001b[0m\u001b[0;34m\u001b[0m\u001b[0m\n\u001b[0m\u001b[1;32m      6\u001b[0m     \u001b[0mmedian_sum\u001b[0m \u001b[0;34m+=\u001b[0m \u001b[0mm\u001b[0m\u001b[0;34m.\u001b[0m\u001b[0mget_median\u001b[0m\u001b[0;34m(\u001b[0m\u001b[0;34m)\u001b[0m\u001b[0;34m\u001b[0m\u001b[0m\n",
      "\u001b[0;32m<ipython-input-51-327af7f0ea82>\u001b[0m in \u001b[0;36minsert\u001b[0;34m(self, el)\u001b[0m\n\u001b[1;32m     24\u001b[0m             \u001b[0mself\u001b[0m\u001b[0;34m.\u001b[0m\u001b[0mhigh_heap\u001b[0m\u001b[0;34m.\u001b[0m\u001b[0minsert\u001b[0m\u001b[0;34m(\u001b[0m\u001b[0mself\u001b[0m\u001b[0;34m.\u001b[0m\u001b[0mlow_heap\u001b[0m\u001b[0;34m.\u001b[0m\u001b[0mextract_max\u001b[0m\u001b[0;34m(\u001b[0m\u001b[0;34m)\u001b[0m\u001b[0;34m)\u001b[0m\u001b[0;34m\u001b[0m\u001b[0m\n\u001b[1;32m     25\u001b[0m         \u001b[0;32mwhile\u001b[0m \u001b[0mself\u001b[0m\u001b[0;34m.\u001b[0m\u001b[0mlow_heap\u001b[0m\u001b[0;34m.\u001b[0m\u001b[0msize\u001b[0m \u001b[0;34m<\u001b[0m \u001b[0mmed\u001b[0m\u001b[0;34m:\u001b[0m\u001b[0;34m\u001b[0m\u001b[0m\n\u001b[0;32m---> 26\u001b[0;31m             \u001b[0mself\u001b[0m\u001b[0;34m.\u001b[0m\u001b[0mlow_heap\u001b[0m\u001b[0;34m.\u001b[0m\u001b[0minsert\u001b[0m\u001b[0;34m(\u001b[0m\u001b[0mself\u001b[0m\u001b[0;34m.\u001b[0m\u001b[0mhigh_heap\u001b[0m\u001b[0;34m.\u001b[0m\u001b[0mextract_min\u001b[0m\u001b[0;34m(\u001b[0m\u001b[0;34m)\u001b[0m\u001b[0;34m)\u001b[0m\u001b[0;34m\u001b[0m\u001b[0m\n\u001b[0m\u001b[1;32m     27\u001b[0m \u001b[0;31m#         if self.size > 2:\u001b[0m\u001b[0;34m\u001b[0m\u001b[0;34m\u001b[0m\u001b[0m\n\u001b[1;32m     28\u001b[0m \u001b[0;31m#             if max(m.low_heap.array) != m.low_heap.array[0] or min(m.high_heap.array) != m.high_heap.array[0]:\u001b[0m\u001b[0;34m\u001b[0m\u001b[0;34m\u001b[0m\u001b[0m\n",
      "\u001b[0;32m<ipython-input-49-6e72ee61b38f>\u001b[0m in \u001b[0;36mextract_min\u001b[0;34m(self, debug)\u001b[0m\n\u001b[1;32m     40\u001b[0m \u001b[0;34m\u001b[0m\u001b[0m\n\u001b[1;32m     41\u001b[0m     \u001b[0;32mdef\u001b[0m \u001b[0mextract_min\u001b[0m\u001b[0;34m(\u001b[0m\u001b[0mself\u001b[0m\u001b[0;34m,\u001b[0m \u001b[0mdebug\u001b[0m\u001b[0;34m=\u001b[0m\u001b[0;32mFalse\u001b[0m\u001b[0;34m)\u001b[0m\u001b[0;34m:\u001b[0m\u001b[0;34m\u001b[0m\u001b[0m\n\u001b[0;32m---> 42\u001b[0;31m         \u001b[0mmin_el\u001b[0m \u001b[0;34m=\u001b[0m \u001b[0mself\u001b[0m\u001b[0;34m.\u001b[0m\u001b[0marray\u001b[0m\u001b[0;34m.\u001b[0m\u001b[0mpop\u001b[0m\u001b[0;34m(\u001b[0m\u001b[0;36m0\u001b[0m\u001b[0;34m)\u001b[0m\u001b[0;34m\u001b[0m\u001b[0m\n\u001b[0m\u001b[1;32m     43\u001b[0m         \u001b[0mself\u001b[0m\u001b[0;34m.\u001b[0m\u001b[0msize\u001b[0m \u001b[0;34m-=\u001b[0m \u001b[0;36m1\u001b[0m\u001b[0;34m\u001b[0m\u001b[0m\n\u001b[1;32m     44\u001b[0m         \u001b[0mself\u001b[0m\u001b[0;34m.\u001b[0m\u001b[0mlast_index\u001b[0m \u001b[0;34m-=\u001b[0m \u001b[0;36m1\u001b[0m\u001b[0;34m\u001b[0m\u001b[0m\n",
      "\u001b[0;31mIndexError\u001b[0m: pop from empty list"
     ]
    }
   ],
   "source": [
    "m = MedianMaintainer()\n",
    "median_sum = 0\n",
    "for i, el in enumerate(out_list):\n",
    "    print(el)\n",
    "    m.insert(el)\n",
    "    median_sum += m.get_median()"
   ]
  },
  {
   "cell_type": "code",
   "execution_count": 59,
   "metadata": {},
   "outputs": [
    {
     "data": {
      "text/plain": [
       "[1640, 6331, 2793]"
      ]
     },
     "execution_count": 59,
     "metadata": {},
     "output_type": "execute_result"
    }
   ],
   "source": [
    "m.low_heap.array"
   ]
  },
  {
   "cell_type": "code",
   "execution_count": 57,
   "metadata": {},
   "outputs": [
    {
     "data": {
      "text/plain": [
       "[4315,\n",
       " 4479,\n",
       " 4537,\n",
       " 4484,\n",
       " 4705,\n",
       " 4625,\n",
       " 5147,\n",
       " 4854,\n",
       " 4528,\n",
       " 5397,\n",
       " 4865,\n",
       " 4676,\n",
       " 5884,\n",
       " 5364,\n",
       " 5583,\n",
       " 5561,\n",
       " 5549,\n",
       " 5901,\n",
       " 4883,\n",
       " 5874,\n",
       " 5706,\n",
       " 5789,\n",
       " 5317,\n",
       " 5179,\n",
       " 6153,\n",
       " 6447,\n",
       " 6195,\n",
       " 5685,\n",
       " 8587,\n",
       " 5752,\n",
       " 6974,\n",
       " 6653,\n",
       " 6303,\n",
       " 6331,\n",
       " 7708,\n",
       " 6239,\n",
       " 6042,\n",
       " 5714,\n",
       " 5283,\n",
       " 6459,\n",
       " 6837,\n",
       " 7066,\n",
       " 6941,\n",
       " 6785,\n",
       " 7262,\n",
       " 5852,\n",
       " 7123,\n",
       " 6471,\n",
       " 6291,\n",
       " 6223,\n",
       " 7196,\n",
       " 6456,\n",
       " 9180,\n",
       " 9058,\n",
       " 9290,\n",
       " 8473,\n",
       " 9160,\n",
       " 9759,\n",
       " 8765,\n",
       " 9435,\n",
       " 8997,\n",
       " 8380,\n",
       " 7600,\n",
       " 7080,\n",
       " 7990,\n",
       " 9305,\n",
       " 9046,\n",
       " 7293,\n",
       " 7163,\n",
       " 9407,\n",
       " 9207,\n",
       " 8183,\n",
       " 6607,\n",
       " 7487,\n",
       " 6193,\n",
       " 6867,\n",
       " 6412,\n",
       " 8375,\n",
       " 5426,\n",
       " 8583,\n",
       " 8222,\n",
       " 8279,\n",
       " 8285,\n",
       " 9490,\n",
       " 7811,\n",
       " 6972,\n",
       " 8348,\n",
       " 6846,\n",
       " 7838,\n",
       " 9083,\n",
       " 9673,\n",
       " 7405,\n",
       " 6947]"
      ]
     },
     "execution_count": 57,
     "metadata": {},
     "output_type": "execute_result"
    }
   ],
   "source": [
    "h.array"
   ]
  },
  {
   "cell_type": "markdown",
   "metadata": {},
   "source": [
    "# Heap v2"
   ]
  },
  {
   "cell_type": "code",
   "execution_count": 47,
   "metadata": {},
   "outputs": [],
   "source": [
    "class MinHeap:\n",
    "  def __init__(self):\n",
    "    self.list = [0]\n",
    "    self.size = 0\n",
    "\n",
    "  def get_root(self):\n",
    "    if self.size == 0:\n",
    "      return None\n",
    "    else:\n",
    "      return self.list[1]\n",
    "\n",
    "  def insert(self, value):\n",
    "    self.list.append(value)\n",
    "    self.size += 1\n",
    "    self.percolateUp(self.size)\n",
    "\n",
    "  def percolateUp(self, i):\n",
    "    half_i = i // 2\n",
    "\n",
    "    while half_i:\n",
    "\n",
    "      if self.list[i] < self.list[half_i]:\n",
    "        self.list[i], self.list[half_i] = self.list[half_i], self.list[i]\n",
    "\n",
    "      i = half_i\n",
    "      half_i //= 2\n",
    "\n",
    "  def extract_min(self):\n",
    "    self.list[self.size], self.list[1] = self.list[1], self.list[self.size]\n",
    "    self.size -= 1\n",
    "\n",
    "    retval = self.list.pop()\n",
    "\n",
    "    self.percolateDown(1)\n",
    "\n",
    "    return retval\n",
    "\n",
    "  def percolateDown(self, i):\n",
    "    while 2 * i <= self.size:\n",
    "      minChildIndex = self.minChildIndex(i)\n",
    "\n",
    "      if self.list[i] > self.list[minChildIndex]:\n",
    "        self.list[i], self.list[minChildIndex] = self.list[minChildIndex], self.list[i]\n",
    "\n",
    "      i = minChildIndex\n",
    "\n",
    "  def minChildIndex(self, i):\n",
    "    if 2 * i + 1 > self.size:\n",
    "      return 2 * i\n",
    "    elif self.list[2 * i] < self.list[2 * i + 1]:\n",
    "      return 2 * i\n",
    "    else:\n",
    "      return 2 * i + 1\n",
    "\n",
    "class MaxHeap:\n",
    "  def __init__(self):\n",
    "    self.list = [0]\n",
    "    self.size = 0\n",
    "\n",
    "  def get_root(self):\n",
    "    if self.size == 0:\n",
    "      return None\n",
    "    else:\n",
    "      return self.list[1]\n",
    "\n",
    "  def insert(self, value):\n",
    "    self.list.append(value)\n",
    "    self.size += 1\n",
    "    self.percolateUp(self.size)\n",
    "\n",
    "  def percolateUp(self, i):\n",
    "    half_i = i // 2\n",
    "\n",
    "    while half_i:\n",
    "\n",
    "      if self.list[i] > self.list[half_i]:\n",
    "        self.list[i], self.list[half_i] = self.list[half_i], self.list[i]\n",
    "\n",
    "      i = half_i\n",
    "      half_i //= 2\n",
    "\n",
    "  def extract_max(self):\n",
    "    self.list[self.size], self.list[1] = self.list[1], self.list[self.size]\n",
    "    self.size -= 1\n",
    "\n",
    "    retval = self.list.pop()\n",
    "\n",
    "    self.percolateDown(1)\n",
    "\n",
    "    return retval\n",
    "\n",
    "  def percolateDown(self, i):\n",
    "    while 2 * i <= self.size:\n",
    "      maxChildIndex = self.maxChildIndex(i)\n",
    "\n",
    "      if self.list[i] < self.list[maxChildIndex]:\n",
    "        self.list[i], self.list[maxChildIndex] = self.list[maxChildIndex], self.list[i]\n",
    "\n",
    "      i = maxChildIndex\n",
    "\n",
    "  def maxChildIndex(self, i):\n",
    "    if 2 * i + 1 > self.size:\n",
    "      return 2 * i\n",
    "    elif self.list[2 * i] > self.list[2 * i + 1]:\n",
    "      return 2 * i\n",
    "    else:\n",
    "      return 2 * i + 1\n"
   ]
  },
  {
   "cell_type": "code",
   "execution_count": 48,
   "metadata": {},
   "outputs": [],
   "source": [
    "out_list = []\n",
    "with open(\"Medians.txt\", \"r\") as f:\n",
    "    out_list = [int(x.strip(\"/n\")) for x in f.readlines()]"
   ]
  },
  {
   "cell_type": "code",
   "execution_count": 78,
   "metadata": {},
   "outputs": [],
   "source": [
    "class MedianMaintainer:\n",
    "    \n",
    "    def __init__(self):\n",
    "        self.high_heap = MinHeap()\n",
    "        self.low_heap = MaxHeap()\n",
    "        self.size = 0\n",
    "        \n",
    "    def insert(self, el):\n",
    "        '''\n",
    "        Min_heap will have at most one more element than max heap\n",
    "        '''\n",
    "        self.size += 1\n",
    "        if self.size < 2:\n",
    "            self.low_heap.insert(el)\n",
    "        else:\n",
    "            low_max = self.low_heap.get_root()\n",
    "            if el >= low_max:\n",
    "                self.high_heap.insert(el)\n",
    "            else:\n",
    "                self.low_heap.insert(el)\n",
    "        \n",
    "        med = self.size // 2\n",
    "        while self.high_heap.size < med:\n",
    "            self.high_heap.insert(self.low_heap.extract_max())\n",
    "        while self.low_heap.size < med:\n",
    "            self.low_heap.insert(self.high_heap.extract_min())\n",
    "    \n",
    "    def get_median(self):\n",
    "        '''\n",
    "        Min_heap will have at most one more element than max heap\n",
    "        '''\n",
    "        if self.size % 2 == 0:\n",
    "            return self.low_heap.get_root() # arbitrary\n",
    "        else:\n",
    "            if self.low_heap.size > self.high_heap.size:\n",
    "                return self.low_heap.get_root()\n",
    "            else:\n",
    "                return self.high_heap.get_root()"
   ]
  },
  {
   "cell_type": "code",
   "execution_count": 79,
   "metadata": {},
   "outputs": [],
   "source": [
    "m = MedianMaintainer()\n",
    "median_sum = 0\n",
    "for i, el in enumerate(out_list):\n",
    "    m.insert(el)\n",
    "    median_sum += m.get_median()"
   ]
  },
  {
   "cell_type": "code",
   "execution_count": 80,
   "metadata": {},
   "outputs": [
    {
     "data": {
      "text/plain": [
       "46831213"
      ]
     },
     "execution_count": 80,
     "metadata": {},
     "output_type": "execute_result"
    }
   ],
   "source": [
    "median_sum"
   ]
  },
  {
   "cell_type": "code",
   "execution_count": null,
   "metadata": {},
   "outputs": [],
   "source": []
  }
 ],
 "metadata": {
  "kernelspec": {
   "display_name": "Python 3",
   "language": "python",
   "name": "python3"
  },
  "language_info": {
   "codemirror_mode": {
    "name": "ipython",
    "version": 3
   },
   "file_extension": ".py",
   "mimetype": "text/x-python",
   "name": "python",
   "nbconvert_exporter": "python",
   "pygments_lexer": "ipython3",
   "version": "3.6.4"
  }
 },
 "nbformat": 4,
 "nbformat_minor": 2
}
