{
 "cells": [
  {
   "cell_type": "code",
   "execution_count": 8,
   "metadata": {},
   "outputs": [],
   "source": [
    "import math\n",
    "def get_parent_pos(index):\n",
    "    if index < 2:\n",
    "        return None\n",
    "    if index % 2 == 0:\n",
    "        return index // 2\n",
    "    else:\n",
    "        return math.floor(index // 2)\n",
    "    \n",
    "def get_parent_index(index):\n",
    "    if index == 0:\n",
    "        return None\n",
    "    if index % 2 == 0:\n",
    "        return index // 2 - 1\n",
    "    else:\n",
    "        return math.floor(index // 2)"
   ]
  },
  {
   "cell_type": "code",
   "execution_count": 2,
   "metadata": {},
   "outputs": [],
   "source": [
    "# get_parent_index(1) # None\n",
    "# get_parent_index(2) # 0\n",
    "# get_parent_index(3) # 1\n",
    "# get_parent_index(4) # 1\n",
    "# get_parent_index(5) # 2\n",
    "# get_parent_index(6) # 2\n",
    "# get_parent_index(7) # \n",
    "# # get_parent_index(8) # \n",
    "# # get_parent_index(9) # "
   ]
  },
  {
   "cell_type": "code",
   "execution_count": 10,
   "metadata": {},
   "outputs": [],
   "source": [
    "def get_children_pos(index, list_size):\n",
    "    first, second = 2 * index, 2 * index + 1\n",
    "    if first > list_size:\n",
    "        return None, None\n",
    "    elif second > list_size-1:\n",
    "        return first+1, None\n",
    "    else:\n",
    "        return first+1, second+1\n"
   ]
  },
  {
   "cell_type": "code",
   "execution_count": 11,
   "metadata": {},
   "outputs": [],
   "source": [
    "def get_children_indices(index, list_size):\n",
    "    first, second = 2 * index, 2 * index + 1\n",
    "    if first >= list_size-1:\n",
    "        return (None, None)\n",
    "    elif second >= list_size-1:\n",
    "        return first+1, None\n",
    "    else:\n",
    "        return first+1, second+1\n",
    "\n"
   ]
  },
  {
   "cell_type": "code",
   "execution_count": 6,
   "metadata": {},
   "outputs": [],
   "source": [
    "print(get_children_indices(0, 10)) # 1, 2\n",
    "print(get_children_indices(1, 10)) # 3, 4\n",
    "print(get_children_indices(2, 6)) # 5"
   ]
  },
  {
   "cell_type": "code",
   "execution_count": 7,
   "metadata": {},
   "outputs": [
    {
     "name": "stdout",
     "output_type": "stream",
     "text": [
      "1\n",
      "1\n"
     ]
    }
   ],
   "source": [
    "# print(get_parent_pos(3)) # 1\n",
    "# print(get_parent_pos(2)) # 1"
   ]
  },
  {
   "cell_type": "code",
   "execution_count": 60,
   "metadata": {},
   "outputs": [],
   "source": [
    "# print(get_children_pos(1, 10)) # 2, 3\n",
    "# print(get_children_pos(2, 10)) # 4, 5\n",
    "# print(get_children_pos(3, 10)) # 6, 7\n",
    "# print(get_children_pos(3, 6)) # 6\n",
    "# print(get_children_pos(1, 2)) # 2\n",
    "# print(get_children_pos(4, 3)) # 2\n",
    "# print(get_children_pos(1, 3)) # 2"
   ]
  },
  {
   "cell_type": "code",
   "execution_count": 62,
   "metadata": {},
   "outputs": [],
   "source": [
    "class MinHeap:\n",
    "    \n",
    "    def __init__(self):\n",
    "        self.last_index = -1\n",
    "        self.size = 0\n",
    "        self.array = []\n",
    "        \n",
    "    def get_parent(self, index):\n",
    "        if index < 1:\n",
    "            return None\n",
    "        else:\n",
    "            return self.array[get_parent_index(index)]\n",
    "\n",
    "    def get_children(self, index):\n",
    "        first, second = get_children_pos(index + 1, self.size)\n",
    "        if not first:\n",
    "            return None, None\n",
    "        elif not second: \n",
    "            return None, self.array[second - 1]\n",
    "        else:\n",
    "            return self.array[first - 1], self.array[second - 1]\n",
    "        \n",
    "    def insert(self, el, debug=False):\n",
    "        self.array.append(el)\n",
    "        self.last_index += 1\n",
    "        self.size += 1\n",
    "        \n",
    "        parent = self.get_parent(self.last_index)\n",
    "        first_index = self.last_index\n",
    "        while True:\n",
    "            next_index = get_parent_index(first_index)\n",
    "            if next_index is None:\n",
    "                break\n",
    "            el, parent = self.array[first_index], self.array[next_index]\n",
    "            if el < parent:\n",
    "                self.array[first_index], self.array[next_index] = \\\n",
    "                        self.array[next_index], self.array[first_index]\n",
    "            else:\n",
    "                break\n",
    "            first_index = next_index\n",
    "                    \n",
    "    def extract_min(self, debug=False):\n",
    "        min_el = self.array.pop(0)\n",
    "        self.size -= 1\n",
    "        self.last_index -= 1\n",
    "        if self.size == 1:\n",
    "            return min_el\n",
    "        \n",
    "        min_index = 0\n",
    "        \n",
    "        first_index, second_index = get_children_indices(0, self.size)\n",
    "\n",
    "        if not first_index:\n",
    "            return min_el\n",
    "        elif not second_index:\n",
    "            first_child, second_child = self.array[min_index], self.array[first_index]\n",
    "            min_child = min(first_child, second_child)\n",
    "            if min_child == first_child:\n",
    "                return min_el\n",
    "            else:\n",
    "                self.array[min_index], self.array[first_index] = self.array[first_index], self.array[min_index]\n",
    "                return min_el\n",
    "        else:\n",
    "            first_child, second_child = self.array[first_index], self.array[second_index] \n",
    "            min_child = min(first_child, second_child)\n",
    "            if min_child == first_child:\n",
    "                min_index = 1\n",
    "            else:\n",
    "                min_index = 2\n",
    "        \n",
    "        last_index = 0\n",
    "        \n",
    "        self.array[last_index], self.array[min_index] = self.array[min_index], self.array[last_index]\n",
    "        \n",
    "        while True:\n",
    "            first_index, second_index = get_children_indices(min_index, self.size)\n",
    "            if not first_index:\n",
    "                return min_el\n",
    "            elif not second_index:\n",
    "                first_child, second_child = self.array[min_index], self.array[first_index]\n",
    "                min_child = min(first_child, second_child)\n",
    "                if min_child == first_child:\n",
    "                    return min_el\n",
    "                else:\n",
    "                    self.array[min_index], self.array[first_index] = self.array[first_index], self.array[min_index]\n",
    "                    return min_el\n",
    "            else:\n",
    "                first_child, second_child = self.array[first_index], self.array[second_index] \n",
    "                min_child = min(first_child, second_child)\n",
    "                if min_child == first_child:\n",
    "                    new_min_index = first_index\n",
    "                else:\n",
    "                    new_min_index = second_index\n",
    "                last_el = self.array[min_index]\n",
    "                if last_el < min_child:\n",
    "                    return min_el\n",
    "                else:\n",
    "                    self.array[min_index], self.array[new_min_index] = \\\n",
    "                        self.array[new_min_index], self.array[min_index]\n",
    "            \n",
    "            min_index = new_min_index\n",
    "\n",
    "    def extract_prepend(self):\n",
    "        min_el = self.extract_min()\n",
    "        self.array.insert(0, min_el)\n",
    "        self.size += 1\n",
    "        self.last_index += 1\n",
    "        return min_el       "
   ]
  },
  {
   "cell_type": "code",
   "execution_count": 73,
   "metadata": {},
   "outputs": [],
   "source": [
    "class MaxHeap:\n",
    "    \n",
    "    def __init__(self):\n",
    "        self.last_index = -1\n",
    "        self.size = 0\n",
    "        self.array = []\n",
    "        \n",
    "    def get_parent(self, index):\n",
    "        if index < 1:\n",
    "            return None\n",
    "        else:\n",
    "            return self.array[get_parent_index(index)]\n",
    "\n",
    "    def get_children(self, index):\n",
    "        first, second = get_children_pos(index + 1, self.size)\n",
    "        if not first:\n",
    "            return None, None\n",
    "        elif not second: \n",
    "            return None, self.array[second - 1]\n",
    "        else:\n",
    "            return self.array[first - 1], self.array[second - 1]\n",
    "        \n",
    "    def insert(self, el, debug=False):\n",
    "        self.array.append(el)\n",
    "        self.last_index += 1\n",
    "        self.size += 1\n",
    "        \n",
    "        parent = self.get_parent(self.last_index)\n",
    "        first_index = self.last_index\n",
    "        while True:\n",
    "            next_index = get_parent_index(first_index)\n",
    "            if next_index is None:\n",
    "                break\n",
    "            el, parent = self.array[first_index], self.array[next_index]\n",
    "            if el > parent:\n",
    "                self.array[first_index], self.array[next_index] = \\\n",
    "                        self.array[next_index], self.array[first_index]\n",
    "            else:\n",
    "                break\n",
    "            first_index = next_index\n",
    "                    \n",
    "    def extract_max(self, debug=False):\n",
    "        max_el = self.array[0]\n",
    "        last_el = self.array.pop()\n",
    "        if self.size == 1:\n",
    "            self.last_index -= 1\n",
    "            self.size -= 1\n",
    "            return max_el\n",
    "        self.size -= 1\n",
    "        self.last_index -= 1\n",
    "        self.array[0] = last_el\n",
    "        \n",
    "        max_index = 0\n",
    "        \n",
    "        first_index, second_index = get_children_indices(0, self.size)\n",
    "\n",
    "        if not first_index:\n",
    "            return max_el\n",
    "        elif not second_index:\n",
    "            first_child, second_child = self.array[max_index], self.array[first_index]\n",
    "            max_child = max(first_child, second_child)\n",
    "            if max_child == first_child:\n",
    "                return max_el\n",
    "            else:\n",
    "                self.array[max_index], self.array[first_index] = self.array[first_index], self.array[max_index]\n",
    "                return max_el\n",
    "        else:\n",
    "            first_child, second_child = self.array[first_index], self.array[second_index] \n",
    "            max_child = max(first_child, second_child)\n",
    "            if max_child == first_child:\n",
    "                max_index = 1\n",
    "            else:\n",
    "                max_index = 2\n",
    "        \n",
    "        last_index = 0\n",
    "        \n",
    "        self.array[last_index], self.array[max_index] = self.array[max_index], self.array[last_index]\n",
    "        \n",
    "        while True:\n",
    "            first_index, second_index = get_children_indices(max_index, self.size)\n",
    "            if not first_index:\n",
    "                return max_el\n",
    "            elif not second_index:\n",
    "                first_child, second_child = self.array[max_index], self.array[first_index]\n",
    "                max_child = max(first_child, second_child)\n",
    "                if max_child == first_child:\n",
    "                    return max_el\n",
    "                else:\n",
    "                    self.array[max_index], self.array[first_index] = self.array[first_index], self.array[max_index]\n",
    "                    return max_el\n",
    "            else:\n",
    "                first_child, second_child = self.array[first_index], self.array[second_index] \n",
    "                max_child = max(first_child, second_child)\n",
    "                if max_child == first_child:\n",
    "                    new_max_index = first_index\n",
    "                else:\n",
    "                    new_max_index = second_index\n",
    "                last_el = self.array[max_index]\n",
    "                if last_el > max_child:\n",
    "                    return max_el\n",
    "                else:\n",
    "                    self.array[max_index], self.array[new_max_index] = \\\n",
    "                        self.array[new_max_index], self.array[max_index]\n",
    "            \n",
    "            max_index = new_max_index\n",
    "\n",
    "    def extract_prepend(self):\n",
    "        max_el = self.extract_max()\n",
    "        self.array.insert(0, max_el)\n",
    "        self.size += 1\n",
    "        self.last_index += 1\n",
    "        return max_el       "
   ]
  },
  {
   "cell_type": "code",
   "execution_count": 77,
   "metadata": {},
   "outputs": [
    {
     "data": {
      "text/plain": [
       "[9, 11, 9, 10, 16, 17, 4, 8, 19, 16, 13, 10, 10, 3, 1, 7, 19, 12, 16, 15]"
      ]
     },
     "execution_count": 77,
     "metadata": {},
     "output_type": "execute_result"
    }
   ],
   "source": [
    "import random\n",
    "r = []\n",
    "num = 20\n",
    "for i in range(20):\n",
    "    r.append(random.randint(1, 20))\n",
    "r"
   ]
  },
  {
   "cell_type": "code",
   "execution_count": 467,
   "metadata": {},
   "outputs": [],
   "source": [
    "# h = Heap()\n",
    "# h.insert(3)\n",
    "# print(h.array)\n",
    "# h.insert(1, debug=True)\n",
    "# print(h.array)"
   ]
  },
  {
   "cell_type": "code",
   "execution_count": 78,
   "metadata": {},
   "outputs": [
    {
     "name": "stdout",
     "output_type": "stream",
     "text": [
      "[9]\n",
      "[11, 9]\n",
      "[11, 9, 9]\n",
      "[11, 10, 9, 9]\n",
      "[16, 11, 9, 9, 10]\n",
      "[17, 11, 16, 9, 10, 9]\n",
      "[17, 11, 16, 9, 10, 9, 4]\n",
      "[17, 11, 16, 9, 10, 9, 4, 8]\n",
      "[19, 17, 16, 11, 10, 9, 4, 8, 9]\n",
      "[19, 17, 16, 11, 16, 9, 4, 8, 9, 10]\n",
      "[19, 17, 16, 11, 16, 9, 4, 8, 9, 10, 13]\n",
      "[19, 17, 16, 11, 16, 10, 4, 8, 9, 10, 13, 9]\n",
      "[19, 17, 16, 11, 16, 10, 4, 8, 9, 10, 13, 9, 10]\n",
      "[19, 17, 16, 11, 16, 10, 4, 8, 9, 10, 13, 9, 10, 3]\n",
      "[19, 17, 16, 11, 16, 10, 4, 8, 9, 10, 13, 9, 10, 3, 1]\n",
      "[19, 17, 16, 11, 16, 10, 4, 8, 9, 10, 13, 9, 10, 3, 1, 7]\n",
      "[19, 19, 16, 17, 16, 10, 4, 11, 9, 10, 13, 9, 10, 3, 1, 7, 8]\n",
      "[19, 19, 16, 17, 16, 10, 4, 11, 12, 10, 13, 9, 10, 3, 1, 7, 8, 9]\n",
      "[19, 19, 16, 17, 16, 10, 4, 11, 16, 10, 13, 9, 10, 3, 1, 7, 8, 9, 12]\n",
      "[19, 19, 16, 17, 16, 10, 4, 11, 16, 15, 13, 9, 10, 3, 1, 7, 8, 9, 12, 10]\n"
     ]
    },
    {
     "data": {
      "text/plain": [
       "[19, 19, 16, 17, 16, 10, 4, 11, 16, 15, 13, 9, 10, 3, 1, 7, 8, 9, 12, 10]"
      ]
     },
     "execution_count": 78,
     "metadata": {},
     "output_type": "execute_result"
    }
   ],
   "source": [
    "h = MaxHeap()\n",
    "for el in r:\n",
    "    h.insert(el)\n",
    "    print(h.array)\n",
    "h.array"
   ]
  },
  {
   "cell_type": "code",
   "execution_count": 531,
   "metadata": {},
   "outputs": [
    {
     "name": "stdout",
     "output_type": "stream",
     "text": [
      "[7]\n",
      "[7, 6]\n",
      "[7, 6, 5]\n"
     ]
    }
   ],
   "source": [
    "# h = MaxHeap()\n",
    "# h.insert(7)\n",
    "# print(h.array)\n",
    "# h.insert(6)\n",
    "# print(h.array)\n",
    "# h.insert(5)\n",
    "# print(h.array)"
   ]
  },
  {
   "cell_type": "code",
   "execution_count": 532,
   "metadata": {},
   "outputs": [
    {
     "name": "stdout",
     "output_type": "stream",
     "text": [
      "7\n",
      "[6, 5]\n"
     ]
    }
   ],
   "source": [
    "# print(h.extract_max())\n",
    "# print(h.array)"
   ]
  },
  {
   "cell_type": "code",
   "execution_count": 524,
   "metadata": {},
   "outputs": [
    {
     "data": {
      "text/plain": [
       "1"
      ]
     },
     "execution_count": 524,
     "metadata": {},
     "output_type": "execute_result"
    }
   ],
   "source": [
    "h.last_index"
   ]
  },
  {
   "cell_type": "code",
   "execution_count": 79,
   "metadata": {},
   "outputs": [
    {
     "name": "stdout",
     "output_type": "stream",
     "text": [
      "Max: 19\n",
      "[19, 17, 16, 16, 16, 10, 4, 11, 12, 15, 13, 9, 10, 3, 1, 7, 8, 9, 10]\n",
      "Max: 19\n",
      "[17, 16, 16, 12, 16, 10, 4, 11, 10, 15, 13, 9, 10, 3, 1, 7, 8, 9]\n",
      "Max: 17\n",
      "[16, 16, 16, 12, 15, 10, 4, 11, 10, 9, 13, 9, 10, 3, 1, 7, 8]\n",
      "Max: 16\n",
      "[16, 15, 16, 12, 13, 10, 4, 11, 10, 9, 8, 9, 10, 3, 1, 7]\n",
      "Max: 16\n",
      "[16, 15, 10, 12, 13, 10, 4, 11, 10, 9, 8, 9, 7, 3, 1]\n",
      "Max: 16\n",
      "[15, 13, 10, 12, 9, 10, 4, 11, 10, 1, 8, 9, 7, 3]\n",
      "Max: 15\n",
      "[13, 12, 10, 11, 9, 10, 4, 3, 10, 1, 8, 9, 7]\n",
      "Max: 13\n",
      "[12, 11, 10, 10, 9, 10, 4, 3, 7, 1, 8, 9]\n",
      "Max: 12\n",
      "[11, 10, 10, 9, 9, 10, 4, 3, 7, 1, 8]\n",
      "Max: 11\n",
      "[10, 9, 10, 8, 9, 10, 4, 3, 7, 1]\n"
     ]
    }
   ],
   "source": [
    "for i in range(10):\n",
    "    a = h.extract_max()\n",
    "    print(\"Max:\", a)\n",
    "    print(h.array)"
   ]
  },
  {
   "cell_type": "markdown",
   "metadata": {},
   "source": [
    "# Median maintenance"
   ]
  },
  {
   "cell_type": "code",
   "execution_count": null,
   "metadata": {},
   "outputs": [],
   "source": [
    "class MedianMaintainer:\n",
    "    \n",
    "    def __init__(self):\n",
    "        self.high_heap = MinHeap()\n",
    "        self.low_heap = MaxHeap()\n",
    "        self.size = 0\n",
    "        \n",
    "    def insert(self, el):\n",
    "        '''\n",
    "        Min_heap will have at most one more element than max heap\n",
    "        '''\n",
    "        self.size += 1\n",
    "        if self.size < 2:\n",
    "            self.low_heap.insert(el)\n",
    "        else:\n",
    "            low_max = self.low_heap.extract_prepend()\n",
    "            if el >= low_max:\n",
    "                self.high_heap.insert(el)\n",
    "            else:\n",
    "                self.low_heap.insert(el)\n",
    "        \n",
    "        med = self.size // 2\n",
    "        if self.size == 184:\n",
    "            import pdb; pdb.set_trace()\n",
    "        while self.high_heap.size < med:\n",
    "            self.high_heap.insert(self.low_heap.extract_max())\n",
    "        while self.low_heap.size < med:\n",
    "            self.low_heap.insert(self.high_heap.extract_min())\n",
    "#         if self.size > 2:\n",
    "#             if max(m.low_heap.array) != m.low_heap.array[0] or min(m.high_heap.array) != m.high_heap.array[0]:\n",
    "#                 import pdb; pdb.set_trace()\n",
    "    \n",
    "    def get_median(self):\n",
    "        '''\n",
    "        Min_heap will have at most one more element than max heap\n",
    "        '''\n",
    "        if self.size % 2 == 0:\n",
    "            return self.low_heap.extract_prepend() # arbitrary\n",
    "        else:\n",
    "            if self.low_heap.size > self.high_heap.size:\n",
    "                return self.low_heap.extract_prepend()\n",
    "            else:\n",
    "                return self.high_heap.extract_prepend()"
   ]
  },
  {
   "cell_type": "code",
   "execution_count": 607,
   "metadata": {},
   "outputs": [
    {
     "data": {
      "text/plain": [
       "[8, 5, 9, 8, 6, 4, 8, 8, 9, 8]"
      ]
     },
     "execution_count": 607,
     "metadata": {},
     "output_type": "execute_result"
    }
   ],
   "source": [
    "import random\n",
    "r = []\n",
    "for i in range(10):\n",
    "    r.append(random.randint(1, 10))\n",
    "r"
   ]
  },
  {
   "cell_type": "code",
   "execution_count": 658,
   "metadata": {},
   "outputs": [
    {
     "name": "stdout",
     "output_type": "stream",
     "text": [
      "6331\n",
      "2793\n",
      "2793\n"
     ]
    }
   ],
   "source": [
    "m = MedianMaintainer()\n",
    "m.insert(6331)\n",
    "print(m.get_median())  \n",
    "m.insert(2793)\n",
    "# print(m.get_median())\n",
    "m.insert(1640)\n",
    "print(m.get_median())\n",
    "m.insert(9290)\n",
    "# print(m.get_median())\n",
    "m.insert(225)\n",
    "print(m.get_median())\n",
    "m.insert(3)\n",
    "# print(m.get_median())"
   ]
  },
  {
   "cell_type": "code",
   "execution_count": 659,
   "metadata": {},
   "outputs": [
    {
     "data": {
      "text/plain": [
       "3"
      ]
     },
     "execution_count": 659,
     "metadata": {},
     "output_type": "execute_result"
    }
   ],
   "source": [
    "m.high_heap.size"
   ]
  },
  {
   "cell_type": "code",
   "execution_count": 660,
   "metadata": {},
   "outputs": [
    {
     "data": {
      "text/plain": [
       "[2793, 9290, 6331]"
      ]
     },
     "execution_count": 660,
     "metadata": {},
     "output_type": "execute_result"
    }
   ],
   "source": [
    "m.high_heap.array"
   ]
  },
  {
   "cell_type": "code",
   "execution_count": 661,
   "metadata": {},
   "outputs": [
    {
     "data": {
      "text/plain": [
       "[1640, 3, 225]"
      ]
     },
     "execution_count": 661,
     "metadata": {},
     "output_type": "execute_result"
    }
   ],
   "source": [
    "m.low_heap.array"
   ]
  },
  {
   "cell_type": "code",
   "execution_count": 662,
   "metadata": {},
   "outputs": [
    {
     "data": {
      "text/plain": [
       "3"
      ]
     },
     "execution_count": 662,
     "metadata": {},
     "output_type": "execute_result"
    }
   ],
   "source": [
    "m.low_heap.size"
   ]
  },
  {
   "cell_type": "code",
   "execution_count": 663,
   "metadata": {},
   "outputs": [
    {
     "data": {
      "text/plain": [
       "2"
      ]
     },
     "execution_count": 663,
     "metadata": {},
     "output_type": "execute_result"
    }
   ],
   "source": [
    "m.low_heap.last_index"
   ]
  },
  {
   "cell_type": "markdown",
   "metadata": {},
   "source": [
    "# Text file"
   ]
  },
  {
   "cell_type": "code",
   "execution_count": null,
   "metadata": {},
   "outputs": [],
   "source": [
    "out_list = []\n",
    "with open(\"Medians.txt\", \"r\") as f:\n",
    "    out_list = [int(x.strip(\"/n\")) for x in f.readlines()]"
   ]
  },
  {
   "cell_type": "code",
   "execution_count": null,
   "metadata": {},
   "outputs": [],
   "source": [
    "len(out_list)"
   ]
  },
  {
   "cell_type": "code",
   "execution_count": 60,
   "metadata": {},
   "outputs": [],
   "source": [
    "m = MedianMaintainer()\n",
    "median_sum = 0\n",
    "for i, el in enumerate(out_list[:183]):\n",
    "    m.insert(el)\n",
    "    median_sum += m.get_median()"
   ]
  },
  {
   "cell_type": "code",
   "execution_count": 61,
   "metadata": {},
   "outputs": [
    {
     "name": "stdout",
     "output_type": "stream",
     "text": [
      "> <ipython-input-59-fdb1857f6165>(25)insert()\n",
      "-> while self.high_heap.size < med:\n",
      "(Pdb) m.high_heap.array\n",
      "[4315, 4528, 4537, 4484, 4705, 4625, 5147, 5561, 4883, 5397, 4865, 5179, 6456, 5364, 5583, 4854, 5549, 6042, 5714, 6459, 5706, 6785, 5317, 4676, 6223, 5884, 6195, 5685, 8765, 5752, 6974, 6653, 9046, 7163, 7708, 6607, 6193, 5283, 8375, 8583, 8279, 7066, 6941, 5789, 7262, 7405, 6947, 6471, 6291, 6153, 7196, 6447, 9180, 9058, 9290, 8473, 9160, 9759, 8587, 9435, 8997, 8380, 7600, 7080, 7990, 9305, 6303, 7293, 6331, 9407, 9207, 8183, 6239, 7487, 5901, 6867, 6412, 5426, 4479, 8222, 5874, 6837, 8285, 9490, 7811, 6972, 8348, 6846, 7838, 9083, 9673, 5852, 7123]\n",
      "(Pdb) med\n",
      "92\n",
      "(Pdb) self.high_heap.size\n",
      "93\n",
      "(Pdb) self.low_heap.size\n",
      "91\n",
      "(Pdb) self.low_heap.array\n",
      "[4292, 4200, 4181, 4164, 4135, 4154, 3719, 3932, 3788, 3912, 4015, 2478, 3518, 3505, 3611, 3382, 3303, 3480, 3555, 3365, 3428, 2425, 2335, 2852, 2632, 3172, 3355, 3561, 2960, 3716, 3371, 2261, 2746, 2591, 2833, 2793, 2919, 2246, 1866, 1354, 2491, 1446, 1341, 2123, 1640, 1500, 2050, 2367, 1875, 1595, 3091, 1183, 2303, 927, 1781, 1746, 1801, 2454, 3072, 1381, 388, 1386, 1216, 2022, 1267, 1687, 1952, 282, 831, 414, 982, 1733, 286, 1000, 1420, 625, 1286, 1763, 2329, 1477, 1369, 1274, 1260, 1645, 365, 1310, 1009, 225, 993, 961, 1058]\n",
      "(Pdb) m.extract_prepend(self.high_heap)\n",
      "*** AttributeError: 'MedianMaintainer' object has no attribute 'extract_prepend'\n",
      "(Pdb) m.high_heap.extract_prepend()\n",
      "4315\n",
      "(Pdb) m.high_heap\n",
      "<__main__.MinHeap object at 0x113eff9e8>\n",
      "(Pdb) m.high_heap.array\n",
      "[4315, 4528, 4484, 4537, 4883, 4705, 4625, 5147, 5561, 5714, 5397, 4865, 5179, 6456, 5364, 5583, 4854, 5549, 6042, 5283, 6459, 5706, 6785, 5317, 4676, 6223, 5884, 6195, 5685, 8765, 5752, 6974, 6653, 9046, 7163, 7708, 6607, 6193, 6412, 8375, 8583, 8279, 7066, 6941, 5789, 7262, 7405, 6947, 6471, 6291, 6153, 7196, 6447, 9180, 9058, 9290, 8473, 9160, 9759, 8587, 9435, 8997, 8380, 7600, 7080, 7990, 9305, 6303, 7293, 6331, 9407, 9207, 8183, 6239, 7487, 5901, 6867, 7123, 5426, 4479, 8222, 5874, 6837, 8285, 9490, 7811, 6972, 8348, 6846, 7838, 9083, 9673, 5852]\n",
      "(Pdb) m.high_heap.extract_min()\n",
      "4315\n",
      "(Pdb) m.high_heap.array\n",
      "[4484, 4528, 4625, 4537, 4883, 4705, 5364, 5147, 5561, 5714, 5397, 4865, 5179, 6456, 5752, 5583, 4854, 5549, 6042, 5283, 6459, 5706, 6785, 5317, 4676, 6223, 5884, 6195, 5685, 8765, 5852, 6974, 6653, 9046, 7163, 7708, 6607, 6193, 6412, 8375, 8583, 8279, 7066, 6941, 5789, 7262, 7405, 6947, 6471, 6291, 6153, 7196, 6447, 9180, 9058, 9290, 8473, 9160, 9759, 8587, 9435, 8997, 8380, 7600, 7080, 7990, 9305, 6303, 7293, 6331, 9407, 9207, 8183, 6239, 7487, 5901, 6867, 7123, 5426, 4479, 8222, 5874, 6837, 8285, 9490, 7811, 6972, 8348, 6846, 7838, 9083, 9673]\n",
      "(Pdb) h.size\n",
      "*** No help for '.size'\n",
      "(Pdb) m.size\n",
      "184\n",
      "(Pdb) m.high_heap.size\n",
      "92\n",
      "(Pdb) m.high_heap.last_index\n",
      "91\n",
      "(Pdb) exit()\n"
     ]
    },
    {
     "ename": "BdbQuit",
     "evalue": "",
     "output_type": "error",
     "traceback": [
      "\u001b[0;31m---------------------------------------------------------------------------\u001b[0m",
      "\u001b[0;31mBdbQuit\u001b[0m                                   Traceback (most recent call last)",
      "\u001b[0;32m<ipython-input-61-746101448b31>\u001b[0m in \u001b[0;36m<module>\u001b[0;34m()\u001b[0m\n\u001b[0;32m----> 1\u001b[0;31m \u001b[0mm\u001b[0m\u001b[0;34m.\u001b[0m\u001b[0minsert\u001b[0m\u001b[0;34m(\u001b[0m\u001b[0;36m4705\u001b[0m\u001b[0;34m)\u001b[0m\u001b[0;34m\u001b[0m\u001b[0m\n\u001b[0m",
      "\u001b[0;32m<ipython-input-59-fdb1857f6165>\u001b[0m in \u001b[0;36minsert\u001b[0;34m(self, el)\u001b[0m\n\u001b[1;32m     23\u001b[0m         \u001b[0;32mif\u001b[0m \u001b[0mself\u001b[0m\u001b[0;34m.\u001b[0m\u001b[0msize\u001b[0m \u001b[0;34m==\u001b[0m \u001b[0;36m184\u001b[0m\u001b[0;34m:\u001b[0m\u001b[0;34m\u001b[0m\u001b[0m\n\u001b[1;32m     24\u001b[0m             \u001b[0;32mimport\u001b[0m \u001b[0mpdb\u001b[0m\u001b[0;34m;\u001b[0m \u001b[0mpdb\u001b[0m\u001b[0;34m.\u001b[0m\u001b[0mset_trace\u001b[0m\u001b[0;34m(\u001b[0m\u001b[0;34m)\u001b[0m\u001b[0;34m\u001b[0m\u001b[0m\n\u001b[0;32m---> 25\u001b[0;31m         \u001b[0;32mwhile\u001b[0m \u001b[0mself\u001b[0m\u001b[0;34m.\u001b[0m\u001b[0mhigh_heap\u001b[0m\u001b[0;34m.\u001b[0m\u001b[0msize\u001b[0m \u001b[0;34m<\u001b[0m \u001b[0mmed\u001b[0m\u001b[0;34m:\u001b[0m\u001b[0;34m\u001b[0m\u001b[0m\n\u001b[0m\u001b[1;32m     26\u001b[0m             \u001b[0mself\u001b[0m\u001b[0;34m.\u001b[0m\u001b[0mhigh_heap\u001b[0m\u001b[0;34m.\u001b[0m\u001b[0minsert\u001b[0m\u001b[0;34m(\u001b[0m\u001b[0mself\u001b[0m\u001b[0;34m.\u001b[0m\u001b[0mlow_heap\u001b[0m\u001b[0;34m.\u001b[0m\u001b[0mextract_max\u001b[0m\u001b[0;34m(\u001b[0m\u001b[0;34m)\u001b[0m\u001b[0;34m)\u001b[0m\u001b[0;34m\u001b[0m\u001b[0m\n\u001b[1;32m     27\u001b[0m         \u001b[0;32mwhile\u001b[0m \u001b[0mself\u001b[0m\u001b[0;34m.\u001b[0m\u001b[0mlow_heap\u001b[0m\u001b[0;34m.\u001b[0m\u001b[0msize\u001b[0m \u001b[0;34m<\u001b[0m \u001b[0mmed\u001b[0m\u001b[0;34m:\u001b[0m\u001b[0;34m\u001b[0m\u001b[0m\n",
      "\u001b[0;32m<ipython-input-59-fdb1857f6165>\u001b[0m in \u001b[0;36minsert\u001b[0;34m(self, el)\u001b[0m\n\u001b[1;32m     23\u001b[0m         \u001b[0;32mif\u001b[0m \u001b[0mself\u001b[0m\u001b[0;34m.\u001b[0m\u001b[0msize\u001b[0m \u001b[0;34m==\u001b[0m \u001b[0;36m184\u001b[0m\u001b[0;34m:\u001b[0m\u001b[0;34m\u001b[0m\u001b[0m\n\u001b[1;32m     24\u001b[0m             \u001b[0;32mimport\u001b[0m \u001b[0mpdb\u001b[0m\u001b[0;34m;\u001b[0m \u001b[0mpdb\u001b[0m\u001b[0;34m.\u001b[0m\u001b[0mset_trace\u001b[0m\u001b[0;34m(\u001b[0m\u001b[0;34m)\u001b[0m\u001b[0;34m\u001b[0m\u001b[0m\n\u001b[0;32m---> 25\u001b[0;31m         \u001b[0;32mwhile\u001b[0m \u001b[0mself\u001b[0m\u001b[0;34m.\u001b[0m\u001b[0mhigh_heap\u001b[0m\u001b[0;34m.\u001b[0m\u001b[0msize\u001b[0m \u001b[0;34m<\u001b[0m \u001b[0mmed\u001b[0m\u001b[0;34m:\u001b[0m\u001b[0;34m\u001b[0m\u001b[0m\n\u001b[0m\u001b[1;32m     26\u001b[0m             \u001b[0mself\u001b[0m\u001b[0;34m.\u001b[0m\u001b[0mhigh_heap\u001b[0m\u001b[0;34m.\u001b[0m\u001b[0minsert\u001b[0m\u001b[0;34m(\u001b[0m\u001b[0mself\u001b[0m\u001b[0;34m.\u001b[0m\u001b[0mlow_heap\u001b[0m\u001b[0;34m.\u001b[0m\u001b[0mextract_max\u001b[0m\u001b[0;34m(\u001b[0m\u001b[0;34m)\u001b[0m\u001b[0;34m)\u001b[0m\u001b[0;34m\u001b[0m\u001b[0m\n\u001b[1;32m     27\u001b[0m         \u001b[0;32mwhile\u001b[0m \u001b[0mself\u001b[0m\u001b[0;34m.\u001b[0m\u001b[0mlow_heap\u001b[0m\u001b[0;34m.\u001b[0m\u001b[0msize\u001b[0m \u001b[0;34m<\u001b[0m \u001b[0mmed\u001b[0m\u001b[0;34m:\u001b[0m\u001b[0;34m\u001b[0m\u001b[0m\n",
      "\u001b[0;32m/usr/local/Cellar/python3/3.6.4/Frameworks/Python.framework/Versions/3.6/lib/python3.6/bdb.py\u001b[0m in \u001b[0;36mtrace_dispatch\u001b[0;34m(self, frame, event, arg)\u001b[0m\n\u001b[1;32m     46\u001b[0m             \u001b[0;32mreturn\u001b[0m \u001b[0;31m# None\u001b[0m\u001b[0;34m\u001b[0m\u001b[0m\n\u001b[1;32m     47\u001b[0m         \u001b[0;32mif\u001b[0m \u001b[0mevent\u001b[0m \u001b[0;34m==\u001b[0m \u001b[0;34m'line'\u001b[0m\u001b[0;34m:\u001b[0m\u001b[0;34m\u001b[0m\u001b[0m\n\u001b[0;32m---> 48\u001b[0;31m             \u001b[0;32mreturn\u001b[0m \u001b[0mself\u001b[0m\u001b[0;34m.\u001b[0m\u001b[0mdispatch_line\u001b[0m\u001b[0;34m(\u001b[0m\u001b[0mframe\u001b[0m\u001b[0;34m)\u001b[0m\u001b[0;34m\u001b[0m\u001b[0m\n\u001b[0m\u001b[1;32m     49\u001b[0m         \u001b[0;32mif\u001b[0m \u001b[0mevent\u001b[0m \u001b[0;34m==\u001b[0m \u001b[0;34m'call'\u001b[0m\u001b[0;34m:\u001b[0m\u001b[0;34m\u001b[0m\u001b[0m\n\u001b[1;32m     50\u001b[0m             \u001b[0;32mreturn\u001b[0m \u001b[0mself\u001b[0m\u001b[0;34m.\u001b[0m\u001b[0mdispatch_call\u001b[0m\u001b[0;34m(\u001b[0m\u001b[0mframe\u001b[0m\u001b[0;34m,\u001b[0m \u001b[0marg\u001b[0m\u001b[0;34m)\u001b[0m\u001b[0;34m\u001b[0m\u001b[0m\n",
      "\u001b[0;32m/usr/local/Cellar/python3/3.6.4/Frameworks/Python.framework/Versions/3.6/lib/python3.6/bdb.py\u001b[0m in \u001b[0;36mdispatch_line\u001b[0;34m(self, frame)\u001b[0m\n\u001b[1;32m     65\u001b[0m         \u001b[0;32mif\u001b[0m \u001b[0mself\u001b[0m\u001b[0;34m.\u001b[0m\u001b[0mstop_here\u001b[0m\u001b[0;34m(\u001b[0m\u001b[0mframe\u001b[0m\u001b[0;34m)\u001b[0m \u001b[0;32mor\u001b[0m \u001b[0mself\u001b[0m\u001b[0;34m.\u001b[0m\u001b[0mbreak_here\u001b[0m\u001b[0;34m(\u001b[0m\u001b[0mframe\u001b[0m\u001b[0;34m)\u001b[0m\u001b[0;34m:\u001b[0m\u001b[0;34m\u001b[0m\u001b[0m\n\u001b[1;32m     66\u001b[0m             \u001b[0mself\u001b[0m\u001b[0;34m.\u001b[0m\u001b[0muser_line\u001b[0m\u001b[0;34m(\u001b[0m\u001b[0mframe\u001b[0m\u001b[0;34m)\u001b[0m\u001b[0;34m\u001b[0m\u001b[0m\n\u001b[0;32m---> 67\u001b[0;31m             \u001b[0;32mif\u001b[0m \u001b[0mself\u001b[0m\u001b[0;34m.\u001b[0m\u001b[0mquitting\u001b[0m\u001b[0;34m:\u001b[0m \u001b[0;32mraise\u001b[0m \u001b[0mBdbQuit\u001b[0m\u001b[0;34m\u001b[0m\u001b[0m\n\u001b[0m\u001b[1;32m     68\u001b[0m         \u001b[0;32mreturn\u001b[0m \u001b[0mself\u001b[0m\u001b[0;34m.\u001b[0m\u001b[0mtrace_dispatch\u001b[0m\u001b[0;34m\u001b[0m\u001b[0m\n\u001b[1;32m     69\u001b[0m \u001b[0;34m\u001b[0m\u001b[0m\n",
      "\u001b[0;31mBdbQuit\u001b[0m: "
     ]
    }
   ],
   "source": [
    "m.insert(4705)"
   ]
  },
  {
   "cell_type": "code",
   "execution_count": 57,
   "metadata": {},
   "outputs": [
    {
     "data": {
      "text/plain": [
       "[4315,\n",
       " 4479,\n",
       " 4537,\n",
       " 4484,\n",
       " 4705,\n",
       " 4625,\n",
       " 5147,\n",
       " 4854,\n",
       " 4528,\n",
       " 5397,\n",
       " 4865,\n",
       " 4676,\n",
       " 5884,\n",
       " 5364,\n",
       " 5583,\n",
       " 5561,\n",
       " 5549,\n",
       " 5901,\n",
       " 4883,\n",
       " 5874,\n",
       " 5706,\n",
       " 5789,\n",
       " 5317,\n",
       " 5179,\n",
       " 6153,\n",
       " 6447,\n",
       " 6195,\n",
       " 5685,\n",
       " 8587,\n",
       " 5752,\n",
       " 6974,\n",
       " 6653,\n",
       " 6303,\n",
       " 6331,\n",
       " 7708,\n",
       " 6239,\n",
       " 6042,\n",
       " 5714,\n",
       " 5283,\n",
       " 6459,\n",
       " 6837,\n",
       " 7066,\n",
       " 6941,\n",
       " 6785,\n",
       " 7262,\n",
       " 5852,\n",
       " 7123,\n",
       " 6471,\n",
       " 6291,\n",
       " 6223,\n",
       " 7196,\n",
       " 6456,\n",
       " 9180,\n",
       " 9058,\n",
       " 9290,\n",
       " 8473,\n",
       " 9160,\n",
       " 9759,\n",
       " 8765,\n",
       " 9435,\n",
       " 8997,\n",
       " 8380,\n",
       " 7600,\n",
       " 7080,\n",
       " 7990,\n",
       " 9305,\n",
       " 9046,\n",
       " 7293,\n",
       " 7163,\n",
       " 9407,\n",
       " 9207,\n",
       " 8183,\n",
       " 6607,\n",
       " 7487,\n",
       " 6193,\n",
       " 6867,\n",
       " 6412,\n",
       " 8375,\n",
       " 5426,\n",
       " 8583,\n",
       " 8222,\n",
       " 8279,\n",
       " 8285,\n",
       " 9490,\n",
       " 7811,\n",
       " 6972,\n",
       " 8348,\n",
       " 6846,\n",
       " 7838,\n",
       " 9083,\n",
       " 9673,\n",
       " 7405,\n",
       " 6947]"
      ]
     },
     "execution_count": 57,
     "metadata": {},
     "output_type": "execute_result"
    }
   ],
   "source": [
    "h.array"
   ]
  },
  {
   "cell_type": "markdown",
   "metadata": {},
   "source": [
    "# Heap v2"
   ]
  },
  {
   "cell_type": "code",
   "execution_count": 76,
   "metadata": {},
   "outputs": [],
   "source": [
    "class MinHeap:\n",
    "  def __init__(self):\n",
    "    self.list = [0]\n",
    "    self.size = 0\n",
    "\n",
    "  def get_root(self):\n",
    "    if self.size == 0:\n",
    "      return None\n",
    "    else:\n",
    "      return self.list[1]\n",
    "\n",
    "  def insert(self, value):\n",
    "    self.list.append(value)\n",
    "    self.size += 1\n",
    "    self.percolateUp(self.size)\n",
    "\n",
    "  def percolateUp(self, i):\n",
    "    half_i = i // 2\n",
    "\n",
    "    while half_i:\n",
    "\n",
    "      if self.list[i] < self.list[half_i]:\n",
    "        self.list[i], self.list[half_i] = self.list[half_i], self.list[i]\n",
    "\n",
    "      i = half_i\n",
    "      half_i //= 2\n",
    "\n",
    "  def extract_min(self):\n",
    "    self.list[self.size], self.list[1] = self.list[1], self.list[self.size]\n",
    "    self.size -= 1\n",
    "\n",
    "    retval = self.list.pop()\n",
    "\n",
    "    self.percolateDown(1)\n",
    "\n",
    "    return retval\n",
    "\n",
    "  def percolateDown(self, i):\n",
    "    while 2 * i <= self.size:\n",
    "      minChildIndex = self.minChildIndex(i)\n",
    "\n",
    "      if self.list[i] > self.list[minChildIndex]:\n",
    "        self.list[i], self.list[minChildIndex] = self.list[minChildIndex], self.list[i]\n",
    "\n",
    "      i = minChildIndex\n",
    "\n",
    "  def minChildIndex(self, i):\n",
    "    if 2 * i + 1 > self.size:\n",
    "      return 2 * i\n",
    "    elif self.list[2 * i] < self.list[2 * i + 1]:\n",
    "      return 2 * i\n",
    "    else:\n",
    "      return 2 * i + 1\n",
    "\n",
    "class MaxHeap:\n",
    "  def __init__(self):\n",
    "    self.list = [0]\n",
    "    self.size = 0\n",
    "\n",
    "  def get_root(self):\n",
    "    if self.size == 0:\n",
    "      return None\n",
    "    else:\n",
    "      return self.list[1]\n",
    "\n",
    "  def insert(self, value):\n",
    "    self.list.append(value)\n",
    "    self.size += 1\n",
    "    self.percolateUp(self.size)\n",
    "\n",
    "  def percolateUp(self, i):\n",
    "    half_i = i // 2\n",
    "\n",
    "    while half_i:\n",
    "\n",
    "      if self.list[i] > self.list[half_i]:\n",
    "        self.list[i], self.list[half_i] = self.list[half_i], self.list[i]\n",
    "\n",
    "      i = half_i\n",
    "      half_i //= 2\n",
    "\n",
    "  def extract_max(self):\n",
    "    self.list[self.size], self.list[1] = self.list[1], self.list[self.size]\n",
    "    self.size -= 1\n",
    "\n",
    "    retval = self.list.pop()\n",
    "\n",
    "    self.percolateDown(1)\n",
    "\n",
    "    return retval\n",
    "\n",
    "  def percolateDown(self, i):\n",
    "    while 2 * i <= self.size:\n",
    "      maxChildIndex = self.maxChildIndex(i)\n",
    "\n",
    "      if self.list[i] < self.list[maxChildIndex]:\n",
    "        self.list[i], self.list[maxChildIndex] = self.list[maxChildIndex], self.list[i]\n",
    "\n",
    "      i = maxChildIndex\n",
    "\n",
    "  def maxChildIndex(self, i):\n",
    "    if 2 * i + 1 > self.size:\n",
    "      return 2 * i\n",
    "    elif self.list[2 * i] > self.list[2 * i + 1]:\n",
    "      return 2 * i\n",
    "    else:\n",
    "      return 2 * i + 1\n"
   ]
  },
  {
   "cell_type": "code",
   "execution_count": 77,
   "metadata": {},
   "outputs": [],
   "source": [
    "out_list = []\n",
    "with open(\"Medians.txt\", \"r\") as f:\n",
    "    out_list = [int(x.strip(\"/n\")) for x in f.readlines()]"
   ]
  },
  {
   "cell_type": "code",
   "execution_count": 78,
   "metadata": {},
   "outputs": [],
   "source": [
    "class MedianMaintainer:\n",
    "    \n",
    "    def __init__(self):\n",
    "        self.high_heap = MinHeap()\n",
    "        self.low_heap = MaxHeap()\n",
    "        self.size = 0\n",
    "        \n",
    "    def insert(self, el):\n",
    "        '''\n",
    "        Min_heap will have at most one more element than max heap\n",
    "        '''\n",
    "        self.size += 1\n",
    "        if self.size < 2:\n",
    "            self.low_heap.insert(el)\n",
    "        else:\n",
    "            low_max = self.low_heap.get_root()\n",
    "            if el >= low_max:\n",
    "                self.high_heap.insert(el)\n",
    "            else:\n",
    "                self.low_heap.insert(el)\n",
    "        \n",
    "        med = self.size // 2\n",
    "        while self.high_heap.size < med:\n",
    "            self.high_heap.insert(self.low_heap.extract_max())\n",
    "        while self.low_heap.size < med:\n",
    "            self.low_heap.insert(self.high_heap.extract_min())\n",
    "    \n",
    "    def get_median(self):\n",
    "        '''\n",
    "        Min_heap will have at most one more element than max heap\n",
    "        '''\n",
    "        if self.size % 2 == 0:\n",
    "            return self.low_heap.get_root() # arbitrary\n",
    "        else:\n",
    "            if self.low_heap.size > self.high_heap.size:\n",
    "                return self.low_heap.get_root()\n",
    "            else:\n",
    "                return self.high_heap.get_root()"
   ]
  },
  {
   "cell_type": "code",
   "execution_count": 79,
   "metadata": {},
   "outputs": [],
   "source": [
    "m = MedianMaintainer()\n",
    "median_sum = 0\n",
    "for i, el in enumerate(out_list):\n",
    "    m.insert(el)\n",
    "    median_sum += m.get_median()"
   ]
  },
  {
   "cell_type": "code",
   "execution_count": 80,
   "metadata": {},
   "outputs": [
    {
     "data": {
      "text/plain": [
       "46831213"
      ]
     },
     "execution_count": 80,
     "metadata": {},
     "output_type": "execute_result"
    }
   ],
   "source": [
    "median_sum"
   ]
  },
  {
   "cell_type": "code",
   "execution_count": null,
   "metadata": {},
   "outputs": [],
   "source": []
  }
 ],
 "metadata": {
  "kernelspec": {
   "display_name": "Python 3",
   "language": "python",
   "name": "python3"
  },
  "language_info": {
   "codemirror_mode": {
    "name": "ipython",
    "version": 3
   },
   "file_extension": ".py",
   "mimetype": "text/x-python",
   "name": "python",
   "nbconvert_exporter": "python",
   "pygments_lexer": "ipython3",
   "version": "3.6.4"
  }
 },
 "nbformat": 4,
 "nbformat_minor": 2
}
