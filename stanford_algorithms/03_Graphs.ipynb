{
 "cells": [
  {
   "cell_type": "code",
   "execution_count": 42,
   "metadata": {},
   "outputs": [],
   "source": [
    "import random\n",
    "\n",
    "def karger_min_cut(graph):\n",
    "    '''\n",
    "    Implements the randomized graph contraction algorithm.\n",
    "    Randomly chooses an edge to be contracted. Continue until there\n",
    "    are only two nodes left. See how many connections these two \n",
    "    nodes have: that is your candidate for the \"min cut\" for this\n",
    "    graph.\n",
    "    '''\n",
    "    nodes = list(graph.keys())\n",
    "    \n",
    "    while len(nodes) > 2:\n",
    "        # Randomly choose node\n",
    "        node = random.choice(nodes)\n",
    "\n",
    "        # From nodes, randomly choose node it is connected to\n",
    "        other_node = random.choice(graph[node])\n",
    "\n",
    "        # Contract until we get 2 nodes:\n",
    "        output_graph = contract_graph(graph, node, other_node)\n",
    "        \n",
    "        nodes = list(output_graph.keys())\n",
    "        \n",
    "    output_node = list(output_graph.keys())[0]\n",
    "    \n",
    "    return len(output_graph[output_node])\n",
    "\n",
    "def contract_graph(graph, node1, node2):\n",
    "    '''\n",
    "    Contracting an edge. Since the graph is represented as a dictionary,\n",
    "    we have to be careful here:\n",
    "    If the edge between nodes \"2\" and \"3\" are being contracted:\n",
    "    Arbitrarily choose \"3\" to delete\n",
    "    For all of \"3\"'s connections:\n",
    "    Remove \"3\" from their connections\n",
    "    Add \"2\" as a connection (except for 2: no self loops)\n",
    "    Add them to 2's connections\n",
    "    Finally, delete node 3\n",
    "\n",
    "    '''\n",
    "\n",
    "    for node in graph[node2]:\n",
    "        graph[node].remove(node2)\n",
    "        if node != node1:\n",
    "            graph[node].append(node1)\n",
    "            graph[node1].append(node)\n",
    "    \n",
    "    del graph[node2]\n",
    "    return graph"
   ]
  },
  {
   "cell_type": "code",
   "execution_count": 43,
   "metadata": {},
   "outputs": [],
   "source": [
    "with open(\"kargerMinCut.txt\", \"r\") as f:\n",
    "    l = [x for x in f.read().split('\\n') if x != '']\n",
    "    list_of_lists = [x.split('\\t')[:-1] for x in l]\n",
    "    f.close()"
   ]
  },
  {
   "cell_type": "code",
   "execution_count": 47,
   "metadata": {},
   "outputs": [],
   "source": [
    "big_graph = {}\n",
    "\n",
    "for el in list_of_lists: \n",
    "    big_graph[el[0]] = el[1:]"
   ]
  },
  {
   "cell_type": "code",
   "execution_count": 50,
   "metadata": {},
   "outputs": [
    {
     "name": "stdout",
     "output_type": "stream",
     "text": [
      "Min cut is: 17\n"
     ]
    }
   ],
   "source": [
    "from copy import deepcopy\n",
    "num_trials = 100\n",
    "cuts = []\n",
    "for i in range(100):\n",
    "    big_graph_copy = deepcopy(big_graph)\n",
    "    cuts.append(karger_min_cut(big_graph_copy))\n",
    "print(\"Min cut is:\", min(cuts))"
   ]
  },
  {
   "cell_type": "code",
   "execution_count": null,
   "metadata": {},
   "outputs": [],
   "source": []
  }
 ],
 "metadata": {
  "kernelspec": {
   "display_name": "Python 3",
   "language": "python",
   "name": "python3"
  },
  "language_info": {
   "codemirror_mode": {
    "name": "ipython",
    "version": 3
   },
   "file_extension": ".py",
   "mimetype": "text/x-python",
   "name": "python",
   "nbconvert_exporter": "python",
   "pygments_lexer": "ipython3",
   "version": "3.6.4"
  }
 },
 "nbformat": 4,
 "nbformat_minor": 2
}
