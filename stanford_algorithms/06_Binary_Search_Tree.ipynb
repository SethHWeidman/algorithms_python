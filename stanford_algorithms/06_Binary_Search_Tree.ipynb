{
 "cells": [
  {
   "cell_type": "code",
   "execution_count": 180,
   "metadata": {},
   "outputs": [],
   "source": [
    "class Tree():\n",
    "    def __init__(self, root=None):\n",
    "        self.root = root\n",
    "        self.size = 0\n",
    "        \n",
    "    def insert(self, node, start_node=None):\n",
    "        # Create root if no root\n",
    "        if start_node == None:\n",
    "            start_node = self.root\n",
    "        if not self.root:\n",
    "            self.root = node\n",
    "        else: \n",
    "            if node.key < start_node.key: # recurse left\n",
    "                if start_node.has_left_child(): # recurse\n",
    "                    self.insert(node, start_node.left_child)\n",
    "                else:\n",
    "                    start_node.left_child = node\n",
    "                    node.parent = start_node\n",
    "            else: \n",
    "                if start_node.has_right_child():\n",
    "                    self.insert(node, start_node.right_child)\n",
    "                else:\n",
    "                    start_node.right_child = node\n",
    "                    node.parent = start_node\n",
    "        self.size += 1\n",
    "        \n",
    "    def search(self, key, start_node=None):\n",
    "        if start_node == None:\n",
    "            start_node = self.root\n",
    "        if key == start_node.key:\n",
    "            return start_node\n",
    "        # If we have reached the end but our node has no children, return\n",
    "        if not (start_node.has_left_child() or start_node.has_left_child()):\n",
    "            return None\n",
    "        if key < start_node.key:\n",
    "            return self.search(key, start_node.left_child)\n",
    "        else:\n",
    "            return self.search(key, start_node.right_child)\n",
    "        \n",
    "    def traverse_in_order(self, start_node = None):\n",
    "        if start_node == None:\n",
    "            start_node = self.root\n",
    "        if start_node.has_left_child():\n",
    "            self.traverse_in_order(start_node.left_child)\n",
    "        print(start_node.key)\n",
    "        if start_node.has_right_child():\n",
    "            self.traverse_in_order(start_node.right_child)        \n",
    "    \n",
    "    def predecessor(self, node_key):\n",
    "        start_node = self.search(node_key)\n",
    "        if start_node.key == self.minimum:\n",
    "            return start_node\n",
    "        \n",
    "        # Case 1: we have a left child\n",
    "        if start_node.has_left_child():\n",
    "            new_node = start_node.left_child\n",
    "            while new_node.has_right_child():\n",
    "                new_node = new_node.right_child\n",
    "            return new_node\n",
    "                \n",
    "        # Case 2: we do not have a left child\n",
    "        else:\n",
    "            parent_node = start_node.parent\n",
    "            while parent_node.key > start_node.key:\n",
    "                parent_node = parent_node.parent\n",
    "            return parent_node\n",
    "\n",
    "        \n",
    "    def successor(self, node_key):\n",
    "        start_node = self.search(node_key)\n",
    "        if start_node.key == self.maximum:\n",
    "            return start_node\n",
    "        \n",
    "        # Case 1: we have a left child\n",
    "        if start_node.has_right_child():\n",
    "            new_node = start_node.right_child\n",
    "            while new_node.has_left_child():\n",
    "                new_node = new_node.left_child\n",
    "            return new_node\n",
    "                \n",
    "        # Case 2: we do not have a left child\n",
    "        else:\n",
    "            parent_node = start_node.parent\n",
    "            while parent_node.key < start_node.key:\n",
    "                parent_node = parent_node.parent\n",
    "            return parent_node\n",
    "        \n",
    "\n",
    "    def minimum(self):\n",
    "        node = self.root\n",
    "        while node.has_left_child():\n",
    "            node = node.left_child\n",
    "        return node.key\n",
    "\n",
    "    \n",
    "    def maximum(self):\n",
    "        node = self.root\n",
    "        while node.has_right_child():\n",
    "            node = node.right_child\n",
    "        return node.key\n",
    "\n",
    "    \n",
    "    def delete(self, node_key):\n",
    "        node = self.search(node_key)\n",
    "        if not node:\n",
    "            return None\n",
    "\n",
    "        # Case 1: no children\n",
    "        if not node.has_left_child() and not node.has_right_child():\n",
    "            if node == node.parent.left_child:\n",
    "                node.parent.left_child = None\n",
    "            else:\n",
    "                node.parent.right_child = None\n",
    "            del node\n",
    "\n",
    "        elif node.has_left_child() and not node.has_right_child():\n",
    "            # Node's left child takes position of node\n",
    "            if node.parent:\n",
    "                if node == node.parent.left_child:\n",
    "                    node.parent.left_child = node.left_child\n",
    "                else:\n",
    "                    node.parent.right_child = node.right_child\n",
    "                node.left_child.parent = node.parent\n",
    "            del node\n",
    "        elif not node.has_left_child() and node.has_right_child():\n",
    "            # Node's right child takes position of node\n",
    "            if node.parent:\n",
    "                if node == node.parent.left_child:\n",
    "                    node.parent.left_child = node.right_child\n",
    "                else:\n",
    "                    node.parent.right_child = node.right_child\n",
    "                node.right_child.parent = node.parent\n",
    "            del node\n",
    "        # Case with two keys\n",
    "        else:\n",
    "            predecessor_node = self.predecessor(node_key)\n",
    "            \n",
    "            # Need to handle case where predecessor is node's immediate child\n",
    "            # slightly differently\n",
    "            if predecessor_node != node.left_child:\n",
    "                predecessor_node.left_child = node.left_child \n",
    "            if predecessor_node != node.right_child:\n",
    "                predecessor_node.right_child = node.right_child\n",
    "\n",
    "            # Get rid of predecessor node's parent's child\n",
    "            if predecessor_node.parent:\n",
    "                if predecessor_node == predecessor_node.parent.left_child:\n",
    "                    predecessor_node.parent.left_child = None\n",
    "                else:\n",
    "                    predecessor_node.parent.right_child = None  \n",
    "\n",
    "            # Predecessor node gets new parent, even if \"None\"\n",
    "            predecessor_node.parent = node.parent\n",
    "\n",
    "            # Node's old parent gets predecessor node as a child\n",
    "            if node.parent:\n",
    "                if node == node.parent.left_child:\n",
    "                    node.parent.left_child = predecessor_node\n",
    "                else:\n",
    "                    node.parent.right_child = predecessor_node\n",
    "            # If no parent, predecessor node is the root\n",
    "            else:\n",
    "                self.root = predecessor_node\n",
    "            \n",
    "    \n",
    "    def traverse_in_order(self, start_node = None):\n",
    "        if start_node == None:\n",
    "            start_node = self.root\n",
    "        if start_node.has_left_child():\n",
    "            self.traverse_in_order(start_node.left_child)\n",
    "        print(start_node.key)\n",
    "        if start_node.has_right_child():\n",
    "            self.traverse_in_order(start_node.right_child)        \n",
    "                        \n",
    "\n",
    "class Node():\n",
    "\n",
    "    def __init__(self, key, payload, parent=None, left_child=None, right_child=None):\n",
    "        '''\n",
    "        Keys used for sorting, value used for returning.\n",
    "        '''\n",
    "        self.key = key\n",
    "        self.payload = payload\n",
    "        self.parent = parent\n",
    "        self.left_child = left_child\n",
    "        self.right_child = right_child   \n",
    "        \n",
    "    def has_left_child(self):\n",
    "        return True if self.left_child else False\n",
    "        \n",
    "    def has_right_child(self):\n",
    "        return True if self.right_child else False"
   ]
  },
  {
   "cell_type": "code",
   "execution_count": 181,
   "metadata": {},
   "outputs": [
    {
     "name": "stdout",
     "output_type": "stream",
     "text": [
      "Traversing in order:\n",
      "2\n",
      "3\n",
      "4\n",
      "5\n",
      "6\n",
      "7\n",
      "8\n",
      "9\n",
      "Testing:\n",
      "3\n",
      "2\n"
     ]
    }
   ],
   "source": [
    "t = Tree()\n",
    "t.insert(Node(5, 'a'))\n",
    "t.insert(Node(3, 'b'))\n",
    "t.insert(Node(4, 'c'))\n",
    "t.insert(Node(2, 'd'))\n",
    "t.insert(Node(7, 'd'))\n",
    "t.insert(Node(6, 'd'))\n",
    "t.insert(Node(8, 'd'))\n",
    "t.insert(Node(9, 'd'))\n",
    "print(\"Traversing in order:\")\n",
    "t.traverse_in_order()\n",
    "print(\"Testing:\")\n",
    "print(t.search(3).key) # 3\n",
    "print(t.predecessor(3).key) # 2\n",
    "# t.delete(3)\n",
    "# t.traverse_in_order()"
   ]
  },
  {
   "cell_type": "markdown",
   "metadata": {},
   "source": [
    "## Testing deleting"
   ]
  },
  {
   "cell_type": "markdown",
   "metadata": {},
   "source": [
    "### No children"
   ]
  },
  {
   "cell_type": "code",
   "execution_count": 182,
   "metadata": {},
   "outputs": [
    {
     "name": "stdout",
     "output_type": "stream",
     "text": [
      "False\n",
      "False\n"
     ]
    }
   ],
   "source": [
    "node = t.search(2)\n",
    "print(node.has_left_child())\n",
    "print(node.has_right_child())"
   ]
  },
  {
   "cell_type": "code",
   "execution_count": 183,
   "metadata": {},
   "outputs": [],
   "source": [
    "t.delete(2)"
   ]
  },
  {
   "cell_type": "code",
   "execution_count": 184,
   "metadata": {},
   "outputs": [
    {
     "name": "stdout",
     "output_type": "stream",
     "text": [
      "3\n",
      "4\n",
      "5\n",
      "6\n",
      "7\n",
      "8\n",
      "9\n"
     ]
    }
   ],
   "source": [
    "t.traverse_in_order()"
   ]
  },
  {
   "cell_type": "markdown",
   "metadata": {},
   "source": [
    "### One child"
   ]
  },
  {
   "cell_type": "code",
   "execution_count": 185,
   "metadata": {},
   "outputs": [
    {
     "name": "stdout",
     "output_type": "stream",
     "text": [
      "False\n",
      "True\n"
     ]
    }
   ],
   "source": [
    "node = t.search(8)\n",
    "print(node.has_left_child())\n",
    "print(node.has_right_child())"
   ]
  },
  {
   "cell_type": "code",
   "execution_count": 186,
   "metadata": {},
   "outputs": [],
   "source": [
    "t.delete(8)"
   ]
  },
  {
   "cell_type": "code",
   "execution_count": 187,
   "metadata": {},
   "outputs": [
    {
     "name": "stdout",
     "output_type": "stream",
     "text": [
      "3\n",
      "4\n",
      "5\n",
      "6\n",
      "7\n",
      "9\n"
     ]
    }
   ],
   "source": [
    "t.traverse_in_order()"
   ]
  },
  {
   "cell_type": "markdown",
   "metadata": {},
   "source": [
    "### Two children"
   ]
  },
  {
   "cell_type": "code",
   "execution_count": 188,
   "metadata": {
    "scrolled": true
   },
   "outputs": [
    {
     "name": "stdout",
     "output_type": "stream",
     "text": [
      "5\n",
      "7\n",
      "3\n"
     ]
    }
   ],
   "source": [
    "node = t.search(5)\n",
    "print(node.key)\n",
    "print(node.right_child.key)\n",
    "print(node.left_child.key)\n",
    "# print(node.left_child == node)"
   ]
  },
  {
   "cell_type": "code",
   "execution_count": 189,
   "metadata": {},
   "outputs": [
    {
     "name": "stdout",
     "output_type": "stream",
     "text": [
      "First traversal\n",
      "3\n",
      "4\n",
      "5\n",
      "6\n",
      "7\n",
      "9\n",
      "Second traversal\n",
      "3\n",
      "4\n",
      "6\n",
      "7\n",
      "9\n"
     ]
    }
   ],
   "source": [
    "print(\"First traversal\")\n",
    "t.traverse_in_order()\n",
    "t.delete(5)\n",
    "print(\"Second traversal\")\n",
    "t.traverse_in_order()"
   ]
  },
  {
   "cell_type": "code",
   "execution_count": 190,
   "metadata": {},
   "outputs": [
    {
     "name": "stdout",
     "output_type": "stream",
     "text": [
      "3\n",
      "4\n",
      "6\n",
      "7\n",
      "9\n"
     ]
    }
   ],
   "source": [
    "t.traverse_in_order()"
   ]
  },
  {
   "cell_type": "code",
   "execution_count": 191,
   "metadata": {},
   "outputs": [
    {
     "name": "stdout",
     "output_type": "stream",
     "text": [
      "4\n",
      "3\n",
      "7\n"
     ]
    }
   ],
   "source": [
    "r = t.root\n",
    "print(r.key)\n",
    "print(r.left_child.key)\n",
    "print(r.right_child.key)"
   ]
  },
  {
   "cell_type": "markdown",
   "metadata": {},
   "source": [
    "Works as expected on simple test cases!"
   ]
  }
 ],
 "metadata": {
  "kernelspec": {
   "display_name": "Python 3",
   "language": "python",
   "name": "python3"
  },
  "language_info": {
   "codemirror_mode": {
    "name": "ipython",
    "version": 3
   },
   "file_extension": ".py",
   "mimetype": "text/x-python",
   "name": "python",
   "nbconvert_exporter": "python",
   "pygments_lexer": "ipython3",
   "version": "3.6.4"
  }
 },
 "nbformat": 4,
 "nbformat_minor": 2
}
