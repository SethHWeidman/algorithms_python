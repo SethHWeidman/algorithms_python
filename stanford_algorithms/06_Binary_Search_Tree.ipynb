{
 "cells": [
  {
   "cell_type": "markdown",
   "metadata": {},
   "source": [
    "This class implements a binary search tree."
   ]
  },
  {
   "cell_type": "code",
   "execution_count": 1,
   "metadata": {},
   "outputs": [],
   "source": [
    "class Node():\n",
    "\n",
    "    def __init__(self, key, payload, parent=None, left_child=None, right_child=None):\n",
    "        '''\n",
    "        Keys used for sorting, payload used for returning.\n",
    "        Parent, left_child, and right_child set to None by default.\n",
    "        '''\n",
    "        self.key = key\n",
    "        self.payload = payload\n",
    "        self.parent = parent\n",
    "        self.left_child = left_child\n",
    "        self.right_child = right_child   \n",
    "        \n",
    "    def has_left_child(self):\n",
    "        return True if self.left_child else False\n",
    "        \n",
    "    def has_right_child(self):\n",
    "        return True if self.right_child else False\n",
    "\n",
    "\n",
    "class Tree():\n",
    "    def __init__(self, root=None):\n",
    "        self.root = root\n",
    "        self.size = 0\n",
    "        \n",
    "    def insert(self, node, start_node=None):\n",
    "        '''\n",
    "        Insertion: \n",
    "        If no root, create the node as root.\n",
    "        Otherwise, look at the root. If less than the root:\n",
    "            If the root has a left child recursively call insert to the left.\n",
    "            Otherwise, insert on the left.\n",
    "        If greater than the root:\n",
    "            If the root has a right child recursively call insert to the right.\n",
    "            Otherwise, insert on the right.        \n",
    "        '''\n",
    "        # Create root if no root\n",
    "        if start_node == None:\n",
    "            start_node = self.root\n",
    "        if not self.root:\n",
    "            self.root = node\n",
    "        else: \n",
    "            if node.key < start_node.key: # recurse left\n",
    "                if start_node.has_left_child(): # recurse\n",
    "                    self.insert(node, start_node.left_child)\n",
    "                else:\n",
    "                    start_node.left_child = node\n",
    "                    node.parent = start_node\n",
    "            else: \n",
    "                if start_node.has_right_child():\n",
    "                    self.insert(node, start_node.right_child)\n",
    "                else:\n",
    "                    start_node.right_child = node\n",
    "                    node.parent = start_node\n",
    "        self.size += 1\n",
    "        \n",
    "    def search(self, key, start_node=None):\n",
    "        '''\n",
    "        Search: \n",
    "        Similar to insert in terms of the recursive calls.\n",
    "        This time, if we have called search on a node with no children: return None.\n",
    "        Otherwise, search left and right based on comparing the key of the node with the value passed in.\n",
    "        '''\n",
    "        if start_node == None:\n",
    "            start_node = self.root\n",
    "        if key == start_node.key:\n",
    "            return start_node\n",
    "        # If we have reached the end but our node has no children, return\n",
    "        if not (start_node.has_left_child() or start_node.has_left_child()):\n",
    "            return None\n",
    "        if key < start_node.key:\n",
    "            return self.search(key, start_node.left_child)\n",
    "        else:\n",
    "            return self.search(key, start_node.right_child)\n",
    "        \n",
    "    def traverse_in_order(self, start_node = None):\n",
    "        '''\n",
    "        In order traversal:\n",
    "        If there's a left child, recursively call on the left.\n",
    "        Print the \"middle\" key.\n",
    "        Recursively call on the right.\n",
    "        '''\n",
    "        if start_node == None:\n",
    "            start_node = self.root\n",
    "        if start_node.has_left_child():\n",
    "            self.traverse_in_order(start_node.left_child)\n",
    "        print(start_node.key)\n",
    "        if start_node.has_right_child():\n",
    "            self.traverse_in_order(start_node.right_child)        \n",
    "    \n",
    "    def predecessor(self, node_key):\n",
    "        '''\n",
    "        Predecessor:\n",
    "        Start by finding the node with the key passed in.\n",
    "        If it is the minimum, return None\n",
    "        If we have a left child: keep finding right children until you can't anymore, and then return.\n",
    "        If not: keep finding parents until you find one with a key less than yours.\n",
    "        '''\n",
    "        start_node = self.search(node_key)\n",
    "        if start_node.key == self.minimum:\n",
    "            return None\n",
    "        \n",
    "        # Case 1: we have a left child\n",
    "        if start_node.has_left_child():\n",
    "            new_node = start_node.left_child\n",
    "            while new_node.has_right_child():\n",
    "                new_node = new_node.right_child\n",
    "            return new_node\n",
    "                \n",
    "        # Case 2: we do not have a left child\n",
    "        else:\n",
    "            parent_node = start_node.parent\n",
    "            while parent_node.key > start_node.key:\n",
    "                parent_node = parent_node.parent\n",
    "            return parent_node\n",
    "\n",
    "        \n",
    "    def successor(self, node_key):\n",
    "        '''\n",
    "        Successor:\n",
    "        Same as predecessor, but \"left\", \"right\", and \"minimum\" swapped for \"right\", \"left\", and \"maximum\".\n",
    "        '''\n",
    "        start_node = self.search(node_key)\n",
    "        if start_node.key == self.maximum:\n",
    "            return None\n",
    "        \n",
    "        # Case 1: we have a left child\n",
    "        if start_node.has_right_child():\n",
    "            new_node = start_node.right_child\n",
    "            while new_node.has_left_child():\n",
    "                new_node = new_node.left_child\n",
    "            return new_node\n",
    "                \n",
    "        # Case 2: we do not have a left child\n",
    "        else:\n",
    "            parent_node = start_node.parent\n",
    "            while parent_node.key < start_node.key:\n",
    "                parent_node = parent_node.parent\n",
    "            return parent_node\n",
    "        \n",
    "\n",
    "    def minimum(self):\n",
    "        node = self.root\n",
    "        while node.has_left_child():\n",
    "            node = node.left_child\n",
    "        return node.key\n",
    "\n",
    "    \n",
    "    def maximum(self):\n",
    "        node = self.root\n",
    "        while node.has_right_child():\n",
    "            node = node.right_child\n",
    "        return node.key\n",
    "\n",
    "    \n",
    "    def delete(self, node_key):\n",
    "        '''\n",
    "        The big one: delete:\n",
    "        If no children, easy: set the appropriate parent node to None and delete.\n",
    "        If only a left child:\n",
    "            Set parent's child to node's left child, delete node.\n",
    "        Same for only right child\n",
    "        \n",
    "        If two children:\n",
    "        Find predecessor.\n",
    "        \"Swap\" predecessor and node:\n",
    "            Set predecessor's children equal to node's child.\n",
    "                Note, if predecessor is node's immediate child, do not set its children equal to node's child in this\n",
    "                special case.\n",
    "            Set appropriate children of predecessor's parent equal to None.\n",
    "            Set predecessor's parent equal to node's old parent.\n",
    "            Set node's old parent's appropriate children equal to the predecessor node.\n",
    "            Finally, if node had no old parent, set the root of the tree equal to it.\n",
    "        '''\n",
    "        node = self.search(node_key)\n",
    "        if not node:\n",
    "            return None\n",
    "\n",
    "        # Case 1: no children\n",
    "        if not node.has_left_child() and not node.has_right_child():\n",
    "            if node == node.parent.left_child:\n",
    "                node.parent.left_child = None\n",
    "            else:\n",
    "                node.parent.right_child = None\n",
    "            del node\n",
    "\n",
    "        elif node.has_left_child() and not node.has_right_child():\n",
    "            # Node's left child takes position of node\n",
    "            if node.parent:\n",
    "                if node == node.parent.left_child:\n",
    "                    node.parent.left_child = node.left_child\n",
    "                else:\n",
    "                    node.parent.right_child = node.right_child\n",
    "                node.left_child.parent = node.parent\n",
    "            del node\n",
    "        elif not node.has_left_child() and node.has_right_child():\n",
    "            # Node's right child takes position of node\n",
    "            if node.parent:\n",
    "                if node == node.parent.left_child:\n",
    "                    node.parent.left_child = node.right_child\n",
    "                else:\n",
    "                    node.parent.right_child = node.right_child\n",
    "                node.right_child.parent = node.parent\n",
    "            del node\n",
    "\n",
    "        # Case with two keys\n",
    "        else:\n",
    "            predecessor_node = self.predecessor(node_key)\n",
    "            \n",
    "            # Need to handle case where predecessor is node's immediate child\n",
    "            # slightly differently\n",
    "            if predecessor_node != node.left_child:\n",
    "                predecessor_node.left_child = node.left_child \n",
    "            if predecessor_node != node.right_child:\n",
    "                predecessor_node.right_child = node.right_child\n",
    "\n",
    "            # Get rid of predecessor node's parent's child\n",
    "            if predecessor_node.parent:\n",
    "                if predecessor_node == predecessor_node.parent.left_child:\n",
    "                    predecessor_node.parent.left_child = None\n",
    "                else:\n",
    "                    predecessor_node.parent.right_child = None  \n",
    "\n",
    "            # Predecessor node gets new parent, even if \"None\"\n",
    "            predecessor_node.parent = node.parent\n",
    "\n",
    "            # Node's old parent gets predecessor node as a child\n",
    "            if node.parent:\n",
    "                if node == node.parent.left_child:\n",
    "                    node.parent.left_child = predecessor_node\n",
    "                else:\n",
    "                    node.parent.right_child = predecessor_node\n",
    "            \n",
    "            # If no parent, predecessor node is the root\n",
    "            else:\n",
    "                self.root = predecessor_node"
   ]
  },
  {
   "cell_type": "code",
   "execution_count": 2,
   "metadata": {},
   "outputs": [
    {
     "name": "stdout",
     "output_type": "stream",
     "text": [
      "Traversing in order:\n",
      "2\n",
      "3\n",
      "4\n",
      "5\n",
      "6\n",
      "7\n",
      "8\n",
      "9\n",
      "Testing:\n",
      "3\n",
      "2\n"
     ]
    }
   ],
   "source": [
    "t = Tree()\n",
    "t.insert(Node(5, 'a'))\n",
    "t.insert(Node(3, 'b'))\n",
    "t.insert(Node(4, 'c'))\n",
    "t.insert(Node(2, 'd'))\n",
    "t.insert(Node(7, 'd'))\n",
    "t.insert(Node(6, 'd'))\n",
    "t.insert(Node(8, 'd'))\n",
    "t.insert(Node(9, 'd'))\n",
    "print(\"Traversing in order:\")\n",
    "t.traverse_in_order()\n",
    "print(\"Testing:\")\n",
    "print(t.search(3).key) # 3\n",
    "print(t.predecessor(3).key) # 2\n",
    "# t.delete(3)\n",
    "# t.traverse_in_order()"
   ]
  },
  {
   "cell_type": "markdown",
   "metadata": {},
   "source": [
    "## Testing deleting"
   ]
  },
  {
   "cell_type": "markdown",
   "metadata": {},
   "source": [
    "### No children"
   ]
  },
  {
   "cell_type": "code",
   "execution_count": 3,
   "metadata": {},
   "outputs": [
    {
     "name": "stdout",
     "output_type": "stream",
     "text": [
      "False\n",
      "False\n"
     ]
    }
   ],
   "source": [
    "node = t.search(2)\n",
    "print(node.has_left_child())\n",
    "print(node.has_right_child())"
   ]
  },
  {
   "cell_type": "code",
   "execution_count": 4,
   "metadata": {},
   "outputs": [],
   "source": [
    "t.delete(2)"
   ]
  },
  {
   "cell_type": "code",
   "execution_count": 5,
   "metadata": {},
   "outputs": [
    {
     "name": "stdout",
     "output_type": "stream",
     "text": [
      "3\n",
      "4\n",
      "5\n",
      "6\n",
      "7\n",
      "8\n",
      "9\n"
     ]
    }
   ],
   "source": [
    "t.traverse_in_order()"
   ]
  },
  {
   "cell_type": "markdown",
   "metadata": {},
   "source": [
    "### One child"
   ]
  },
  {
   "cell_type": "code",
   "execution_count": 6,
   "metadata": {},
   "outputs": [
    {
     "name": "stdout",
     "output_type": "stream",
     "text": [
      "False\n",
      "True\n"
     ]
    }
   ],
   "source": [
    "node = t.search(8)\n",
    "print(node.has_left_child())\n",
    "print(node.has_right_child())"
   ]
  },
  {
   "cell_type": "code",
   "execution_count": 7,
   "metadata": {},
   "outputs": [],
   "source": [
    "t.delete(8)"
   ]
  },
  {
   "cell_type": "code",
   "execution_count": 8,
   "metadata": {},
   "outputs": [
    {
     "name": "stdout",
     "output_type": "stream",
     "text": [
      "3\n",
      "4\n",
      "5\n",
      "6\n",
      "7\n",
      "9\n"
     ]
    }
   ],
   "source": [
    "t.traverse_in_order()"
   ]
  },
  {
   "cell_type": "markdown",
   "metadata": {},
   "source": [
    "### Two children"
   ]
  },
  {
   "cell_type": "code",
   "execution_count": 9,
   "metadata": {
    "scrolled": true
   },
   "outputs": [
    {
     "name": "stdout",
     "output_type": "stream",
     "text": [
      "5\n",
      "7\n",
      "3\n"
     ]
    }
   ],
   "source": [
    "node = t.search(5)\n",
    "print(node.key)\n",
    "print(node.right_child.key)\n",
    "print(node.left_child.key)\n",
    "# print(node.left_child == node)"
   ]
  },
  {
   "cell_type": "code",
   "execution_count": 10,
   "metadata": {},
   "outputs": [
    {
     "name": "stdout",
     "output_type": "stream",
     "text": [
      "First traversal\n",
      "3\n",
      "4\n",
      "5\n",
      "6\n",
      "7\n",
      "9\n",
      "Second traversal\n",
      "3\n",
      "4\n",
      "6\n",
      "7\n",
      "9\n"
     ]
    }
   ],
   "source": [
    "print(\"First traversal\")\n",
    "t.traverse_in_order()\n",
    "t.delete(5)\n",
    "print(\"Second traversal\")\n",
    "t.traverse_in_order()"
   ]
  },
  {
   "cell_type": "code",
   "execution_count": 11,
   "metadata": {},
   "outputs": [
    {
     "name": "stdout",
     "output_type": "stream",
     "text": [
      "3\n",
      "4\n",
      "6\n",
      "7\n",
      "9\n"
     ]
    }
   ],
   "source": [
    "t.traverse_in_order()"
   ]
  },
  {
   "cell_type": "code",
   "execution_count": 12,
   "metadata": {},
   "outputs": [
    {
     "name": "stdout",
     "output_type": "stream",
     "text": [
      "4\n",
      "3\n",
      "7\n"
     ]
    }
   ],
   "source": [
    "r = t.root\n",
    "print(r.key)\n",
    "print(r.left_child.key)\n",
    "print(r.right_child.key)"
   ]
  },
  {
   "cell_type": "markdown",
   "metadata": {},
   "source": [
    "Works as expected on simple test cases!"
   ]
  }
 ],
 "metadata": {
  "kernelspec": {
   "display_name": "Python 3",
   "language": "python",
   "name": "python3"
  },
  "language_info": {
   "codemirror_mode": {
    "name": "ipython",
    "version": 3
   },
   "file_extension": ".py",
   "mimetype": "text/x-python",
   "name": "python",
   "nbconvert_exporter": "python",
   "pygments_lexer": "ipython3",
   "version": "3.6.4"
  }
 },
 "nbformat": 4,
 "nbformat_minor": 2
}
