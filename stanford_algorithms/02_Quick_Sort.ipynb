{
 "cells": [
  {
   "cell_type": "markdown",
   "metadata": {},
   "source": [
    "Helper functions for the \"median\" search:"
   ]
  },
  {
   "cell_type": "code",
   "execution_count": 3,
   "metadata": {},
   "outputs": [],
   "source": [
    "def between(a, b, c):\n",
    "    '''\n",
    "    Determines if an element is between two other elements\n",
    "    param a: The number that may be between b and c\n",
    "    param b: A potential lower/upper bound\n",
    "    param c: A potential upper/lower bound\n",
    "    return: True if a is between b and c, False otherwise\n",
    "    '''\n",
    "    return (a <= b and a >= c) or (a >= b and a <= c)"
   ]
  },
  {
   "cell_type": "code",
   "execution_count": 4,
   "metadata": {},
   "outputs": [],
   "source": [
    "def find_middle(input_list):\n",
    "    '''\n",
    "    Finds the middle element of a list of length 3\n",
    "    param input_list: a list of length 3\n",
    "    return: (the index of the element to return, the element)\n",
    "    '''\n",
    "    assert len(input_list) == 3\n",
    "    \n",
    "    a = input_list[0]\n",
    "    b = input_list[1]\n",
    "    c = input_list[2]\n",
    "    if between(a, b, c):\n",
    "        return 0, a\n",
    "    elif between(b, a, c):\n",
    "        return 1, b\n",
    "    else:\n",
    "        return 2, c"
   ]
  },
  {
   "cell_type": "code",
   "execution_count": 5,
   "metadata": {},
   "outputs": [],
   "source": [
    "def select_median(input_list):\n",
    "    '''\n",
    "    Chooses the first, middle, and last elements of the list.\n",
    "    Returns the index and element value of the middle of these three elements.    \n",
    "    param input_list: a list of length > 1\n",
    "    return: index of element, element itself\n",
    "    '''\n",
    "    \n",
    "    assert len(input_list) > 1\n",
    "    \n",
    "    if len(input_list) < 3:\n",
    "        i = 1\n",
    "    else:\n",
    "        mid = (len(input_list) + 1) // 2 - 1  \n",
    "        end = len(input_list) - 1\n",
    "        \n",
    "        a = input_list[0]\n",
    "        b = input_list[mid]\n",
    "        c = input_list[end]\n",
    "        index, element = find_middle([a, b, c]) \n",
    "\n",
    "        # Set \"i\"\n",
    "        if index == 0:\n",
    "            i = 0\n",
    "        elif index == 1:\n",
    "            i = mid\n",
    "        elif index == 2:\n",
    "            i = end\n",
    "\n",
    "    return i, input_list[i]"
   ]
  },
  {
   "cell_type": "markdown",
   "metadata": {},
   "source": [
    "# Quick Sort"
   ]
  },
  {
   "cell_type": "code",
   "execution_count": 10,
   "metadata": {},
   "outputs": [],
   "source": [
    "class QuickSort():\n",
    "    '''\n",
    "    Implements the Quick Sort algorithm and counts the number of comparisons done during the algorithm.\n",
    "    '''\n",
    "    \n",
    "    def __init__(self):\n",
    "        '''\n",
    "        Initialize the number of comparisons done to 0.\n",
    "        '''\n",
    "        self.comparisons = 0\n",
    "    \n",
    "\n",
    "    def sort_pivot_first(self, input_list):\n",
    "        '''\n",
    "        Implements the Quick Sort algorithm choosing the first element as the pivot\n",
    "        param input_list: the list to be sorted\n",
    "        return: the sorted list\n",
    "        '''\n",
    "        \n",
    "        # Base case\n",
    "        if len(input_list) == 1 or len(input_list) == 0:\n",
    "            return input_list\n",
    "\n",
    "        pivot = input_list[0]\n",
    "        \n",
    "        # Any time we sort a list of n elements, we must do n-1 comparisons:\n",
    "        # Comparing the pivot element to every other element in the list\n",
    "        self.comparisons += len(input_list) - 1\n",
    "\n",
    "        left_list, right_list = self.partition_linear(input_list, pivot)\n",
    "        \n",
    "        # Recursive call\n",
    "        return self.sort_pivot_first(left_list) + [pivot] + self.sort_pivot_first(right_list) \n",
    "\n",
    "    \n",
    "    def sort_pivot_last(self, input_list):\n",
    "        '''\n",
    "        Implements the Quick Sort algorithm choosing the *last* element as the pivot\n",
    "        param input_list: the list to be sorted\n",
    "        return: the sorted list\n",
    "        '''\n",
    "        \n",
    "        if len(input_list) == 1 or len(input_list) == 0:\n",
    "            return input_list\n",
    "      \n",
    "        pivot = input_list[-1]\n",
    "        \n",
    "        input_list[-1], input_list[0] = input_list[0], input_list[-1]\n",
    "        \n",
    "        self.comparisons += len(input_list) - 1\n",
    "\n",
    "        left_list, right_list = self.partition_linear(input_list, pivot)\n",
    "\n",
    "        return self.sort_pivot_last(left_list) + [pivot] + self.sort_pivot_last(right_list)\n",
    "    \n",
    "    def sort_pivot_median(self, input_list):\n",
    "\n",
    "        if len(input_list) == 1 or len(input_list) == 0:\n",
    "            return input_list\n",
    "        \n",
    "        # Use helper functions to select \"median\"\n",
    "        index, pivot = select_median(input_list)\n",
    "        \n",
    "        input_list[index], input_list[0] = input_list[0], input_list[index]\n",
    "        \n",
    "        self.comparisons += len(input_list) - 1\n",
    "\n",
    "        left_list, right_list = self.partition_linear(input_list, pivot)\n",
    "\n",
    "        return self.sort_pivot_median(left_list) + [pivot] + self.sort_pivot_median(right_list)\n",
    "    \n",
    "    def partition_linear(self, input_list, pivot):\n",
    "        '''\n",
    "        Key method: partitions a list around a pivot. \n",
    "        The pivot is the first element (index 0), which is why we start with i=1 (instead of 0).\n",
    "        Overview: \n",
    "        1) loop through the input list. \n",
    "        2) If we find an element less than the pivot, swap the elements,\n",
    "        and then increment i, the location that we are \"swapping to\".\n",
    "        param input_list: the list to be partitioned\n",
    "        param pivot: the pivot element\n",
    "        return: the left and right lists, where every element in the left list \n",
    "        is less than every element in the right list\n",
    "        '''\n",
    "        i = 1\n",
    "\n",
    "        for j in range(1, len(input_list)):\n",
    "            # \"Do nothing\" case\n",
    "            if input_list[j] > pivot:\n",
    "                continue\n",
    "            else:\n",
    "                # Swap\n",
    "                input_list[i], input_list[j] = input_list[j], input_list[i] \n",
    "                i+=1\n",
    "\n",
    "        # Finally, swap the pivot with the appropriate element\n",
    "        input_list[0], input_list[i-1] = input_list[i-1], input_list[0]\n",
    "\n",
    "        # And return the two sublists, excluding the pivot\n",
    "        return input_list[:i-1], input_list[i:]"
   ]
  },
  {
   "cell_type": "code",
   "execution_count": 56,
   "metadata": {},
   "outputs": [],
   "source": [
    "import copy\n",
    "\n",
    "class QuickSort():\n",
    "    '''\n",
    "    Implements the Quick Sort algorithm and counts the number of comparisons done during the algorithm.\n",
    "    '''\n",
    "    \n",
    "    def __init__(self):\n",
    "        '''\n",
    "        Initialize the number of comparisons done to 0.\n",
    "        '''\n",
    "        self.comparisons = 0\n",
    "    \n",
    "\n",
    "    def sort_pivot_first(self, input_list):\n",
    "        '''\n",
    "        Implements the Quick Sort algorithm choosing the first element as the pivot\n",
    "        param input_list: the list to be sorted\n",
    "        return: the sorted list\n",
    "        '''\n",
    "        l = copy.copy(input_list)\n",
    "        \n",
    "        # Base case\n",
    "        if len(input_list) == 1 or len(input_list) == 0:\n",
    "            return input_list\n",
    "\n",
    "        pivot = input_list[0]\n",
    "        \n",
    "        # Any time we sort a list of n elements, we must do n-1 comparisons:\n",
    "        # Comparing the pivot element to every other element in the list\n",
    "        self.comparisons += len(input_list) - 1\n",
    "\n",
    "        left_list, right_list = self.partition_linear(input_list, pivot)\n",
    "        \n",
    "        # Recursive call\n",
    "        return self.sort_pivot_first(left_list) + [pivot] + self.sort_pivot_first(right_list) \n",
    "\n",
    "    \n",
    "    def sort_pivot_last(self, input_list):\n",
    "        '''\n",
    "        Implements the Quick Sort algorithm choosing the *last* element as the pivot\n",
    "        param input_list: the list to be sorted\n",
    "        return: the sorted list\n",
    "        '''\n",
    "        l = copy.copy(input_list)\n",
    "        \n",
    "        if len(l) == 1 or len(l) == 0:\n",
    "            return l\n",
    "      \n",
    "        pivot = l[-1]\n",
    "        \n",
    "        l[-1], l[0] = l[0], l[-1]\n",
    "        \n",
    "        self.comparisons += len(l) - 1\n",
    "\n",
    "        left_list, right_list = self.partition_linear(l, pivot)\n",
    "\n",
    "        return self.sort_pivot_last(left_list) + [pivot] + self.sort_pivot_last(right_list)\n",
    "    \n",
    "    def sort_pivot_median(self, input_list):\n",
    "        '''\n",
    "        Implements the Quick Sort algorithm choosing the median of three\n",
    "        arbitrarily chosen elements as the pivot.\n",
    "        param input_list: the list to be sorted\n",
    "        return: the sorted list\n",
    "        '''\n",
    "        l = copy.copy(input_list)\n",
    "        \n",
    "        if len(l) == 1 or len(l) == 0:\n",
    "            return l\n",
    "        \n",
    "        # Use helper functions to select \"median\"\n",
    "        index, pivot = select_median(l)\n",
    "        \n",
    "        l[index], l[0] = l[0], l[index]\n",
    "        \n",
    "        self.comparisons += len(l) - 1\n",
    "\n",
    "        left_list, right_list = self.partition_linear(l, pivot)\n",
    "\n",
    "        return self.sort_pivot_median(left_list) + [pivot] + self.sort_pivot_median(right_list)\n",
    "    \n",
    "    def partition_linear(self, input_list, pivot):\n",
    "        '''\n",
    "        Key method: partitions a list around a pivot. \n",
    "        The pivot is the first element (index 0), which is why we start with i=1 (instead of 0).\n",
    "        Overview: \n",
    "        1) loop through the input list. \n",
    "        2) If we find an element less than the pivot, swap the elements,\n",
    "        and then increment i, the location that we are \"swapping to\".\n",
    "        param input_list: the list to be partitioned\n",
    "        param pivot: the pivot element\n",
    "        return: the left and right lists, where every element in the left list \n",
    "        is less than every element in the right list\n",
    "        '''\n",
    "        i = 1\n",
    "        \n",
    "        l = copy.copy(input_list)\n",
    "\n",
    "        for j in range(1, len(l)):\n",
    "            # \"Do nothing\" case\n",
    "            if l[j] > pivot:\n",
    "                continue\n",
    "            else:\n",
    "                # Swap\n",
    "                l[i], l[j] = l[j], l[i] \n",
    "                i+=1\n",
    "\n",
    "        # Finally, swap the pivot with the appropriate element\n",
    "        l[0], l[i-1] = l[i-1], l[0]\n",
    "\n",
    "        # And return the two sublists, excluding the pivot\n",
    "        return l[:i-1], l[i:]"
   ]
  },
  {
   "cell_type": "markdown",
   "metadata": {},
   "source": [
    "## Testing complexity"
   ]
  },
  {
   "cell_type": "code",
   "execution_count": 53,
   "metadata": {},
   "outputs": [],
   "source": [
    "from sort_time import gen_list, runtime_exp"
   ]
  },
  {
   "cell_type": "code",
   "execution_count": 54,
   "metadata": {},
   "outputs": [
    {
     "data": {
      "text/plain": [
       "[0.008, 0.076, 0.639, 8.729]"
      ]
     },
     "execution_count": 54,
     "metadata": {},
     "output_type": "execute_result"
    }
   ],
   "source": [
    "q = QuickSort()\n",
    "times = [runtime_exp(x, q.sort_pivot_first, 20818) for x in [4,5,6,7]]\n",
    "times"
   ]
  },
  {
   "cell_type": "markdown",
   "metadata": {},
   "source": [
    "The complexity of this algorithm empirically seems to grow with $n$, which is excellent."
   ]
  },
  {
   "cell_type": "code",
   "execution_count": 55,
   "metadata": {},
   "outputs": [
    {
     "data": {
      "text/plain": [
       "[0.009, 0.081, 0.664, 8.384]"
      ]
     },
     "execution_count": 55,
     "metadata": {},
     "output_type": "execute_result"
    }
   ],
   "source": [
    "q = QuickSort()\n",
    "times = [runtime_exp(x, q.sort_pivot_median, 20818) for x in [4,5,6,7]]\n",
    "times"
   ]
  },
  {
   "cell_type": "markdown",
   "metadata": {},
   "source": [
    "Interestingly, median seems to take slightly longer, even though it does fewer comparisons."
   ]
  },
  {
   "cell_type": "markdown",
   "metadata": {},
   "source": [
    "## Class assignment"
   ]
  },
  {
   "cell_type": "code",
   "execution_count": 29,
   "metadata": {},
   "outputs": [],
   "source": [
    "from s3_helpers import get_s3_bucket, get_object_from_bucket, add_object_to_bucket"
   ]
  },
  {
   "cell_type": "code",
   "execution_count": 30,
   "metadata": {},
   "outputs": [],
   "source": [
    "stanford_bucket = get_s3_bucket('stanford-algorithms')"
   ]
  },
  {
   "cell_type": "code",
   "execution_count": 66,
   "metadata": {},
   "outputs": [],
   "source": [
    "input_list = get_object_from_bucket(stanford_bucket, 'quick-sort-array')"
   ]
  },
  {
   "cell_type": "code",
   "execution_count": 69,
   "metadata": {},
   "outputs": [
    {
     "name": "stdout",
     "output_type": "stream",
     "text": [
      "Number of comparisons using the first element as the pivot: 162085\n",
      "Number of comparisons using the last element as the pivot: 164123\n",
      "Number of comparisons using the \"median\" element as the pivot: 138382\n"
     ]
    }
   ],
   "source": [
    "q1 = QuickSort()\n",
    "q1.sort_pivot_first(input_list)\n",
    "print(\"Number of comparisons using the first element as the pivot:\", q1.comparisons)\n",
    "\n",
    "q2 = QuickSort()\n",
    "q2.sort_pivot_last(input_list)\n",
    "print(\"Number of comparisons using the last element as the pivot:\", q2.comparisons)\n",
    "\n",
    "q3 = QuickSort()\n",
    "q3.sort_pivot_median(input_list)\n",
    "print(\"Number of comparisons using the \\\"median\\\" element as the pivot:\", q3.comparisons)"
   ]
  }
 ],
 "metadata": {
  "kernelspec": {
   "display_name": "Python 3",
   "language": "python",
   "name": "python3"
  },
  "language_info": {
   "codemirror_mode": {
    "name": "ipython",
    "version": 3
   },
   "file_extension": ".py",
   "mimetype": "text/x-python",
   "name": "python",
   "nbconvert_exporter": "python",
   "pygments_lexer": "ipython3",
   "version": "3.6.4"
  }
 },
 "nbformat": 4,
 "nbformat_minor": 2
}
