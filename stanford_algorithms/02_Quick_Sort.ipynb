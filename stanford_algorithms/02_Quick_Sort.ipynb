{
 "cells": [
  {
   "cell_type": "code",
   "execution_count": 330,
   "metadata": {},
   "outputs": [],
   "source": [
    "class QuickSort():\n",
    "    \n",
    "    def __init__(self):\n",
    "        self.comparisons = 0\n",
    "    \n",
    "    def sort_pivot_first(self, input_list):\n",
    "\n",
    "        if len(input_list) == 1 or len(input_list) == 0:\n",
    "            return input_list\n",
    "\n",
    "        pivot = input_list[0]\n",
    "        \n",
    "        self.comparisons += len(input_list) - 1\n",
    "\n",
    "        left_list, right_list = self.partition_linear_first(input_list, pivot)\n",
    "\n",
    "        return self.sort_pivot_first(left_list) + [pivot] + self.sort_pivot_first(right_list) \n",
    "\n",
    "    def sort_pivot_last(self, input_list):\n",
    "\n",
    "        if len(input_list) == 1 or len(input_list) == 0:\n",
    "            return input_list\n",
    "\n",
    "        pivot = input_list[-1]\n",
    "        \n",
    "        input_list[-1], input_list[0] = input_list[0], input_list[-1]\n",
    "        \n",
    "        self.comparisons += len(input_list) - 1\n",
    "\n",
    "        left_list, right_list = self.partition_linear(input_list, pivot)\n",
    "\n",
    "        return self.sort_pivot_last(left_list) + [pivot] + self.sort_pivot_last(right_list)\n",
    "    \n",
    "    def partition_linear(self, input_list, pivot):\n",
    "    \n",
    "        i = 1\n",
    "\n",
    "        for j in range(1, len(input_list)):\n",
    "            # \"Do nothing\" case\n",
    "            if input_list[j] > pivot:\n",
    "                continue\n",
    "            else:\n",
    "                input_list[i], input_list[j] = input_list[j], input_list[i] \n",
    "                i+=1\n",
    "\n",
    "        input_list[0], input_list[i-1] = input_list[i-1], input_list[0]\n",
    "\n",
    "        return input_list[:i-1], input_list[i:]"
   ]
  },
  {
   "cell_type": "code",
   "execution_count": 331,
   "metadata": {},
   "outputs": [],
   "source": [
    "with open(\"QuickSort.txt\", \"r\") as f:\n",
    "    l = [int(x) for x in f.read().split('\\n') if x != '']\n",
    "    f.close()"
   ]
  },
  {
   "cell_type": "code",
   "execution_count": 332,
   "metadata": {},
   "outputs": [
    {
     "data": {
      "text/plain": [
       "164123"
      ]
     },
     "execution_count": 332,
     "metadata": {},
     "output_type": "execute_result"
    }
   ],
   "source": [
    "q = QuickSort()\n",
    "list1 = [3, 8, 2, 5, 1, 4, 7, 6]\n",
    "q.sort_pivot_last(l)\n",
    "# list1 = [3, 8, 2, 5, 1, 4, 7, 6]\n",
    "# print(q.sort_pivot_last(l))\n",
    "# print(len(q.sort_pivot_last(l)))\n",
    "q.comparisons"
   ]
  },
  {
   "cell_type": "code",
   "execution_count": null,
   "metadata": {},
   "outputs": [],
   "source": []
  },
  {
   "cell_type": "markdown",
   "metadata": {},
   "source": []
  }
 ],
 "metadata": {
  "kernelspec": {
   "display_name": "Python 3",
   "language": "python",
   "name": "python3"
  },
  "language_info": {
   "codemirror_mode": {
    "name": "ipython",
    "version": 3
   },
   "file_extension": ".py",
   "mimetype": "text/x-python",
   "name": "python",
   "nbconvert_exporter": "python",
   "pygments_lexer": "ipython3",
   "version": "3.6.4"
  }
 },
 "nbformat": 4,
 "nbformat_minor": 2
}
