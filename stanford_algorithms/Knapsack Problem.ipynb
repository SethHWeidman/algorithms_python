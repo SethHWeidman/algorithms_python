{
 "cells": [
  {
   "cell_type": "code",
   "execution_count": null,
   "metadata": {},
   "outputs": [],
   "source": [
    "with open(\"knapsack1.txt\", \"rb\") as f:\n",
    "    node_list = [list(map(int, x.decode('utf-8').strip('\\n').split(' '))) for x in f.readlines()]"
   ]
  },
  {
   "cell_type": "code",
   "execution_count": null,
   "metadata": {},
   "outputs": [],
   "source": [
    "node_list[:5]"
   ]
  },
  {
   "cell_type": "code",
   "execution_count": null,
   "metadata": {},
   "outputs": [],
   "source": [
    "items = [[0,0]]\n",
    "for el in node_list[1:]:\n",
    "    items.append(el)\n",
    "# items = node_list[1:]\n",
    "capacity = node_list[0][0]"
   ]
  },
  {
   "cell_type": "code",
   "execution_count": null,
   "metadata": {},
   "outputs": [],
   "source": [
    "len(items)"
   ]
  },
  {
   "cell_type": "markdown",
   "metadata": {},
   "source": [
    "`solution_array[i][j]` returns the optimal solution for a knapsack of size `i` and number of items up to `j+1`."
   ]
  },
  {
   "cell_type": "code",
   "execution_count": null,
   "metadata": {},
   "outputs": [],
   "source": [
    "NUM_ITEMS = 100\n",
    "KNAPSACK_SIZE = 10000"
   ]
  },
  {
   "cell_type": "code",
   "execution_count": null,
   "metadata": {},
   "outputs": [],
   "source": []
  },
  {
   "cell_type": "code",
   "execution_count": null,
   "metadata": {},
   "outputs": [],
   "source": [
    "len(items)"
   ]
  },
  {
   "cell_type": "code",
   "execution_count": null,
   "metadata": {},
   "outputs": [],
   "source": [
    "print(len(A))\n",
    "print(len(A[0]))"
   ]
  },
  {
   "cell_type": "markdown",
   "metadata": {},
   "source": [
    "`A` is 10001 rows and 101 columns"
   ]
  },
  {
   "cell_type": "code",
   "execution_count": null,
   "metadata": {},
   "outputs": [],
   "source": []
  },
  {
   "cell_type": "code",
   "execution_count": null,
   "metadata": {},
   "outputs": [],
   "source": [
    "for item in range(1, NUM_ITEMS + 1):\n",
    "    item_value = items[item][0]\n",
    "    item_weight = items[item][1]\n",
    "    for cap in range(KNAPSACK_SIZE + 1):\n",
    "        if item_weight > cap: # Optimal solution does NOT include current item\n",
    "            A[cap][item] = A[cap][item-1]\n",
    "        else:\n",
    "            A[cap][item] = max(A[cap][item-1], A[cap-item_weight][item-1] + item_value)"
   ]
  },
  {
   "cell_type": "code",
   "execution_count": null,
   "metadata": {},
   "outputs": [],
   "source": [
    "A[10000][100]"
   ]
  },
  {
   "cell_type": "code",
   "execution_count": null,
   "metadata": {},
   "outputs": [],
   "source": [
    "def knapsack_2(NUM_ITEMS, KNAPSACK_SIZE, items):\n",
    "    \"\"\"Given the knapsack size, number of items, and the items(in form of\n",
    "    [[item_value, item_size]]), compute the optimal value of the items that\n",
    "    fit in knapsack.\"\"\"\n",
    "\n",
    "    #'array' keeps track of the optimal subproblem solutions\n",
    "    row = [None for x in range(NUM_ITEMS + 1)]\n",
    "    A = []\n",
    "    for i in range(KNAPSACK_SIZE + 1):\n",
    "        A.append(row)\n",
    "    print(len(A))\n",
    "    print(len(A[0]))\n",
    "#         A[i][0] = 0\n",
    "\n",
    "#     A = [[None for i in range(NUM_ITEMS + 1)] for j in range(KNAPSACK_SIZE + 1)]\n",
    "#     print(len(A))\n",
    "#     print(len(A[0]))\n",
    "    import pdb; pdb.set_trace()\n",
    "\n",
    "    for i in range(KNAPSACK_SIZE + 1):\n",
    "        A[i][0] = 0\n",
    "    \n",
    "    for item in range(1, NUM_ITEMS + 1):\n",
    "        item_value = items[item][0]\n",
    "        item_weight = items[item][1]\n",
    "        for cap in range(KNAPSACK_SIZE + 1):\n",
    "            if item_weight > cap: # Optimal solution does NOT include current item\n",
    "                A[cap][item] = A[cap][item-1]\n",
    "            else:\n",
    "                A[cap][item] = max(A[cap][item-1], A[cap-item_weight][item-1] + item_value)\n",
    "    \n",
    "\n",
    "    return A[KNAPSACK_SIZE][NUM_ITEMS]"
   ]
  },
  {
   "cell_type": "code",
   "execution_count": null,
   "metadata": {},
   "outputs": [],
   "source": [
    "knapsack_2(100, 10000, items)"
   ]
  },
  {
   "cell_type": "code",
   "execution_count": null,
   "metadata": {},
   "outputs": [],
   "source": [
    "def knapsack_2(NUM_ITEMS, KNAPSACK_SIZE, items):\n",
    "    \"\"\"Given the knapsack size, number of items, and the items(in form of\n",
    "    [[item_value, item_size]]), compute the optimal value of the items that\n",
    "    fit in knapsack.\"\"\"\n",
    "\n",
    "    #'array' keeps track of the optimal subproblem solutions\n",
    "#     row = [None for x in range(NUM_ITEMS + 1)]\n",
    "#     A = []\n",
    "#     for i in range(KNAPSACK_SIZE + 1):\n",
    "#         A.append(row)\n",
    "#     print(len(A))\n",
    "#     print(len(A[0]))\n",
    "#         A[i][0] = 0\n",
    "\n",
    "    A = [[None for i in range(NUM_ITEMS + 1)] for j in range(KNAPSACK_SIZE + 1)]\n",
    "    print(len(A))\n",
    "    print(len(A[0]))\n",
    "#     import pdb; pdb.set_trace()\n",
    "\n",
    "    for i in range(KNAPSACK_SIZE + 1):\n",
    "        A[i][0] = 0\n",
    "    \n",
    "    for item in range(1, NUM_ITEMS + 1):\n",
    "        item_value = items[item][0]\n",
    "        item_weight = items[item][1]\n",
    "        for cap in range(KNAPSACK_SIZE + 1):\n",
    "            if item_weight > cap: # Optimal solution does NOT include current item\n",
    "                A[cap][item] = A[cap][item-1]\n",
    "            else:\n",
    "                A[cap][item] = max(A[cap][item-1], A[cap-item_weight][item-1] + item_value)\n",
    "    \n",
    "    return A[KNAPSACK_SIZE][NUM_ITEMS]"
   ]
  },
  {
   "cell_type": "code",
   "execution_count": null,
   "metadata": {
    "scrolled": true
   },
   "outputs": [],
   "source": [
    "knapsack_2(100, 10000, items)"
   ]
  },
  {
   "cell_type": "markdown",
   "metadata": {},
   "source": [
    "# Knapsack Big"
   ]
  },
  {
   "cell_type": "code",
   "execution_count": 9,
   "metadata": {},
   "outputs": [],
   "source": [
    "with open(\"knapsack_big.txt\", \"rb\") as f:\n",
    "    node_list = [list(map(int, x.decode('utf-8').strip('\\n').split(' '))) for x in f.readlines()]"
   ]
  },
  {
   "cell_type": "code",
   "execution_count": 10,
   "metadata": {},
   "outputs": [
    {
     "data": {
      "text/plain": [
       "[2000000, 2000]"
      ]
     },
     "execution_count": 10,
     "metadata": {},
     "output_type": "execute_result"
    }
   ],
   "source": [
    "node_list[0]"
   ]
  },
  {
   "cell_type": "code",
   "execution_count": 11,
   "metadata": {},
   "outputs": [
    {
     "data": {
      "text/plain": [
       "[16808, 241486]"
      ]
     },
     "execution_count": 11,
     "metadata": {},
     "output_type": "execute_result"
    }
   ],
   "source": [
    "node_list[1]"
   ]
  },
  {
   "cell_type": "code",
   "execution_count": 12,
   "metadata": {},
   "outputs": [],
   "source": [
    "items = [[0,0]]\n",
    "for el in node_list[1:]:\n",
    "    items.append(el)\n",
    "KNAPSACK_SIZE = node_list[0][0]\n",
    "NUM_ITEMS = node_list[0][1]"
   ]
  },
  {
   "cell_type": "code",
   "execution_count": 13,
   "metadata": {},
   "outputs": [],
   "source": [
    "def knapsack_big(size, num_items, items_list):\n",
    "\n",
    "    cache = {}\n",
    "    \n",
    "    def best_sol(size, num_items):\n",
    "        if (size, num_items) not in cache:\n",
    "            if num_items == 0:\n",
    "                cache[(size, num_items)] = 0\n",
    "                \n",
    "            else:\n",
    "                item_value = items_list[num_items][0]\n",
    "                item_weight = items_list[num_items][1]\n",
    "                if item_weight > size:\n",
    "                    cache[(size, num_items)] = best_sol(size, num_items-1)\n",
    "                else:\n",
    "                    cache[(size, num_items)] = max(best_sol(size, num_items-1), \n",
    "                                                   best_sol(size-item_weight, num_items-1) + item_value)    \n",
    "        return cache[(size, num_items)]\n",
    "\n",
    "    cache[(size, num_items)] = best_sol(size, num_items)\n",
    "    return cache[(size, num_items)]\n",
    "        \n",
    "        "
   ]
  },
  {
   "cell_type": "code",
   "execution_count": 14,
   "metadata": {},
   "outputs": [
    {
     "data": {
      "text/plain": [
       "4243395"
      ]
     },
     "execution_count": 14,
     "metadata": {},
     "output_type": "execute_result"
    }
   ],
   "source": [
    "knapsack_big(KNAPSACK_SIZE, NUM_ITEMS, items)"
   ]
  },
  {
   "cell_type": "markdown",
   "metadata": {},
   "source": [
    "Idea: Jupyter extension that lets you see how long functions are taking to go through certain libraries."
   ]
  },
  {
   "cell_type": "code",
   "execution_count": null,
   "metadata": {},
   "outputs": [],
   "source": []
  }
 ],
 "metadata": {
  "kernelspec": {
   "display_name": "Python 3",
   "language": "python",
   "name": "python3"
  },
  "language_info": {
   "codemirror_mode": {
    "name": "ipython",
    "version": 3
   },
   "file_extension": ".py",
   "mimetype": "text/x-python",
   "name": "python",
   "nbconvert_exporter": "python",
   "pygments_lexer": "ipython3",
   "version": "3.6.4"
  }
 },
 "nbformat": 4,
 "nbformat_minor": 2
}
