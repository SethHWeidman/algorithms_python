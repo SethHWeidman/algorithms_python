{
 "cells": [
  {
   "cell_type": "markdown",
   "metadata": {},
   "source": [
    "# 2 Sum\n",
    "\n",
    "Strategy:\n",
    "\n",
    "1. Loop through out list, put elements into hash table.\n",
    "\n",
    "2. For each element:\n",
    "    * Loop through n = -10000 to 10000\n",
    "    * Check if abs(element - n) is in hash table\n",
    "    * If so, put n in a set\n",
    "\n",
    "3. Return the length of n"
   ]
  },
  {
   "cell_type": "code",
   "execution_count": 25,
   "metadata": {},
   "outputs": [],
   "source": [
    "from s3_helpers import get_s3_bucket, get_object_from_bucket, add_object_to_bucket\n",
    "\n",
    "stanford_bucket = get_s3_bucket('stanford-algorithms')\n",
    "\n",
    "input_list = get_object_from_bucket(stanford_bucket, 'two-sum')"
   ]
  },
  {
   "cell_type": "code",
   "execution_count": 32,
   "metadata": {},
   "outputs": [],
   "source": [
    "def two_sum(input_list, target_value, check_every=20000):\n",
    "    '''\n",
    "    Finds the number of unique values between -target_value and target_value\n",
    "    for which at least one pair of integers in input_list sums to target_value.\n",
    "    param input_list: the list containing the numbers for potential pairs\n",
    "    param target_value: the value defining the range within which we are going\n",
    "    to look for potential sums\n",
    "    return \n",
    "    '''\n",
    "    \n",
    "    out_set = set()\n",
    "    numbers = dict()\n",
    "    print(\"Loading numbers into a hash:\")\n",
    "    for el in out_list:\n",
    "        numbers[el] = True\n",
    "\n",
    "    print(\"Checking for 2 sums...\")\n",
    "    for i, num in enumerate(numbers):\n",
    "        for r in range(-target_value, target_value+1):\n",
    "            if r - num in numbers:\n",
    "                out_set.add(r)\n",
    "        if i % check_every == 0:\n",
    "            print(\"Through\", i, \"numbers, have found\", len(out_set), \"pairs.\")\n",
    "    \n",
    "    return len(out_set)"
   ]
  },
  {
   "cell_type": "code",
   "execution_count": 33,
   "metadata": {},
   "outputs": [
    {
     "name": "stdout",
     "output_type": "stream",
     "text": [
      "Loading numbers into a hash:\n",
      "Checking for 2 sums...\n",
      "Through 0 numbers, have found 0 pairs.\n",
      "Through 50000 numbers, have found 412 pairs.\n",
      "Through 100000 numbers, have found 419 pairs.\n",
      "Through 150000 numbers, have found 421 pairs.\n",
      "Through 200000 numbers, have found 422 pairs.\n",
      "Through 250000 numbers, have found 423 pairs.\n",
      "Through 300000 numbers, have found 424 pairs.\n",
      "Through 350000 numbers, have found 425 pairs.\n",
      "Through 400000 numbers, have found 427 pairs.\n",
      "Through 450000 numbers, have found 427 pairs.\n",
      "Through 500000 numbers, have found 427 pairs.\n",
      "Through 550000 numbers, have found 427 pairs.\n",
      "Through 600000 numbers, have found 427 pairs.\n",
      "Through 650000 numbers, have found 427 pairs.\n",
      "Through 700000 numbers, have found 427 pairs.\n",
      "Through 750000 numbers, have found 427 pairs.\n",
      "Through 800000 numbers, have found 427 pairs.\n",
      "Through 850000 numbers, have found 427 pairs.\n",
      "Through 900000 numbers, have found 427 pairs.\n",
      "Through 950000 numbers, have found 427 pairs.\n"
     ]
    }
   ],
   "source": [
    "two_sum(input_list, 10000, 50000)"
   ]
  },
  {
   "cell_type": "markdown",
   "metadata": {},
   "source": [
    "427: correct answer!"
   ]
  }
 ],
 "metadata": {
  "kernelspec": {
   "display_name": "Python 3",
   "language": "python",
   "name": "python3"
  },
  "language_info": {
   "codemirror_mode": {
    "name": "ipython",
    "version": 3
   },
   "file_extension": ".py",
   "mimetype": "text/x-python",
   "name": "python",
   "nbconvert_exporter": "python",
   "pygments_lexer": "ipython3",
   "version": "3.6.4"
  }
 },
 "nbformat": 4,
 "nbformat_minor": 2
}
