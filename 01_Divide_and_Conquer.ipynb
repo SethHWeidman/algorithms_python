{
 "cells": [
  {
   "cell_type": "markdown",
   "metadata": {},
   "source": [
    "# Merge Sort"
   ]
  },
  {
   "cell_type": "code",
   "execution_count": 1,
   "metadata": {},
   "outputs": [],
   "source": [
    "list1 = [5, 4, 1, 8, 7, 9, 2, 6, 3, 9]\n",
    "list2 = [3]\n",
    "\n",
    "def merge_sort(input_list):\n",
    "    n = len(input_list)\n",
    "    if n == 0 or n == 1:\n",
    "        return input_list \n",
    "    \n",
    "    mid = n // 2\n",
    "    \n",
    "    left = input_list[:mid]\n",
    "    right = input_list[mid:]\n",
    "    \n",
    "    left = merge_sort(left)\n",
    "    right = merge_sort(right)\n",
    "    \n",
    "    i = 0\n",
    "    j = 0\n",
    "    k = 0\n",
    "    \n",
    "    output_list = []\n",
    "    \n",
    "    while k < len(left) + len(right):\n",
    "        \n",
    "        # Check if we are at the end of a list\n",
    "        if i == len(left):\n",
    "            output_list = output_list + right[j:]\n",
    "            break  \n",
    "        elif j == len(right):\n",
    "            output_list = output_list + left[i:]\n",
    "            break\n",
    "        \n",
    "        # Otherwise, we have two elements to compare\n",
    "        elif left[i] < right[j]:\n",
    "            output_list.append(left[i])\n",
    "            i+=1\n",
    "        else:\n",
    "            output_list.append(right[j])\n",
    "            j+=1\n",
    "        k+=1\n",
    "    return output_list"
   ]
  },
  {
   "cell_type": "code",
   "execution_count": 2,
   "metadata": {},
   "outputs": [
    {
     "data": {
      "text/plain": [
       "[1, 2, 3, 4, 5, 6, 7, 8, 9, 9]"
      ]
     },
     "execution_count": 2,
     "metadata": {},
     "output_type": "execute_result"
    }
   ],
   "source": [
    "merge_sort(list1)"
   ]
  },
  {
   "cell_type": "markdown",
   "metadata": {
    "heading_collapsed": true
   },
   "source": [
    "## Random helper"
   ]
  },
  {
   "cell_type": "code",
   "execution_count": 8,
   "metadata": {
    "hidden": true
   },
   "outputs": [
    {
     "data": {
      "text/plain": [
       "[24,\n",
       " 52,\n",
       " 17,\n",
       " 47,\n",
       " 69,\n",
       " 66,\n",
       " 29,\n",
       " 43,\n",
       " 91,\n",
       " 44,\n",
       " 32,\n",
       " 11,\n",
       " 28,\n",
       " 48,\n",
       " 56,\n",
       " 36,\n",
       " 65,\n",
       " 34,\n",
       " 85,\n",
       " 67,\n",
       " 75,\n",
       " 80,\n",
       " 38,\n",
       " 73,\n",
       " 35,\n",
       " 39,\n",
       " 70,\n",
       " 22,\n",
       " 42,\n",
       " 95,\n",
       " 41,\n",
       " 40,\n",
       " 10,\n",
       " 55,\n",
       " 33,\n",
       " 81,\n",
       " 60,\n",
       " 7,\n",
       " 31,\n",
       " 26,\n",
       " 98,\n",
       " 77,\n",
       " 71,\n",
       " 16,\n",
       " 8,\n",
       " 46,\n",
       " 68,\n",
       " 49,\n",
       " 54,\n",
       " 58,\n",
       " 99,\n",
       " 86,\n",
       " 64,\n",
       " 94,\n",
       " 76,\n",
       " 19,\n",
       " 78,\n",
       " 63,\n",
       " 57,\n",
       " 97,\n",
       " 9,\n",
       " 45,\n",
       " 14,\n",
       " 21,\n",
       " 13,\n",
       " 15,\n",
       " 25,\n",
       " 83,\n",
       " 61,\n",
       " 92,\n",
       " 1,\n",
       " 84,\n",
       " 6,\n",
       " 88,\n",
       " 4,\n",
       " 62,\n",
       " 30,\n",
       " 82,\n",
       " 23,\n",
       " 20,\n",
       " 27,\n",
       " 2,\n",
       " 50,\n",
       " 72,\n",
       " 53,\n",
       " 93,\n",
       " 5,\n",
       " 89,\n",
       " 87,\n",
       " 90,\n",
       " 37,\n",
       " 74,\n",
       " 18,\n",
       " 0,\n",
       " 59,\n",
       " 3,\n",
       " 12,\n",
       " 51,\n",
       " 96,\n",
       " 79]"
      ]
     },
     "execution_count": 8,
     "metadata": {},
     "output_type": "execute_result"
    }
   ],
   "source": [
    "import os\n",
    "import sys\n",
    "sys.path.append(os.getcwd())\n",
    "from helper import random_range\n",
    "random_range(100, 123117)"
   ]
  },
  {
   "cell_type": "markdown",
   "metadata": {},
   "source": [
    "# Count Inversions"
   ]
  },
  {
   "cell_type": "code",
   "execution_count": 10,
   "metadata": {},
   "outputs": [],
   "source": [
    "def count_inversions(input_list):\n",
    "    \n",
    "    sorted_list = merge_sort(input_list)\n",
    "    \n",
    "    n = len(input_list)\n",
    "    if n == 1:\n",
    "        return 0, input_list\n",
    "\n",
    "    mid = n // 2\n",
    "    \n",
    "    left = input_list[:mid]\n",
    "    right = input_list[mid:]\n",
    "    \n",
    "    left_inversions, left = count_inversions(left)\n",
    "    right_inversions, right = count_inversions(right)\n",
    "    \n",
    "    i = 0\n",
    "    j = 0\n",
    "    k = 0\n",
    "    \n",
    "    split_inversions = 0\n",
    "    \n",
    "    while k < len(left) + len(right):\n",
    "\n",
    "        if i == len(left):\n",
    "            split_inversions += len(left) - i\n",
    "            break\n",
    "        \n",
    "        elif j == len(right):\n",
    "            break\n",
    "        \n",
    "        # Otherwise, we have two elements to compare\n",
    "        elif left[i] < right[j]:\n",
    "            i+=1\n",
    "        else:\n",
    "            split_inversions += len(left) - i\n",
    "            j+=1\n",
    "        k+=1\n",
    "\n",
    "    total_inversions = left_inversions + right_inversions + split_inversions\n",
    "        \n",
    "    return total_inversions, sorted_list\n",
    "    \n",
    "    "
   ]
  },
  {
   "cell_type": "code",
   "execution_count": 11,
   "metadata": {},
   "outputs": [
    {
     "name": "stdout",
     "output_type": "stream",
     "text": [
      "(4, [1, 2, 3, 4, 5, 6])\n",
      "(15, [1, 2, 3, 4, 5, 6])\n"
     ]
    }
   ],
   "source": [
    "test_list = [1, 3, 5, 2, 6, 4]\n",
    "test_list_2 = [6, 5, 4, 3, 2, 1]\n",
    "print(count_inversions(test_list))\n",
    "print(count_inversions(test_list_2))"
   ]
  },
  {
   "cell_type": "markdown",
   "metadata": {},
   "source": [
    "## Load text file"
   ]
  },
  {
   "cell_type": "code",
   "execution_count": 14,
   "metadata": {},
   "outputs": [
    {
     "ename": "FileNotFoundError",
     "evalue": "[Errno 2] No such file or directory: 'IntegerArray.txt'",
     "output_type": "error",
     "traceback": [
      "\u001b[0;31m---------------------------------------------------------------------------\u001b[0m",
      "\u001b[0;31mFileNotFoundError\u001b[0m                         Traceback (most recent call last)",
      "\u001b[0;32m<ipython-input-14-58cd35486726>\u001b[0m in \u001b[0;36m<module>\u001b[0;34m()\u001b[0m\n\u001b[0;32m----> 1\u001b[0;31m \u001b[0;32mwith\u001b[0m \u001b[0mopen\u001b[0m\u001b[0;34m(\u001b[0m\u001b[0;34m\"IntegerArray.txt\"\u001b[0m\u001b[0;34m,\u001b[0m \u001b[0;34m\"r\"\u001b[0m\u001b[0;34m)\u001b[0m \u001b[0;32mas\u001b[0m \u001b[0mf\u001b[0m\u001b[0;34m:\u001b[0m\u001b[0;34m\u001b[0m\u001b[0m\n\u001b[0m\u001b[1;32m      2\u001b[0m     \u001b[0mf\u001b[0m\u001b[0;34m.\u001b[0m\u001b[0mread\u001b[0m\u001b[0;34m(\u001b[0m\u001b[0;34m)\u001b[0m\u001b[0;34m\u001b[0m\u001b[0m\n",
      "\u001b[0;31mFileNotFoundError\u001b[0m: [Errno 2] No such file or directory: 'IntegerArray.txt'"
     ]
    }
   ],
   "source": [
    "with open(\"IntegerArray.txt\", \"r\") as f:\n",
    "    f.read()"
   ]
  },
  {
   "cell_type": "code",
   "execution_count": null,
   "metadata": {},
   "outputs": [],
   "source": []
  }
 ],
 "metadata": {
  "kernelspec": {
   "display_name": "Python 3",
   "language": "python",
   "name": "python3"
  },
  "language_info": {
   "codemirror_mode": {
    "name": "ipython",
    "version": 3
   },
   "file_extension": ".py",
   "mimetype": "text/x-python",
   "name": "python",
   "nbconvert_exporter": "python",
   "pygments_lexer": "ipython3",
   "version": "3.6.4"
  }
 },
 "nbformat": 4,
 "nbformat_minor": 2
}
