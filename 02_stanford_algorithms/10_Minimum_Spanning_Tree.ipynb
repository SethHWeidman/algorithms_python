{
 "cells": [
  {
   "cell_type": "markdown",
   "metadata": {},
   "source": [
    "# Minimum Spanning Trees"
   ]
  },
  {
   "cell_type": "code",
   "execution_count": 116,
   "metadata": {},
   "outputs": [],
   "source": [
    "from s3_helpers import get_s3_bucket, get_object_from_bucket, add_object_to_bucket"
   ]
  },
  {
   "cell_type": "code",
   "execution_count": 117,
   "metadata": {},
   "outputs": [],
   "source": [
    "stanford_bucket = get_s3_bucket('stanford-algorithms')"
   ]
  },
  {
   "cell_type": "code",
   "execution_count": 124,
   "metadata": {},
   "outputs": [],
   "source": [
    "input_list = get_object_from_bucket(stanford_bucket, 'minimum-spanning-tree')"
   ]
  },
  {
   "cell_type": "code",
   "execution_count": 129,
   "metadata": {},
   "outputs": [
    {
     "data": {
      "text/plain": [
       "[['1', '2', '6807'], ['2', '3', '-8874']]"
      ]
     },
     "execution_count": 129,
     "metadata": {},
     "output_type": "execute_result"
    }
   ],
   "source": [
    "input_list[:2]"
   ]
  },
  {
   "cell_type": "markdown",
   "metadata": {},
   "source": [
    "**Create graph**:"
   ]
  },
  {
   "cell_type": "markdown",
   "metadata": {},
   "source": [
    "Want structure:\n",
    "\n",
    "```\n",
    "graph = {}\n",
    "graph['a'] = {'b': 1, 'c': 4}\n",
    "graph['b'] = {'a': 1, 'c': 2, 'd': 6}\n",
    "graph['c'] = {'a': 4, 'b': 2, 'd': 3}\n",
    "graph['d'] = {'b': 6, 'c': 3}\n",
    "```\n",
    "\n",
    "Similar to the graph structure from Dijkstra's Algorithm."
   ]
  },
  {
   "cell_type": "code",
   "execution_count": 107,
   "metadata": {},
   "outputs": [],
   "source": [
    "def create_graph(in_list):\n",
    "    '''\n",
    "    The first two lines of in_list are:\n",
    "    [['1', '2', '6807'], \n",
    "     ['2', '3', '-8874']]\n",
    "    From this, this function will create an undirected graph of the form:\n",
    "    graph['1'] = {'2': 6807}\n",
    "    graph['2'] = {'1': 6807, '3': -8874}\n",
    "    graph['3'] = {'2': -8874}\n",
    "    '''\n",
    "    graph = {}\n",
    "    for edge in out_list:\n",
    "        # Extract info\n",
    "        from_node, to_node, cost = edge[0], edge[1], edge[2]\n",
    "        \n",
    "        # Add nodes going in one direction\n",
    "        if from_node not in graph:\n",
    "            graph[from_node] = {}\n",
    "        graph[from_node][to_node] = int(cost)\n",
    "        \n",
    "        # Add nodes going in other direction\n",
    "        if to_node not in graph:\n",
    "            graph[to_node] = {}\n",
    "        graph[to_node][from_node] = int(cost)\n",
    "\n",
    "    return graph"
   ]
  },
  {
   "cell_type": "code",
   "execution_count": 126,
   "metadata": {},
   "outputs": [],
   "source": [
    "graph = create_graph(input_list)"
   ]
  },
  {
   "cell_type": "code",
   "execution_count": 127,
   "metadata": {},
   "outputs": [],
   "source": [
    "def compute_MST(graph):\n",
    "    '''\n",
    "    Naive, O(m * n) implementation of Prim's Minimum Spanning Tree (MST)\n",
    "    algorithm. \n",
    "    '''\n",
    "    X = ['1']\n",
    "    T = []\n",
    "    while set(X) != set(graph):\n",
    "        node_edges = []\n",
    "        # Loop through all elements in X, find the next minimum cost \n",
    "        # edge out of X\n",
    "        for node in X:\n",
    "            edges = graph[node]\n",
    "            for key in edges.keys():\n",
    "                if key not in X:\n",
    "                    node_edges.append((node, key, graph[node][key]))\n",
    "            # Sorts candidate edges by their cost \n",
    "            node_edges.sort(key=lambda x: x[2])    \n",
    "        \n",
    "        lowest_cost_edge = node_edges[0]\n",
    "        X.append(lowest_cost_edge[1])\n",
    "        T.append((lowest_cost_edge[0], lowest_cost_edge[1]))\n",
    "    return T"
   ]
  },
  {
   "cell_type": "code",
   "execution_count": 128,
   "metadata": {},
   "outputs": [],
   "source": [
    "MST = compute_MST(graph)"
   ]
  },
  {
   "cell_type": "code",
   "execution_count": 130,
   "metadata": {},
   "outputs": [],
   "source": [
    "def MST_cost(tree):\n",
    "    overall_cost = 0\n",
    "    for edge in tree:\n",
    "        overall_cost += graph[edge[0]][edge[1]]\n",
    "    return overall_cost"
   ]
  },
  {
   "cell_type": "code",
   "execution_count": 131,
   "metadata": {},
   "outputs": [
    {
     "data": {
      "text/plain": [
       "-3612829"
      ]
     },
     "execution_count": 131,
     "metadata": {},
     "output_type": "execute_result"
    }
   ],
   "source": [
    "MST_cost(MST)"
   ]
  },
  {
   "cell_type": "markdown",
   "metadata": {},
   "source": [
    "Correct answer!"
   ]
  }
 ],
 "metadata": {
  "kernelspec": {
   "display_name": "Python 3",
   "language": "python",
   "name": "python3"
  },
  "language_info": {
   "codemirror_mode": {
    "name": "ipython",
    "version": 3
   },
   "file_extension": ".py",
   "mimetype": "text/x-python",
   "name": "python",
   "nbconvert_exporter": "python",
   "pygments_lexer": "ipython3",
   "version": "3.6.4"
  }
 },
 "nbformat": 4,
 "nbformat_minor": 2
}
