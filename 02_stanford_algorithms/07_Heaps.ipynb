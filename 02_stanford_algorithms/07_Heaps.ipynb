{
 "cells": [
  {
   "cell_type": "markdown",
   "metadata": {},
   "source": [
    "# Heap v2"
   ]
  },
  {
   "cell_type": "markdown",
   "metadata": {},
   "source": [
    "Implements a Heap, and uses that heap to implement median maintenance."
   ]
  },
  {
   "cell_type": "markdown",
   "metadata": {},
   "source": [
    "A trick that turns out to make this much easier is to have the list that maintains the Heap property be indexed from 1. Otherwise the calculating of parent indices becomes much more annoying as you have to treat 0 differently."
   ]
  },
  {
   "cell_type": "markdown",
   "metadata": {},
   "source": [
    "For a Heap: \n",
    "\n",
    "1. For insert, we insert at the end, then we bubble up, dividing the index by two etc.\n",
    "2. For extract min, we swap the min with the end of the list, pop the min off, and then bubble down."
   ]
  },
  {
   "cell_type": "code",
   "execution_count": 7,
   "metadata": {},
   "outputs": [],
   "source": [
    "class MinHeap:\n",
    "    \n",
    "    def __init__(self):\n",
    "        # Initialize array, starting from zero\n",
    "        self.array = [0]\n",
    "        self.size = 0\n",
    "        \n",
    "    def get_root(self):\n",
    "        # Return the first element\n",
    "        return self.array[1]\n",
    "        \n",
    "    def insert(self, el):\n",
    "        # Insert element at the end, and then \"bubble it up\" appropriately\n",
    "        self.array.append(el)\n",
    "        self.size += 1\n",
    "        \n",
    "        self.bubble_up(self.size)\n",
    "        \n",
    "    def bubble_up(self, i):\n",
    "        # Compare each element with its parent\n",
    "        # The heap property requires that each parent element be less than its children\n",
    "        # Thus, we compare each element with its parent, and if it is greater than\n",
    "        # it, we swap them.\n",
    "        parent = i // 2\n",
    "        \n",
    "        while parent:\n",
    "            \n",
    "            if self.array[parent] > self.array[i]: # swap!\n",
    "                \n",
    "                self.array[parent], self.array[i] = \\\n",
    "                    self.array[i], self.array[parent]\n",
    "            \n",
    "            i = parent\n",
    "            parent = i // 2\n",
    "    \n",
    "    def extract_min(self):\n",
    "        # swap min with end\n",
    "        self.array[1], self.array[self.size] = self.array[self.size], self.array[1]\n",
    "        \n",
    "        min_val = self.array.pop()\n",
    "        self.size -= 1\n",
    "        \n",
    "        self.bubble_down(1)\n",
    "        \n",
    "        return min_val\n",
    "    \n",
    "    def bubble_down(self, i):\n",
    "        # Compare each element with its minimum child\n",
    "        # The heap property requires that each parent element be less than its minimum child\n",
    "        # Thus, we compare each element with its minimum child, and if it is greater than it,\n",
    "        # we swap them.\n",
    "        while 2 * i <= self.size:\n",
    "            min_child_index = self.min_child_index(i)\n",
    "            \n",
    "            if self.array[i] > self.array[min_child_index]: # swap!\n",
    "                \n",
    "                self.array[i], self.array[min_child_index] = \\\n",
    "                    self.array[min_child_index], self.array[i]\n",
    "                    \n",
    "            i = min_child_index\n",
    "    \n",
    "    def min_child_index(self, i):\n",
    "        if 2*i+1 > self.size:\n",
    "            return 2*i\n",
    "        else:\n",
    "            if self.array[2*i] <= self.array[2*i+1]:\n",
    "                return 2*i\n",
    "            else:\n",
    "                return 2*i+1"
   ]
  },
  {
   "cell_type": "code",
   "execution_count": 8,
   "metadata": {},
   "outputs": [],
   "source": [
    "class MaxHeap:\n",
    "    \n",
    "    def __init__(self):\n",
    "        self.array = [0]\n",
    "        self.size = 0\n",
    "\n",
    "    def get_root(self):\n",
    "        return self.array[1]\n",
    "        \n",
    "    def insert(self, el):\n",
    "        # Need bubble up\n",
    "        self.array.append(el)\n",
    "        self.size += 1\n",
    "        \n",
    "        self.bubble_up(self.size)\n",
    "        \n",
    "    def bubble_up(self, i):\n",
    "        # Compare each element with its parent\n",
    "        # The heap property requires that each parent element be greater than its children\n",
    "        # Thus, we compare each element with its parent, and if it is less than\n",
    "        # it, we swap them.\n",
    "        parent = i // 2\n",
    "        \n",
    "        while parent:\n",
    "            if self.array[parent] < self.array[i]: # swap!\n",
    "                \n",
    "                self.array[parent], self.array[i] = \\\n",
    "                    self.array[i], self.array[parent]\n",
    "            \n",
    "            i = parent\n",
    "            parent = i // 2\n",
    "    \n",
    "    def extract_max(self):\n",
    "        # swap min with end\n",
    "        self.array[1], self.array[self.size] = self.array[self.size], self.array[1]\n",
    "        \n",
    "        max_val = self.array.pop()\n",
    "        self.size -= 1\n",
    "        \n",
    "        self.bubble_down(1)\n",
    "        \n",
    "        return max_val\n",
    "    \n",
    "    def bubble_down(self, i):\n",
    "        # Compare each element with its parent\n",
    "        # The heap property requires that each element be greater than its maximum child\n",
    "        # Thus, we compare each element with its maximum child, and if it is less than\n",
    "        # it, we swap them.\n",
    "        while 2 * i <= self.size:\n",
    "            max_child_index = self.max_child_index(i)\n",
    "\n",
    "            if self.array[i] < self.array[max_child_index]: # swap!\n",
    "                \n",
    "                self.array[i], self.array[max_child_index] = \\\n",
    "                    self.array[max_child_index], self.array[i]\n",
    "                    \n",
    "            i = max_child_index\n",
    "    \n",
    "    def max_child_index(self, i):\n",
    "        if 2*i+1 > self.size:\n",
    "            return 2*i\n",
    "        else:\n",
    "            if self.array[2*i] >= self.array[2*i+1]:\n",
    "                return 2*i\n",
    "            else:\n",
    "                return 2*i+1"
   ]
  },
  {
   "cell_type": "code",
   "execution_count": 9,
   "metadata": {},
   "outputs": [],
   "source": [
    "class MedianMaintainer:\n",
    "    \n",
    "    def __init__(self):\n",
    "        self.high_heap = MinHeap()\n",
    "        self.low_heap = MaxHeap()\n",
    "        self.size = 0\n",
    "        \n",
    "    def insert(self, el):\n",
    "        '''\n",
    "        Min_heap will have at most one more element than max heap\n",
    "        '''\n",
    "        self.size += 1\n",
    "        if self.size < 2:\n",
    "            self.low_heap.insert(el)\n",
    "        else:\n",
    "            low_max = self.low_heap.get_root()\n",
    "            if el >= low_max:\n",
    "                self.high_heap.insert(el)\n",
    "            else:\n",
    "                self.low_heap.insert(el)\n",
    "        \n",
    "        med = self.size // 2\n",
    "        while self.high_heap.size < med:\n",
    "            self.high_heap.insert(self.low_heap.extract_max())\n",
    "        while self.low_heap.size < med:\n",
    "            self.low_heap.insert(self.high_heap.extract_min())\n",
    "    \n",
    "    def get_median(self):\n",
    "        '''\n",
    "        Min_heap will have at most one more element than max heap\n",
    "        '''\n",
    "        if self.size % 2 == 0:\n",
    "            return self.low_heap.get_root() # arbitrary\n",
    "        else:\n",
    "            if self.low_heap.size > self.high_heap.size:\n",
    "                return self.low_heap.get_root()\n",
    "            else:\n",
    "                return self.high_heap.get_root()"
   ]
  },
  {
   "cell_type": "code",
   "execution_count": 10,
   "metadata": {},
   "outputs": [],
   "source": [
    "from s3_helpers import get_s3_bucket, get_object_from_bucket, add_object_to_bucket\n",
    "\n",
    "stanford_bucket = get_s3_bucket('stanford-algorithms')\n",
    "\n",
    "input_list = get_object_from_bucket(stanford_bucket, 'median-maintenance')"
   ]
  },
  {
   "cell_type": "code",
   "execution_count": 11,
   "metadata": {},
   "outputs": [],
   "source": [
    "m = MedianMaintainer()\n",
    "median_sum = 0\n",
    "for i, el in enumerate(input_list):\n",
    "    m.insert(el)\n",
    "    med = m.get_median()\n",
    "    median_sum += med"
   ]
  },
  {
   "cell_type": "code",
   "execution_count": 12,
   "metadata": {},
   "outputs": [
    {
     "data": {
      "text/plain": [
       "46831213"
      ]
     },
     "execution_count": 12,
     "metadata": {},
     "output_type": "execute_result"
    }
   ],
   "source": [
    "median_sum"
   ]
  },
  {
   "cell_type": "markdown",
   "metadata": {},
   "source": [
    "Correct answer!"
   ]
  }
 ],
 "metadata": {
  "kernelspec": {
   "display_name": "Python 3",
   "language": "python",
   "name": "python3"
  },
  "language_info": {
   "codemirror_mode": {
    "name": "ipython",
    "version": 3
   },
   "file_extension": ".py",
   "mimetype": "text/x-python",
   "name": "python",
   "nbconvert_exporter": "python",
   "pygments_lexer": "ipython3",
   "version": "3.6.4"
  }
 },
 "nbformat": 4,
 "nbformat_minor": 2
}
