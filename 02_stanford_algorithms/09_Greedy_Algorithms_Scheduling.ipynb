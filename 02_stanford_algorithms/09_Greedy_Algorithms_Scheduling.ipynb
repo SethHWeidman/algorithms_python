{
 "cells": [
  {
   "cell_type": "markdown",
   "metadata": {},
   "source": [
    "# Scheduling algorithm"
   ]
  },
  {
   "cell_type": "markdown",
   "metadata": {},
   "source": [
    "Implements the scheduling algorithm, which finds the order of jobs with the minimum weighted completion time. "
   ]
  },
  {
   "cell_type": "markdown",
   "metadata": {},
   "source": [
    "Run the below to read in the text file provided by the course:"
   ]
  },
  {
   "cell_type": "code",
   "execution_count": 7,
   "metadata": {},
   "outputs": [],
   "source": [
    "from s3_helpers import get_s3_bucket, get_object_from_bucket, add_object_to_bucket"
   ]
  },
  {
   "cell_type": "code",
   "execution_count": 9,
   "metadata": {},
   "outputs": [],
   "source": [
    "stanford_bucket = get_s3_bucket('stanford-algorithms')"
   ]
  },
  {
   "cell_type": "code",
   "execution_count": 10,
   "metadata": {},
   "outputs": [],
   "source": [
    "input_list = get_object_from_bucket(stanford_bucket, 'scheduling-list')"
   ]
  },
  {
   "cell_type": "markdown",
   "metadata": {},
   "source": [
    "First element in each list is the weight, second element is the length."
   ]
  },
  {
   "cell_type": "markdown",
   "metadata": {},
   "source": [
    "Strategy: create list of tuples, first element is index in list, second element is difference."
   ]
  },
  {
   "cell_type": "code",
   "execution_count": 14,
   "metadata": {},
   "outputs": [],
   "source": [
    "def min_completion_time(jobs_list, sort_by=\"ratio\"):\n",
    "    '''\n",
    "    Computes the minimum weighted completion time using one of two different\n",
    "    greedy algorithms: one that sorts the jobs by (job_weight - job_length)\n",
    "    and the other that sorts the jobs by (job_weight / job_length)\n",
    "    '''\n",
    "    if sort_by not in ['difference', 'ratio']:\n",
    "        print(\"sort_by argument should be either 'difference' or 'ratio'\")\n",
    "        raise\n",
    "        \n",
    "    job_diff = []\n",
    "    for i, el in enumerate(jobs_list):\n",
    "        weight = el[0]\n",
    "        length = el[1]\n",
    "        if sort_by == 'difference':\n",
    "            diff = weight - length\n",
    "        else:\n",
    "            diff = weight * 1.0 / length\n",
    "        job_diff.append((i, diff, weight, length))\n",
    "    \n",
    "    # Sorts the list of tuples, first by the second element, then by the third\n",
    "    answer = sorted(job_diff, key=lambda tup: (tup[1], tup[2]), reverse=True)\n",
    "    \n",
    "    completion_sum = 0\n",
    "    total_length = 0\n",
    "    for i, el in enumerate(answer):\n",
    "        total_length += el[3]\n",
    "        completion_sum += el[2] * total_length\n",
    "    \n",
    "    return completion_sum\n"
   ]
  },
  {
   "cell_type": "code",
   "execution_count": 15,
   "metadata": {},
   "outputs": [
    {
     "data": {
      "text/plain": [
       "69119377652"
      ]
     },
     "execution_count": 15,
     "metadata": {},
     "output_type": "execute_result"
    }
   ],
   "source": [
    "min_completion_time(input_list, sort_by=\"difference\")"
   ]
  },
  {
   "cell_type": "code",
   "execution_count": 16,
   "metadata": {},
   "outputs": [
    {
     "data": {
      "text/plain": [
       "67311454237"
      ]
     },
     "execution_count": 16,
     "metadata": {},
     "output_type": "execute_result"
    }
   ],
   "source": [
    "min_completion_time(input_list, sort_by=\"ratio\")"
   ]
  },
  {
   "cell_type": "markdown",
   "metadata": {},
   "source": [
    "Correct answers!"
   ]
  }
 ],
 "metadata": {
  "kernelspec": {
   "display_name": "Python 3",
   "language": "python",
   "name": "python3"
  },
  "language_info": {
   "codemirror_mode": {
    "name": "ipython",
    "version": 3
   },
   "file_extension": ".py",
   "mimetype": "text/x-python",
   "name": "python",
   "nbconvert_exporter": "python",
   "pygments_lexer": "ipython3",
   "version": "3.6.5"
  }
 },
 "nbformat": 4,
 "nbformat_minor": 2
}
